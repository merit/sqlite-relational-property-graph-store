{
 "cells": [
  {
   "cell_type": "markdown",
   "id": "d658ce8a",
   "metadata": {},
   "source": [
    "# Implementing [Schmid 2019] using SQLite\n",
    "\n",
    "[Bradley P. Allen](https://www.bradleypallen.org), first version 2022-05-08, second version 2023-07-30"
   ]
  },
  {
   "cell_type": "markdown",
   "id": "6e232e71",
   "metadata": {},
   "source": [
    "## Overview\n",
    "\n",
    "This Python notebook gist demonstrates the use of a very simple implementation of a relational database approach to storing and querying labeled property graphs as described by Matthias Schmid of the University of Passau [[1]](https://dl.acm.org/doi/abs/10.1145/3366030.3366046)."
   ]
  },
  {
   "cell_type": "markdown",
   "id": "c4c4e3ca",
   "metadata": {},
   "source": [
    "## Preliminaries"
   ]
  },
  {
   "cell_type": "markdown",
   "id": "97a8fe93",
   "metadata": {},
   "source": [
    "### Python library imports\n",
    "\n",
    "First, we import some Python libraries. We'll use ```pandas``` to print out query results in an attractive format, Simon Willison's ```sqlite_utils``` to make the task of manipulating the SQLite database easy, and ```sqlite_graph``` to provide utility functions to set up the adjacency tables for the graph store and perform neighborhood queries using CTEs."
   ]
  },
  {
   "cell_type": "code",
   "execution_count": 1,
   "id": "e5908dbb",
   "metadata": {},
   "outputs": [],
   "source": [
    "import pandas as pd\n",
    "from sqlite_utils import Database\n",
    "from sqlite_graph import generate_adjacency_tables, in_neighborhood_cte, out_neighborhood_cte, column_pair"
   ]
  },
  {
   "cell_type": "markdown",
   "id": "4b27ae79",
   "metadata": {},
   "source": [
    "### Demo database cleanup\n",
    "\n",
    "We'll also delete and recreate the SQLite database file we'll be using, just to keep things simple."
   ]
  },
  {
   "cell_type": "code",
   "execution_count": 2,
   "id": "e7f94060",
   "metadata": {},
   "outputs": [],
   "source": [
    "!rm -f test_schmid.db"
   ]
  },
  {
   "cell_type": "code",
   "execution_count": 3,
   "id": "92ce3f4f",
   "metadata": {},
   "outputs": [],
   "source": [
    "db = Database('test_schmid.db')"
   ]
  },
  {
   "cell_type": "markdown",
   "id": "cf59a2db",
   "metadata": {},
   "source": [
    "### A utility function for displaying result sets as Pandas DataFrames\n",
    "\n",
    "Just a little thing to display results in a more readable fashion than simply printing rows out."
   ]
  },
  {
   "cell_type": "code",
   "execution_count": 4,
   "id": "2c1d111d",
   "metadata": {},
   "outputs": [],
   "source": [
    "def as_dataframe(rows, columns=None):\n",
    "    df = pd.DataFrame( rows, columns=columns )\n",
    "    df.index = [''] * len(df)\n",
    "    return df"
   ]
  },
  {
   "cell_type": "markdown",
   "id": "260bd9f2",
   "metadata": {},
   "source": [
    "## Loading the graph\n",
    "\n",
    "We hew closely to the example in Schmid's paper, specifically the data shown in Tables 2, 3, and 4 of [[1]](https://dl.acm.org/doi/abs/10.1145/3366030.3366046).\n",
    "\n",
    "<img src=\"example-social-graph.png\" width=\"1000\">"
   ]
  },
  {
   "cell_type": "markdown",
   "id": "5e56af36",
   "metadata": {},
   "source": [
    "### The vertex table"
   ]
  },
  {
   "cell_type": "code",
   "execution_count": 5,
   "id": "bec3e80d",
   "metadata": {},
   "outputs": [
    {
     "data": {
      "text/plain": [
       "<Table vertex (vid, attributes)>"
      ]
     },
     "execution_count": 5,
     "metadata": {},
     "output_type": "execute_result"
    }
   ],
   "source": [
    "db['vertex'].insert_all([\n",
    "    { \"vid\": 1, \"attributes\": { \"lastName\": \"Mueller\", \"firstName\": \"David\" } },\n",
    "    { \"vid\": 2, \"attributes\": { \"lastName\": \"Choi\", \"firstName\": \"Jae-Jin\" } },\n",
    "    { \"vid\": 3, \"attributes\": { \"lastName\": \"Yamamoto\", \"firstName\": \"Akira\" } },\n",
    "    { \"vid\": 4, \"attributes\": { \"lastName\": \"Silva\", \"firstName\": \"Ana\" } },\n",
    "    { \"vid\": 5, \"attributes\": { \"lastName\": \"Poussin\", \"firstName\": \"Jacques\" } },\n",
    "    { \"vid\": 6, \"attributes\": { \"lastName\": \"Professorson\", \"firstName\": \"Derek\" } },\n",
    "    { \"vid\": 7, \"attributes\": { \"lastName\": \"Abadi\", \"firstName\": \"Madiha\" } },\n",
    "], pk='vid')"
   ]
  },
  {
   "cell_type": "code",
   "execution_count": 6,
   "id": "d2a4bbe6",
   "metadata": {},
   "outputs": [
    {
     "name": "stdout",
     "output_type": "stream",
     "text": [
      "CREATE TABLE [vertex] (\n",
      "   [vid] INTEGER PRIMARY KEY,\n",
      "   [attributes] TEXT\n",
      ")\n"
     ]
    }
   ],
   "source": [
    "print(db['vertex'].schema)"
   ]
  },
  {
   "cell_type": "code",
   "execution_count": 7,
   "id": "436ec81b",
   "metadata": {},
   "outputs": [
    {
     "data": {
      "text/html": [
       "<div>\n",
       "<style scoped>\n",
       "    .dataframe tbody tr th:only-of-type {\n",
       "        vertical-align: middle;\n",
       "    }\n",
       "\n",
       "    .dataframe tbody tr th {\n",
       "        vertical-align: top;\n",
       "    }\n",
       "\n",
       "    .dataframe thead th {\n",
       "        text-align: right;\n",
       "    }\n",
       "</style>\n",
       "<table border=\"1\" class=\"dataframe\">\n",
       "  <thead>\n",
       "    <tr style=\"text-align: right;\">\n",
       "      <th></th>\n",
       "      <th>vid</th>\n",
       "      <th>attributes</th>\n",
       "    </tr>\n",
       "  </thead>\n",
       "  <tbody>\n",
       "    <tr>\n",
       "      <th></th>\n",
       "      <td>1</td>\n",
       "      <td>{\"lastName\": \"Mueller\", \"firstName\": \"David\"}</td>\n",
       "    </tr>\n",
       "    <tr>\n",
       "      <th></th>\n",
       "      <td>2</td>\n",
       "      <td>{\"lastName\": \"Choi\", \"firstName\": \"Jae-Jin\"}</td>\n",
       "    </tr>\n",
       "    <tr>\n",
       "      <th></th>\n",
       "      <td>3</td>\n",
       "      <td>{\"lastName\": \"Yamamoto\", \"firstName\": \"Akira\"}</td>\n",
       "    </tr>\n",
       "    <tr>\n",
       "      <th></th>\n",
       "      <td>4</td>\n",
       "      <td>{\"lastName\": \"Silva\", \"firstName\": \"Ana\"}</td>\n",
       "    </tr>\n",
       "    <tr>\n",
       "      <th></th>\n",
       "      <td>5</td>\n",
       "      <td>{\"lastName\": \"Poussin\", \"firstName\": \"Jacques\"}</td>\n",
       "    </tr>\n",
       "    <tr>\n",
       "      <th></th>\n",
       "      <td>6</td>\n",
       "      <td>{\"lastName\": \"Professorson\", \"firstName\": \"Der...</td>\n",
       "    </tr>\n",
       "    <tr>\n",
       "      <th></th>\n",
       "      <td>7</td>\n",
       "      <td>{\"lastName\": \"Abadi\", \"firstName\": \"Madiha\"}</td>\n",
       "    </tr>\n",
       "  </tbody>\n",
       "</table>\n",
       "</div>"
      ],
      "text/plain": [
       "  vid                                         attributes\n",
       "    1      {\"lastName\": \"Mueller\", \"firstName\": \"David\"}\n",
       "    2       {\"lastName\": \"Choi\", \"firstName\": \"Jae-Jin\"}\n",
       "    3     {\"lastName\": \"Yamamoto\", \"firstName\": \"Akira\"}\n",
       "    4          {\"lastName\": \"Silva\", \"firstName\": \"Ana\"}\n",
       "    5    {\"lastName\": \"Poussin\", \"firstName\": \"Jacques\"}\n",
       "    6  {\"lastName\": \"Professorson\", \"firstName\": \"Der...\n",
       "    7       {\"lastName\": \"Abadi\", \"firstName\": \"Madiha\"}"
      ]
     },
     "execution_count": 7,
     "metadata": {},
     "output_type": "execute_result"
    }
   ],
   "source": [
    "as_dataframe( [ row for row in db['vertex'].rows ] )"
   ]
  },
  {
   "cell_type": "markdown",
   "id": "1afbe37f",
   "metadata": {},
   "source": [
    "### The edge table"
   ]
  },
  {
   "cell_type": "code",
   "execution_count": 8,
   "id": "8ae081d4",
   "metadata": {},
   "outputs": [
    {
     "data": {
      "text/plain": [
       "<Table edge (eid, sid, tid, label, attributes)>"
      ]
     },
     "execution_count": 8,
     "metadata": {},
     "output_type": "execute_result"
    }
   ],
   "source": [
    "db['edge'].insert_all([ \n",
    "    { \"eid\": 4, \"sid\": 1, \"tid\": 2, \"label\": \"knows\", \"attributes\": { \"since\": \"2018-06-14\" } },\n",
    "    { \"eid\": 5, \"sid\": 1, \"tid\": 3, \"label\": \"knows\", \"attributes\": { \"since\": \"2016-03-21\" } },\n",
    "    { \"eid\": 6, \"sid\": 2, \"tid\": 7, \"label\": \"likes\" },\n",
    "], pk='eid')"
   ]
  },
  {
   "cell_type": "code",
   "execution_count": 9,
   "id": "8d80445f",
   "metadata": {},
   "outputs": [
    {
     "name": "stdout",
     "output_type": "stream",
     "text": [
      "CREATE TABLE [edge] (\n",
      "   [eid] INTEGER PRIMARY KEY,\n",
      "   [sid] INTEGER,\n",
      "   [tid] INTEGER,\n",
      "   [label] TEXT,\n",
      "   [attributes] TEXT\n",
      ")\n"
     ]
    }
   ],
   "source": [
    "print(db['edge'].schema)"
   ]
  },
  {
   "cell_type": "code",
   "execution_count": 10,
   "id": "efa99a21",
   "metadata": {},
   "outputs": [
    {
     "data": {
      "text/html": [
       "<div>\n",
       "<style scoped>\n",
       "    .dataframe tbody tr th:only-of-type {\n",
       "        vertical-align: middle;\n",
       "    }\n",
       "\n",
       "    .dataframe tbody tr th {\n",
       "        vertical-align: top;\n",
       "    }\n",
       "\n",
       "    .dataframe thead th {\n",
       "        text-align: right;\n",
       "    }\n",
       "</style>\n",
       "<table border=\"1\" class=\"dataframe\">\n",
       "  <thead>\n",
       "    <tr style=\"text-align: right;\">\n",
       "      <th></th>\n",
       "      <th>eid</th>\n",
       "      <th>sid</th>\n",
       "      <th>tid</th>\n",
       "      <th>label</th>\n",
       "      <th>attributes</th>\n",
       "    </tr>\n",
       "  </thead>\n",
       "  <tbody>\n",
       "    <tr>\n",
       "      <th></th>\n",
       "      <td>4</td>\n",
       "      <td>1</td>\n",
       "      <td>2</td>\n",
       "      <td>knows</td>\n",
       "      <td>{\"since\": \"2018-06-14\"}</td>\n",
       "    </tr>\n",
       "    <tr>\n",
       "      <th></th>\n",
       "      <td>5</td>\n",
       "      <td>1</td>\n",
       "      <td>3</td>\n",
       "      <td>knows</td>\n",
       "      <td>{\"since\": \"2016-03-21\"}</td>\n",
       "    </tr>\n",
       "    <tr>\n",
       "      <th></th>\n",
       "      <td>6</td>\n",
       "      <td>2</td>\n",
       "      <td>7</td>\n",
       "      <td>likes</td>\n",
       "      <td>None</td>\n",
       "    </tr>\n",
       "  </tbody>\n",
       "</table>\n",
       "</div>"
      ],
      "text/plain": [
       "  eid  sid  tid  label               attributes\n",
       "    4    1    2  knows  {\"since\": \"2018-06-14\"}\n",
       "    5    1    3  knows  {\"since\": \"2016-03-21\"}\n",
       "    6    2    7  likes                     None"
      ]
     },
     "execution_count": 10,
     "metadata": {},
     "output_type": "execute_result"
    }
   ],
   "source": [
    "as_dataframe( [ row for row in db['edge'].rows ] )"
   ]
  },
  {
   "cell_type": "markdown",
   "id": "b5c9d709",
   "metadata": {},
   "source": [
    "### The adjacency tables"
   ]
  },
  {
   "cell_type": "code",
   "execution_count": 11,
   "id": "806fe1ee",
   "metadata": {},
   "outputs": [],
   "source": [
    "generate_adjacency_tables(db)"
   ]
  },
  {
   "cell_type": "code",
   "execution_count": 12,
   "id": "9d7877c8",
   "metadata": {},
   "outputs": [
    {
     "name": "stdout",
     "output_type": "stream",
     "text": [
      "CREATE TABLE [outgoing] (\n",
      "   [vid] INTEGER PRIMARY KEY,\n",
      "   [label_54] TEXT,\n",
      "   [edges_54] TEXT,\n",
      "   [label_38] TEXT,\n",
      "   [edges_38] TEXT\n",
      ")\n"
     ]
    }
   ],
   "source": [
    "print(db['outgoing'].schema)"
   ]
  },
  {
   "cell_type": "code",
   "execution_count": 13,
   "id": "9e500906",
   "metadata": {},
   "outputs": [
    {
     "data": {
      "text/html": [
       "<div>\n",
       "<style scoped>\n",
       "    .dataframe tbody tr th:only-of-type {\n",
       "        vertical-align: middle;\n",
       "    }\n",
       "\n",
       "    .dataframe tbody tr th {\n",
       "        vertical-align: top;\n",
       "    }\n",
       "\n",
       "    .dataframe thead th {\n",
       "        text-align: right;\n",
       "    }\n",
       "</style>\n",
       "<table border=\"1\" class=\"dataframe\">\n",
       "  <thead>\n",
       "    <tr style=\"text-align: right;\">\n",
       "      <th></th>\n",
       "      <th>vid</th>\n",
       "      <th>label_54</th>\n",
       "      <th>edges_54</th>\n",
       "      <th>label_38</th>\n",
       "      <th>edges_38</th>\n",
       "    </tr>\n",
       "  </thead>\n",
       "  <tbody>\n",
       "    <tr>\n",
       "      <th></th>\n",
       "      <td>1</td>\n",
       "      <td>knows</td>\n",
       "      <td>[{\"eid\": 4, \"tid\": 2}, {\"eid\": 5, \"tid\": 3}]</td>\n",
       "      <td>None</td>\n",
       "      <td>None</td>\n",
       "    </tr>\n",
       "    <tr>\n",
       "      <th></th>\n",
       "      <td>2</td>\n",
       "      <td>None</td>\n",
       "      <td>None</td>\n",
       "      <td>likes</td>\n",
       "      <td>[{\"eid\": 6, \"tid\": 7}]</td>\n",
       "    </tr>\n",
       "  </tbody>\n",
       "</table>\n",
       "</div>"
      ],
      "text/plain": [
       "  vid label_54                                      edges_54 label_38  \\\n",
       "    1    knows  [{\"eid\": 4, \"tid\": 2}, {\"eid\": 5, \"tid\": 3}]     None   \n",
       "    2     None                                          None    likes   \n",
       "\n",
       "                edges_38  \n",
       "                    None  \n",
       "  [{\"eid\": 6, \"tid\": 7}]  "
      ]
     },
     "execution_count": 13,
     "metadata": {},
     "output_type": "execute_result"
    }
   ],
   "source": [
    "as_dataframe( [ row for row in db['outgoing'].rows ] )"
   ]
  },
  {
   "cell_type": "code",
   "execution_count": 14,
   "id": "8308b575",
   "metadata": {},
   "outputs": [
    {
     "name": "stdout",
     "output_type": "stream",
     "text": [
      "CREATE TABLE [incoming] (\n",
      "   [vid] INTEGER PRIMARY KEY,\n",
      "   [label_54] TEXT,\n",
      "   [edges_54] TEXT,\n",
      "   [label_38] TEXT,\n",
      "   [edges_38] TEXT\n",
      ")\n"
     ]
    }
   ],
   "source": [
    "print(db['incoming'].schema)"
   ]
  },
  {
   "cell_type": "code",
   "execution_count": 15,
   "id": "3f9860e1",
   "metadata": {},
   "outputs": [
    {
     "data": {
      "text/html": [
       "<div>\n",
       "<style scoped>\n",
       "    .dataframe tbody tr th:only-of-type {\n",
       "        vertical-align: middle;\n",
       "    }\n",
       "\n",
       "    .dataframe tbody tr th {\n",
       "        vertical-align: top;\n",
       "    }\n",
       "\n",
       "    .dataframe thead th {\n",
       "        text-align: right;\n",
       "    }\n",
       "</style>\n",
       "<table border=\"1\" class=\"dataframe\">\n",
       "  <thead>\n",
       "    <tr style=\"text-align: right;\">\n",
       "      <th></th>\n",
       "      <th>vid</th>\n",
       "      <th>label_54</th>\n",
       "      <th>edges_54</th>\n",
       "      <th>label_38</th>\n",
       "      <th>edges_38</th>\n",
       "    </tr>\n",
       "  </thead>\n",
       "  <tbody>\n",
       "    <tr>\n",
       "      <th></th>\n",
       "      <td>2</td>\n",
       "      <td>knows</td>\n",
       "      <td>[{\"eid\": 4, \"sid\": 1}]</td>\n",
       "      <td>None</td>\n",
       "      <td>None</td>\n",
       "    </tr>\n",
       "    <tr>\n",
       "      <th></th>\n",
       "      <td>3</td>\n",
       "      <td>knows</td>\n",
       "      <td>[{\"eid\": 5, \"sid\": 1}]</td>\n",
       "      <td>None</td>\n",
       "      <td>None</td>\n",
       "    </tr>\n",
       "    <tr>\n",
       "      <th></th>\n",
       "      <td>7</td>\n",
       "      <td>None</td>\n",
       "      <td>None</td>\n",
       "      <td>likes</td>\n",
       "      <td>[{\"eid\": 6, \"sid\": 2}]</td>\n",
       "    </tr>\n",
       "  </tbody>\n",
       "</table>\n",
       "</div>"
      ],
      "text/plain": [
       "  vid label_54                edges_54 label_38                edges_38\n",
       "    2    knows  [{\"eid\": 4, \"sid\": 1}]     None                    None\n",
       "    3    knows  [{\"eid\": 5, \"sid\": 1}]     None                    None\n",
       "    7     None                    None    likes  [{\"eid\": 6, \"sid\": 2}]"
      ]
     },
     "execution_count": 15,
     "metadata": {},
     "output_type": "execute_result"
    }
   ],
   "source": [
    "as_dataframe( [ row for row in db['incoming'].rows ] )"
   ]
  },
  {
   "cell_type": "markdown",
   "id": "b8d4f99a",
   "metadata": {},
   "source": [
    "## Querying the graph"
   ]
  },
  {
   "cell_type": "code",
   "execution_count": 16,
   "id": "c3207745",
   "metadata": {},
   "outputs": [
    {
     "data": {
      "text/html": [
       "<div>\n",
       "<style scoped>\n",
       "    .dataframe tbody tr th:only-of-type {\n",
       "        vertical-align: middle;\n",
       "    }\n",
       "\n",
       "    .dataframe tbody tr th {\n",
       "        vertical-align: top;\n",
       "    }\n",
       "\n",
       "    .dataframe thead th {\n",
       "        text-align: right;\n",
       "    }\n",
       "</style>\n",
       "<table border=\"1\" class=\"dataframe\">\n",
       "  <thead>\n",
       "    <tr style=\"text-align: right;\">\n",
       "      <th></th>\n",
       "      <th>vid</th>\n",
       "      <th>eid</th>\n",
       "      <th>label</th>\n",
       "      <th>tid</th>\n",
       "    </tr>\n",
       "  </thead>\n",
       "  <tbody>\n",
       "    <tr>\n",
       "      <th></th>\n",
       "      <td>1</td>\n",
       "      <td>4</td>\n",
       "      <td>knows</td>\n",
       "      <td>2</td>\n",
       "    </tr>\n",
       "    <tr>\n",
       "      <th></th>\n",
       "      <td>1</td>\n",
       "      <td>5</td>\n",
       "      <td>knows</td>\n",
       "      <td>3</td>\n",
       "    </tr>\n",
       "  </tbody>\n",
       "</table>\n",
       "</div>"
      ],
      "text/plain": [
       "  vid  eid  label  tid\n",
       "    1    4  knows    2\n",
       "    1    5  knows    3"
      ]
     },
     "execution_count": 16,
     "metadata": {},
     "output_type": "execute_result"
    }
   ],
   "source": [
    "as_dataframe([ row for row in db.execute(out_neighborhood_cte(1, \"knows\")).fetchall() ],\n",
    "             columns=['vid', 'eid', 'label', 'tid'] )"
   ]
  },
  {
   "cell_type": "code",
   "execution_count": 17,
   "id": "3cf0f5c2",
   "metadata": {},
   "outputs": [
    {
     "data": {
      "text/html": [
       "<div>\n",
       "<style scoped>\n",
       "    .dataframe tbody tr th:only-of-type {\n",
       "        vertical-align: middle;\n",
       "    }\n",
       "\n",
       "    .dataframe tbody tr th {\n",
       "        vertical-align: top;\n",
       "    }\n",
       "\n",
       "    .dataframe thead th {\n",
       "        text-align: right;\n",
       "    }\n",
       "</style>\n",
       "<table border=\"1\" class=\"dataframe\">\n",
       "  <thead>\n",
       "    <tr style=\"text-align: right;\">\n",
       "      <th></th>\n",
       "      <th>vid</th>\n",
       "      <th>eid</th>\n",
       "      <th>label</th>\n",
       "      <th>tid</th>\n",
       "    </tr>\n",
       "  </thead>\n",
       "  <tbody>\n",
       "    <tr>\n",
       "      <th></th>\n",
       "      <td>2</td>\n",
       "      <td>6</td>\n",
       "      <td>likes</td>\n",
       "      <td>7</td>\n",
       "    </tr>\n",
       "  </tbody>\n",
       "</table>\n",
       "</div>"
      ],
      "text/plain": [
       "  vid  eid  label  tid\n",
       "    2    6  likes    7"
      ]
     },
     "execution_count": 17,
     "metadata": {},
     "output_type": "execute_result"
    }
   ],
   "source": [
    "as_dataframe([ row for row in db.execute(out_neighborhood_cte(2, \"likes\")).fetchall() ],\n",
    "             columns=['vid', 'eid', 'label', 'tid'] )"
   ]
  },
  {
   "cell_type": "markdown",
   "id": "f8ebfe6f",
   "metadata": {},
   "source": [
    "### Who does David Mueller know?"
   ]
  },
  {
   "cell_type": "code",
   "execution_count": 18,
   "id": "720091d1",
   "metadata": {},
   "outputs": [],
   "source": [
    "query_1 = (\n",
    "    f'with unshred_edges as ( {out_neighborhood_cte(1, \"knows\")} ),'\n",
    "    ' targets as ( select tid from unshred_edges )'\n",
    "    ' select json_extract(attributes, \"$.lastName\"),'\n",
    "    ' json_extract(attributes, \"$.firstName\")'\n",
    "    ' from vertex, targets where vertex.vid = tid'\n",
    ")"
   ]
  },
  {
   "cell_type": "code",
   "execution_count": 19,
   "id": "a86cad78",
   "metadata": {},
   "outputs": [
    {
     "data": {
      "text/html": [
       "<div>\n",
       "<style scoped>\n",
       "    .dataframe tbody tr th:only-of-type {\n",
       "        vertical-align: middle;\n",
       "    }\n",
       "\n",
       "    .dataframe tbody tr th {\n",
       "        vertical-align: top;\n",
       "    }\n",
       "\n",
       "    .dataframe thead th {\n",
       "        text-align: right;\n",
       "    }\n",
       "</style>\n",
       "<table border=\"1\" class=\"dataframe\">\n",
       "  <thead>\n",
       "    <tr style=\"text-align: right;\">\n",
       "      <th></th>\n",
       "      <th>lastName</th>\n",
       "      <th>firstName</th>\n",
       "    </tr>\n",
       "  </thead>\n",
       "  <tbody>\n",
       "    <tr>\n",
       "      <th></th>\n",
       "      <td>Choi</td>\n",
       "      <td>Jae-Jin</td>\n",
       "    </tr>\n",
       "    <tr>\n",
       "      <th></th>\n",
       "      <td>Yamamoto</td>\n",
       "      <td>Akira</td>\n",
       "    </tr>\n",
       "  </tbody>\n",
       "</table>\n",
       "</div>"
      ],
      "text/plain": [
       "  lastName firstName\n",
       "      Choi   Jae-Jin\n",
       "  Yamamoto     Akira"
      ]
     },
     "execution_count": 19,
     "metadata": {},
     "output_type": "execute_result"
    }
   ],
   "source": [
    "as_dataframe( [ row for row in db.execute(query_1).fetchall() ],\n",
    "             columns=['lastName', 'firstName'] )"
   ]
  },
  {
   "cell_type": "markdown",
   "id": "dbcf6320",
   "metadata": {},
   "source": [
    "### Who do people David Mueller knows like? "
   ]
  },
  {
   "cell_type": "markdown",
   "id": "a81476a3",
   "metadata": {},
   "source": [
    "#### Using the edge table"
   ]
  },
  {
   "cell_type": "code",
   "execution_count": 20,
   "id": "a323e687",
   "metadata": {},
   "outputs": [],
   "source": [
    "query_2 = (\n",
    "    f'select json_extract(vertex.attributes, \"$.lastName\"),'\n",
    "    ' json_extract(vertex.attributes, \"$.firstName\")'\n",
    "    ' from vertex, edge as e1, edge as e2 where'\n",
    "    ' e1.sid = 1 and'\n",
    "    ' e1.label = \"knows\" and'\n",
    "    ' e2.sid = e1.tid and'\n",
    "    ' e2.label = \"likes\" and'\n",
    "    ' vertex.vid = e2.tid'\n",
    ")"
   ]
  },
  {
   "cell_type": "code",
   "execution_count": 21,
   "id": "845d7bbd",
   "metadata": {},
   "outputs": [
    {
     "data": {
      "text/html": [
       "<div>\n",
       "<style scoped>\n",
       "    .dataframe tbody tr th:only-of-type {\n",
       "        vertical-align: middle;\n",
       "    }\n",
       "\n",
       "    .dataframe tbody tr th {\n",
       "        vertical-align: top;\n",
       "    }\n",
       "\n",
       "    .dataframe thead th {\n",
       "        text-align: right;\n",
       "    }\n",
       "</style>\n",
       "<table border=\"1\" class=\"dataframe\">\n",
       "  <thead>\n",
       "    <tr style=\"text-align: right;\">\n",
       "      <th></th>\n",
       "      <th>lastName</th>\n",
       "      <th>firstName</th>\n",
       "    </tr>\n",
       "  </thead>\n",
       "  <tbody>\n",
       "    <tr>\n",
       "      <th></th>\n",
       "      <td>Abadi</td>\n",
       "      <td>Madiha</td>\n",
       "    </tr>\n",
       "  </tbody>\n",
       "</table>\n",
       "</div>"
      ],
      "text/plain": [
       " lastName firstName\n",
       "    Abadi    Madiha"
      ]
     },
     "execution_count": 21,
     "metadata": {},
     "output_type": "execute_result"
    }
   ],
   "source": [
    "as_dataframe( [ row for row in db.execute(query_2).fetchall() ],\n",
    "             columns=['lastName', 'firstName'] )"
   ]
  },
  {
   "cell_type": "markdown",
   "id": "21ad3b81",
   "metadata": {},
   "source": [
    "#### Using the outgoing adjacency table"
   ]
  },
  {
   "cell_type": "code",
   "execution_count": 22,
   "id": "a43ab9d7",
   "metadata": {},
   "outputs": [],
   "source": [
    "vid_0 = \"1\"\n",
    "(edge_type_0, edge_type_1) = (\"knows\", \"likes\")\n",
    "(label_0, edges_0) = column_pair(edge_type_0)\n",
    "(label_1, edges_1) = column_pair(edge_type_1)\n",
    "cte_0 = (\n",
    "    'edges_0 as ( select outgoing.vid as vid_0, json_extract(value, \"$.eid\") as eid,'\n",
    "    f' {label_0} as label_0, json_extract(value, \"$.tid\") as tid'\n",
    "    f' from outgoing, json_each(outgoing.{edges_0})'\n",
    "    f' where vid_0 = \"{vid_0}\" and label_0 = \"knows\" )'\n",
    ")\n",
    "cte_1 = (\n",
    "    'edges_1 as ( select outgoing.vid as vid_1, json_extract(value, \"$.eid\") as eid,'\n",
    "    f' {label_1} as label_1, json_extract(value, \"$.tid\") as tid'\n",
    "    f' from edges_0, outgoing, json_each(outgoing.{edges_1})'\n",
    "    ' where vid_1 = edges_0.tid and label_1 = \"likes\")'\n",
    ")\n",
    "cte_2 = 'targets as ( select tid from edges_1 )'\n",
    "query_3 = (\n",
    "    f'with {cte_0}, {cte_1}, {cte_2}'\n",
    "    ' select json_extract(attributes, \"$.lastName\"), json_extract(attributes, \"$.firstName\")'\n",
    "    ' from vertex, targets'\n",
    "    ' where vertex.vid = tid'\n",
    ")"
   ]
  },
  {
   "cell_type": "code",
   "execution_count": 23,
   "id": "12890fdb",
   "metadata": {},
   "outputs": [
    {
     "data": {
      "text/html": [
       "<div>\n",
       "<style scoped>\n",
       "    .dataframe tbody tr th:only-of-type {\n",
       "        vertical-align: middle;\n",
       "    }\n",
       "\n",
       "    .dataframe tbody tr th {\n",
       "        vertical-align: top;\n",
       "    }\n",
       "\n",
       "    .dataframe thead th {\n",
       "        text-align: right;\n",
       "    }\n",
       "</style>\n",
       "<table border=\"1\" class=\"dataframe\">\n",
       "  <thead>\n",
       "    <tr style=\"text-align: right;\">\n",
       "      <th></th>\n",
       "      <th>lastName</th>\n",
       "      <th>firstName</th>\n",
       "    </tr>\n",
       "  </thead>\n",
       "  <tbody>\n",
       "    <tr>\n",
       "      <th></th>\n",
       "      <td>Abadi</td>\n",
       "      <td>Madiha</td>\n",
       "    </tr>\n",
       "  </tbody>\n",
       "</table>\n",
       "</div>"
      ],
      "text/plain": [
       " lastName firstName\n",
       "    Abadi    Madiha"
      ]
     },
     "execution_count": 23,
     "metadata": {},
     "output_type": "execute_result"
    }
   ],
   "source": [
    "as_dataframe( [ row for row in db.execute(query_3).fetchall() ],\n",
    "             columns=['lastName', 'firstName'] )"
   ]
  },
  {
   "cell_type": "markdown",
   "id": "8d2b0cfe",
   "metadata": {},
   "source": [
    "### Who has David Mueller known the longest?"
   ]
  },
  {
   "cell_type": "code",
   "execution_count": 24,
   "id": "5022871f",
   "metadata": {},
   "outputs": [],
   "source": [
    "query_4 = (\n",
    "    f'with unshred_edges as ( {out_neighborhood_cte(1, \"knows\")} ),'\n",
    "    ' targets as ( select eid, tid from unshred_edges )'\n",
    "    ' select json_extract(vertex.attributes, \"$.lastName\"),'\n",
    "    ' json_extract(vertex.attributes, \"$.firstName\"),'\n",
    "    ' min(json_extract(edge.attributes, \"$.since\"))'\n",
    "    ' from vertex, edge, targets where vertex.vid = targets.tid and edge.eid = targets.eid'\n",
    ")"
   ]
  },
  {
   "cell_type": "code",
   "execution_count": 25,
   "id": "38c761f5",
   "metadata": {},
   "outputs": [
    {
     "data": {
      "text/html": [
       "<div>\n",
       "<style scoped>\n",
       "    .dataframe tbody tr th:only-of-type {\n",
       "        vertical-align: middle;\n",
       "    }\n",
       "\n",
       "    .dataframe tbody tr th {\n",
       "        vertical-align: top;\n",
       "    }\n",
       "\n",
       "    .dataframe thead th {\n",
       "        text-align: right;\n",
       "    }\n",
       "</style>\n",
       "<table border=\"1\" class=\"dataframe\">\n",
       "  <thead>\n",
       "    <tr style=\"text-align: right;\">\n",
       "      <th></th>\n",
       "      <th>lastName</th>\n",
       "      <th>firstName</th>\n",
       "      <th>since</th>\n",
       "    </tr>\n",
       "  </thead>\n",
       "  <tbody>\n",
       "    <tr>\n",
       "      <th></th>\n",
       "      <td>Yamamoto</td>\n",
       "      <td>Akira</td>\n",
       "      <td>2016-03-21</td>\n",
       "    </tr>\n",
       "  </tbody>\n",
       "</table>\n",
       "</div>"
      ],
      "text/plain": [
       "  lastName firstName       since\n",
       "  Yamamoto     Akira  2016-03-21"
      ]
     },
     "execution_count": 25,
     "metadata": {},
     "output_type": "execute_result"
    }
   ],
   "source": [
    "as_dataframe( [ row for row in db.execute(query_4).fetchall() ],\n",
    "             columns=['lastName', 'firstName', 'since'] )"
   ]
  },
  {
   "cell_type": "markdown",
   "id": "4fcd22ae",
   "metadata": {},
   "source": [
    "### How many \"knows\" edges are there?"
   ]
  },
  {
   "cell_type": "code",
   "execution_count": 26,
   "id": "d71afec5",
   "metadata": {},
   "outputs": [],
   "source": [
    "query_5 = f'select count(eid) from edge where label = \"knows\"'"
   ]
  },
  {
   "cell_type": "code",
   "execution_count": 27,
   "id": "247f0533",
   "metadata": {},
   "outputs": [
    {
     "data": {
      "text/plain": [
       "2"
      ]
     },
     "execution_count": 27,
     "metadata": {},
     "output_type": "execute_result"
    }
   ],
   "source": [
    "db.execute(query_5).fetchone()[0]"
   ]
  },
  {
   "cell_type": "markdown",
   "id": "27036a6d",
   "metadata": {},
   "source": [
    "### How many \"knows\" edges were created since 2017?"
   ]
  },
  {
   "cell_type": "code",
   "execution_count": 28,
   "id": "cf7bb29f",
   "metadata": {},
   "outputs": [],
   "source": [
    "query_6 = (\n",
    "    f'select count(eid) '\n",
    "    'from edge where label = \"knows\" and '\n",
    "    'json_extract(edge.attributes, \"$.since\") > \"2017\"'\n",
    ")"
   ]
  },
  {
   "cell_type": "code",
   "execution_count": 29,
   "id": "94537c55",
   "metadata": {},
   "outputs": [
    {
     "data": {
      "text/plain": [
       "1"
      ]
     },
     "execution_count": 29,
     "metadata": {},
     "output_type": "execute_result"
    }
   ],
   "source": [
    "db.execute(query_6).fetchone()[0]"
   ]
  },
  {
   "cell_type": "markdown",
   "id": "58a8dbe6",
   "metadata": {},
   "source": [
    "### How many vertices have last names that start with the letter \"P\"?"
   ]
  },
  {
   "cell_type": "code",
   "execution_count": 30,
   "id": "59bf1184",
   "metadata": {},
   "outputs": [],
   "source": [
    "query_7 = f'select count(vid) from vertex where json_extract(vertex.attributes, \"$.lastName\") LIKE \"P%\"'"
   ]
  },
  {
   "cell_type": "code",
   "execution_count": 31,
   "id": "8de788ac",
   "metadata": {},
   "outputs": [
    {
     "data": {
      "text/plain": [
       "2"
      ]
     },
     "execution_count": 31,
     "metadata": {},
     "output_type": "execute_result"
    }
   ],
   "source": [
    "db.execute(query_7).fetchone()[0]"
   ]
  }
 ],
 "metadata": {
  "kernelspec": {
   "display_name": "Python 3 (ipykernel)",
   "language": "python",
   "name": "python3"
  },
  "language_info": {
   "codemirror_mode": {
    "name": "ipython",
    "version": 3
   },
   "file_extension": ".py",
   "mimetype": "text/x-python",
   "name": "python",
   "nbconvert_exporter": "python",
   "pygments_lexer": "ipython3",
   "version": "3.11.4"
  }
 },
 "nbformat": 4,
 "nbformat_minor": 5
}
