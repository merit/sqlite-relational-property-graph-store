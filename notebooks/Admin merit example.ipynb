{
 "cells": [
  {
   "cell_type": "code",
   "execution_count": 1,
   "metadata": {},
   "outputs": [],
   "source": [
    "import json\n",
    "from sqlite_utils import Database\n",
    "from sqlite_graph import generate_adjacency_tables, in_neighborhood_cte, out_neighborhood_cte"
   ]
  },
  {
   "cell_type": "code",
   "execution_count": 2,
   "metadata": {},
   "outputs": [],
   "source": [
    "with open(\"test_merit.json\") as json_file:\n",
    "    container = json.load(json_file)"
   ]
  },
  {
   "cell_type": "code",
   "execution_count": 3,
   "metadata": {},
   "outputs": [],
   "source": [
    "!rm -f test_merit.db"
   ]
  },
  {
   "cell_type": "code",
   "execution_count": 4,
   "metadata": {},
   "outputs": [],
   "source": [
    "db = Database('test_merit.db')"
   ]
  },
  {
   "cell_type": "code",
   "execution_count": 5,
   "metadata": {},
   "outputs": [
    {
     "data": {
      "text/plain": [
       "'dc30880d-2d4b-447c-905e-b79075aea95b'"
      ]
     },
     "execution_count": 5,
     "metadata": {},
     "output_type": "execute_result"
    }
   ],
   "source": [
    "container[\"id\"]"
   ]
  },
  {
   "cell_type": "code",
   "execution_count": 6,
   "metadata": {},
   "outputs": [
    {
     "data": {
      "text/plain": [
       "[{'canShare': False,\n",
       "  'description': \"Use this to store recipient's first name\",\n",
       "  'fieldKind': {'fieldType': 'Text',\n",
       "   'id': 'a9fa2832-4107-4c95-b7d8-0cdd15a7e2bc',\n",
       "   'name': 'Text'},\n",
       "  'name': 'First Name',\n",
       "  'templateFieldID': '1b397a27-14a0-4d43-a36f-6006611f4073',\n",
       "  'templateFieldLineage': ['3dc3f769-70cc-4e7e-81cc-ed103f9eb601'],\n",
       "  'updatedAt': '2023-07-17T15:52:19.496539Z',\n",
       "  'validationErrors': None,\n",
       "  'value': 'Hank'},\n",
       " {'canShare': False,\n",
       "  'description': \"Use this to store recipient's last name\",\n",
       "  'fieldKind': {'fieldType': 'Text',\n",
       "   'id': 'a9fa2832-4107-4c95-b7d8-0cdd15a7e2bc',\n",
       "   'name': 'Text'},\n",
       "  'name': 'Last Name',\n",
       "  'templateFieldID': '1a7fbab6-db84-49df-8196-a971afcde447',\n",
       "  'templateFieldLineage': ['5029dd4c-9879-46cd-81ac-0f75ca0c46fb'],\n",
       "  'updatedAt': '2023-07-17T15:52:19.496539Z',\n",
       "  'validationErrors': None,\n",
       "  'value': 'Lindgren'},\n",
       " {'canShare': False,\n",
       "  'description': \"Use this to store recipient's email address\",\n",
       "  'fieldKind': {'fieldType': 'Email',\n",
       "   'id': '0341c64a-f276-4b9f-8872-4c9f9268830b',\n",
       "   'name': 'Email'},\n",
       "  'name': 'Email',\n",
       "  'templateFieldID': '9d2c72c3-d801-4bd7-baf9-c92b3825f880',\n",
       "  'templateFieldLineage': ['9fe900b5-c2d2-4130-a72c-bb03bd623324'],\n",
       "  'updatedAt': '2023-07-17T15:52:19.496539Z',\n",
       "  'validationErrors': None,\n",
       "  'value': 'oleg+user2@gomerits.com'},\n",
       " {'canShare': False,\n",
       "  'description': 'Use this to store the name of the Organization issuing this Merit',\n",
       "  'fieldKind': {'fieldType': 'Text',\n",
       "   'id': 'a9fa2832-4107-4c95-b7d8-0cdd15a7e2bc',\n",
       "   'name': 'Text'},\n",
       "  'name': 'Issuing Org Name',\n",
       "  'templateFieldID': '2a5cbf54-9eb3-4da4-a6c5-583a1add0205',\n",
       "  'templateFieldLineage': ['9a516485-b702-4a62-b4a5-edb2edb4ba49'],\n",
       "  'updatedAt': '2023-07-17T15:52:19.496539Z',\n",
       "  'validationErrors': None,\n",
       "  'value': 'Merit International, Inc.'},\n",
       " {'canShare': False,\n",
       "  'description': 'Field to store Org UUID',\n",
       "  'fieldKind': {'fieldType': 'Text',\n",
       "   'id': 'a9fa2832-4107-4c95-b7d8-0cdd15a7e2bc',\n",
       "   'name': 'Text'},\n",
       "  'name': 'Org UUID',\n",
       "  'templateFieldID': 'dc3f107f-1ea0-4dae-8695-866d7d721df0',\n",
       "  'templateFieldLineage': [],\n",
       "  'updatedAt': '2023-07-17T15:52:19.496539Z',\n",
       "  'validationErrors': None,\n",
       "  'value': 'user2'},\n",
       " {'canShare': False,\n",
       "  'description': 'Field to store Admin Phone Number',\n",
       "  'fieldKind': {'fieldType': 'PhoneNumber',\n",
       "   'id': '7157ea5d-5975-419a-87f0-3f12e9ae0bcc',\n",
       "   'name': 'PhoneNumber'},\n",
       "  'name': 'Admin Phone Number',\n",
       "  'templateFieldID': 'e90e34e2-6429-4bfb-8ca1-fe11b3bad713',\n",
       "  'templateFieldLineage': [],\n",
       "  'updatedAt': '2023-07-17T15:52:19.496539Z',\n",
       "  'validationErrors': None,\n",
       "  'value': '6317070926'},\n",
       " {'canShare': False,\n",
       "  'description': 'Field to store Org Legal Name',\n",
       "  'fieldKind': {'fieldType': 'Text',\n",
       "   'id': 'a9fa2832-4107-4c95-b7d8-0cdd15a7e2bc',\n",
       "   'name': 'Text'},\n",
       "  'name': 'Org Legal Name',\n",
       "  'templateFieldID': '137c9f13-eccf-4baa-8577-958302e1969c',\n",
       "  'templateFieldLineage': [],\n",
       "  'updatedAt': '2023-07-17T15:52:19.496539Z',\n",
       "  'validationErrors': None,\n",
       "  'value': 'Org legal name 74d00472-85d5-4c6b-81d3-5b6353a8a7fd'},\n",
       " {'canShare': False,\n",
       "  'description': 'Field to store Org Name',\n",
       "  'fieldKind': {'fieldType': 'Text',\n",
       "   'id': 'a9fa2832-4107-4c95-b7d8-0cdd15a7e2bc',\n",
       "   'name': 'Text'},\n",
       "  'name': 'Org Name',\n",
       "  'templateFieldID': '3aec2732-acad-4fba-8dd3-c97c390c0129',\n",
       "  'templateFieldLineage': [],\n",
       "  'updatedAt': '2023-07-17T15:52:19.496539Z',\n",
       "  'validationErrors': None,\n",
       "  'value': 'Organization Name b6e9f27b-6214-4f57-a670-5e02d2a1fdeb'},\n",
       " {'canShare': False,\n",
       "  'description': 'Field to store Org Description',\n",
       "  'fieldKind': {'fieldType': 'Text',\n",
       "   'id': 'a9fa2832-4107-4c95-b7d8-0cdd15a7e2bc',\n",
       "   'name': 'Text'},\n",
       "  'name': 'Org Description',\n",
       "  'templateFieldID': '884fd153-2bf5-4f26-8cae-4bb75c538561',\n",
       "  'templateFieldLineage': [],\n",
       "  'updatedAt': '2023-07-17T15:52:19.496539Z',\n",
       "  'validationErrors': None,\n",
       "  'value': 'This is very important organization'},\n",
       " {'canShare': False,\n",
       "  'description': 'Field to store Org Governing Country',\n",
       "  'fieldKind': {'fieldType': 'Text',\n",
       "   'id': 'a9fa2832-4107-4c95-b7d8-0cdd15a7e2bc',\n",
       "   'name': 'Text'},\n",
       "  'name': 'Org Governing Country',\n",
       "  'templateFieldID': 'af7c9abd-c579-4075-a63a-208002e07aea',\n",
       "  'templateFieldLineage': [],\n",
       "  'updatedAt': '2023-07-17T15:52:19.496539Z',\n",
       "  'validationErrors': None,\n",
       "  'value': 'US'},\n",
       " {'canShare': False,\n",
       "  'description': 'Field to store Org Governing State',\n",
       "  'fieldKind': {'fieldType': 'Text',\n",
       "   'id': 'a9fa2832-4107-4c95-b7d8-0cdd15a7e2bc',\n",
       "   'name': 'Text'},\n",
       "  'name': 'Org Governing State',\n",
       "  'templateFieldID': '8c344f00-a9cf-437d-9974-3fc46935aa30',\n",
       "  'templateFieldLineage': [],\n",
       "  'updatedAt': '2023-07-17T15:52:19.496539Z',\n",
       "  'validationErrors': None,\n",
       "  'value': 'CA'}]"
      ]
     },
     "execution_count": 6,
     "metadata": {},
     "output_type": "execute_result"
    }
   ],
   "source": [
    "container[\"fields\"]"
   ]
  },
  {
   "cell_type": "markdown",
   "metadata": {},
   "source": [
    "<img src=\"example-merit-graph.png\" width=\"1200\">"
   ]
  },
  {
   "cell_type": "code",
   "execution_count": 7,
   "metadata": {},
   "outputs": [
    {
     "data": {
      "text/plain": [
       "<Table vertex (vid, attributes)>"
      ]
     },
     "execution_count": 7,
     "metadata": {},
     "output_type": "execute_result"
    }
   ],
   "source": [
    "db['vertex'].insert_all([\n",
    "    { \n",
    "        \"vid\": container[\"issuer\"][\"id\"], \n",
    "        \"attributes\": { \n",
    "            \"type\": container[\"issuer\"][\"type\"], \n",
    "            \"state\": container[\"issuer\"][\"state\"],\n",
    "            } \n",
    "    },\n",
    "    { \n",
    "        \"vid\": container[\"recipient\"][\"id\"], \n",
    "        \"attributes\": { \n",
    "            \"type\": container[\"recipient\"][\"type\"], \n",
    "            \"state\": container[\"recipient\"][\"state\"],\n",
    "            } \n",
    "    },\n",
    "], pk='vid')"
   ]
  },
  {
   "cell_type": "code",
   "execution_count": 8,
   "metadata": {},
   "outputs": [
    {
     "name": "stdout",
     "output_type": "stream",
     "text": [
      "CREATE TABLE [vertex] (\n",
      "   [vid] TEXT PRIMARY KEY,\n",
      "   [attributes] TEXT\n",
      ")\n"
     ]
    }
   ],
   "source": [
    "print(db['vertex'].schema)"
   ]
  },
  {
   "cell_type": "code",
   "execution_count": 9,
   "metadata": {},
   "outputs": [
    {
     "data": {
      "text/plain": [
       "[{'vid': '9a5eb92a-b34a-42b9-8fb7-10ce9449e83e',\n",
       "  'attributes': '{\"type\": \"organization\", \"state\": \"active\"}'},\n",
       " {'vid': '196a8c8f-6fd9-456b-8193-4159b8dc3ab6',\n",
       "  'attributes': '{\"type\": \"person\", \"state\": \"active\"}'}]"
      ]
     },
     "execution_count": 9,
     "metadata": {},
     "output_type": "execute_result"
    }
   ],
   "source": [
    "[ row for row in db['vertex'].rows ]"
   ]
  },
  {
   "cell_type": "code",
   "execution_count": 10,
   "metadata": {},
   "outputs": [
    {
     "data": {
      "text/plain": [
       "<Table edge (eid, sid, tid, label, attributes, state, container)>"
      ]
     },
     "execution_count": 10,
     "metadata": {},
     "output_type": "execute_result"
    }
   ],
   "source": [
    "db['edge'].insert_all([ \n",
    "    { \n",
    "        \"eid\": container[\"id\"], \n",
    "        \"sid\": container[\"issuer\"][\"id\"], \n",
    "        \"tid\": container[\"recipient\"][\"id\"], \n",
    "        \"label\": container[\"name\"], \n",
    "        \"attributes\": { field[\"name\"]: field[\"value\"] for field in container[\"fields\"] },\n",
    "        \"state\": container[\"state\"][\"name\"],\n",
    "        \"container\": container,\n",
    "    },\n",
    "], pk='eid')"
   ]
  },
  {
   "cell_type": "code",
   "execution_count": 11,
   "metadata": {},
   "outputs": [
    {
     "name": "stdout",
     "output_type": "stream",
     "text": [
      "CREATE TABLE [edge] (\n",
      "   [eid] TEXT PRIMARY KEY,\n",
      "   [sid] TEXT,\n",
      "   [tid] TEXT,\n",
      "   [label] TEXT,\n",
      "   [attributes] TEXT,\n",
      "   [state] TEXT,\n",
      "   [container] TEXT\n",
      ")\n"
     ]
    }
   ],
   "source": [
    "print(db['edge'].schema)"
   ]
  },
  {
   "cell_type": "code",
   "execution_count": 12,
   "metadata": {},
   "outputs": [
    {
     "data": {
      "text/plain": [
       "[{'eid': 'dc30880d-2d4b-447c-905e-b79075aea95b',\n",
       "  'sid': '9a5eb92a-b34a-42b9-8fb7-10ce9449e83e',\n",
       "  'tid': '196a8c8f-6fd9-456b-8193-4159b8dc3ab6',\n",
       "  'label': 'Admin merit',\n",
       "  'attributes': '{\"First Name\": \"Hank\", \"Last Name\": \"Lindgren\", \"Email\": \"oleg+user2@gomerits.com\", \"Issuing Org Name\": \"Merit International, Inc.\", \"Org UUID\": \"user2\", \"Admin Phone Number\": \"6317070926\", \"Org Legal Name\": \"Org legal name 74d00472-85d5-4c6b-81d3-5b6353a8a7fd\", \"Org Name\": \"Organization Name b6e9f27b-6214-4f57-a670-5e02d2a1fdeb\", \"Org Description\": \"This is very important organization\", \"Org Governing Country\": \"US\", \"Org Governing State\": \"CA\"}',\n",
       "  'state': 'accepted',\n",
       "  'container': '{\"id\": \"dc30880d-2d4b-447c-905e-b79075aea95b\", \"acceptedAt\": \"2023-07-17T08:52:19.489566Z\", \"active\": true, \"activenessFailures\": null, \"authorizedAt\": \"2023-07-17T08:52:15.960677Z\", \"completed\": true, \"completenessFailures\": null, \"createdAt\": \"2023-07-17T15:52:04.3018Z\", \"description\": \"Template for admin merit\", \"fields\": [{\"canShare\": false, \"description\": \"Use this to store recipient\\'s first name\", \"fieldKind\": {\"fieldType\": \"Text\", \"id\": \"a9fa2832-4107-4c95-b7d8-0cdd15a7e2bc\", \"name\": \"Text\"}, \"name\": \"First Name\", \"templateFieldID\": \"1b397a27-14a0-4d43-a36f-6006611f4073\", \"templateFieldLineage\": [\"3dc3f769-70cc-4e7e-81cc-ed103f9eb601\"], \"updatedAt\": \"2023-07-17T15:52:19.496539Z\", \"validationErrors\": null, \"value\": \"Hank\"}, {\"canShare\": false, \"description\": \"Use this to store recipient\\'s last name\", \"fieldKind\": {\"fieldType\": \"Text\", \"id\": \"a9fa2832-4107-4c95-b7d8-0cdd15a7e2bc\", \"name\": \"Text\"}, \"name\": \"Last Name\", \"templateFieldID\": \"1a7fbab6-db84-49df-8196-a971afcde447\", \"templateFieldLineage\": [\"5029dd4c-9879-46cd-81ac-0f75ca0c46fb\"], \"updatedAt\": \"2023-07-17T15:52:19.496539Z\", \"validationErrors\": null, \"value\": \"Lindgren\"}, {\"canShare\": false, \"description\": \"Use this to store recipient\\'s email address\", \"fieldKind\": {\"fieldType\": \"Email\", \"id\": \"0341c64a-f276-4b9f-8872-4c9f9268830b\", \"name\": \"Email\"}, \"name\": \"Email\", \"templateFieldID\": \"9d2c72c3-d801-4bd7-baf9-c92b3825f880\", \"templateFieldLineage\": [\"9fe900b5-c2d2-4130-a72c-bb03bd623324\"], \"updatedAt\": \"2023-07-17T15:52:19.496539Z\", \"validationErrors\": null, \"value\": \"oleg+user2@gomerits.com\"}, {\"canShare\": false, \"description\": \"Use this to store the name of the Organization issuing this Merit\", \"fieldKind\": {\"fieldType\": \"Text\", \"id\": \"a9fa2832-4107-4c95-b7d8-0cdd15a7e2bc\", \"name\": \"Text\"}, \"name\": \"Issuing Org Name\", \"templateFieldID\": \"2a5cbf54-9eb3-4da4-a6c5-583a1add0205\", \"templateFieldLineage\": [\"9a516485-b702-4a62-b4a5-edb2edb4ba49\"], \"updatedAt\": \"2023-07-17T15:52:19.496539Z\", \"validationErrors\": null, \"value\": \"Merit International, Inc.\"}, {\"canShare\": false, \"description\": \"Field to store Org UUID\", \"fieldKind\": {\"fieldType\": \"Text\", \"id\": \"a9fa2832-4107-4c95-b7d8-0cdd15a7e2bc\", \"name\": \"Text\"}, \"name\": \"Org UUID\", \"templateFieldID\": \"dc3f107f-1ea0-4dae-8695-866d7d721df0\", \"templateFieldLineage\": [], \"updatedAt\": \"2023-07-17T15:52:19.496539Z\", \"validationErrors\": null, \"value\": \"user2\"}, {\"canShare\": false, \"description\": \"Field to store Admin Phone Number\", \"fieldKind\": {\"fieldType\": \"PhoneNumber\", \"id\": \"7157ea5d-5975-419a-87f0-3f12e9ae0bcc\", \"name\": \"PhoneNumber\"}, \"name\": \"Admin Phone Number\", \"templateFieldID\": \"e90e34e2-6429-4bfb-8ca1-fe11b3bad713\", \"templateFieldLineage\": [], \"updatedAt\": \"2023-07-17T15:52:19.496539Z\", \"validationErrors\": null, \"value\": \"6317070926\"}, {\"canShare\": false, \"description\": \"Field to store Org Legal Name\", \"fieldKind\": {\"fieldType\": \"Text\", \"id\": \"a9fa2832-4107-4c95-b7d8-0cdd15a7e2bc\", \"name\": \"Text\"}, \"name\": \"Org Legal Name\", \"templateFieldID\": \"137c9f13-eccf-4baa-8577-958302e1969c\", \"templateFieldLineage\": [], \"updatedAt\": \"2023-07-17T15:52:19.496539Z\", \"validationErrors\": null, \"value\": \"Org legal name 74d00472-85d5-4c6b-81d3-5b6353a8a7fd\"}, {\"canShare\": false, \"description\": \"Field to store Org Name\", \"fieldKind\": {\"fieldType\": \"Text\", \"id\": \"a9fa2832-4107-4c95-b7d8-0cdd15a7e2bc\", \"name\": \"Text\"}, \"name\": \"Org Name\", \"templateFieldID\": \"3aec2732-acad-4fba-8dd3-c97c390c0129\", \"templateFieldLineage\": [], \"updatedAt\": \"2023-07-17T15:52:19.496539Z\", \"validationErrors\": null, \"value\": \"Organization Name b6e9f27b-6214-4f57-a670-5e02d2a1fdeb\"}, {\"canShare\": false, \"description\": \"Field to store Org Description\", \"fieldKind\": {\"fieldType\": \"Text\", \"id\": \"a9fa2832-4107-4c95-b7d8-0cdd15a7e2bc\", \"name\": \"Text\"}, \"name\": \"Org Description\", \"templateFieldID\": \"884fd153-2bf5-4f26-8cae-4bb75c538561\", \"templateFieldLineage\": [], \"updatedAt\": \"2023-07-17T15:52:19.496539Z\", \"validationErrors\": null, \"value\": \"This is very important organization\"}, {\"canShare\": false, \"description\": \"Field to store Org Governing Country\", \"fieldKind\": {\"fieldType\": \"Text\", \"id\": \"a9fa2832-4107-4c95-b7d8-0cdd15a7e2bc\", \"name\": \"Text\"}, \"name\": \"Org Governing Country\", \"templateFieldID\": \"af7c9abd-c579-4075-a63a-208002e07aea\", \"templateFieldLineage\": [], \"updatedAt\": \"2023-07-17T15:52:19.496539Z\", \"validationErrors\": null, \"value\": \"US\"}, {\"canShare\": false, \"description\": \"Field to store Org Governing State\", \"fieldKind\": {\"fieldType\": \"Text\", \"id\": \"a9fa2832-4107-4c95-b7d8-0cdd15a7e2bc\", \"name\": \"Text\"}, \"name\": \"Org Governing State\", \"templateFieldID\": \"8c344f00-a9cf-437d-9974-3fc46935aa30\", \"templateFieldLineage\": [], \"updatedAt\": \"2023-07-17T15:52:19.496539Z\", \"validationErrors\": null, \"value\": \"CA\"}], \"issuer\": {\"id\": \"9a5eb92a-b34a-42b9-8fb7-10ce9449e83e\", \"state\": \"active\", \"type\": \"organization\"}, \"name\": \"Admin merit\", \"recipient\": {\"id\": \"196a8c8f-6fd9-456b-8193-4159b8dc3ab6\", \"state\": \"active\", \"type\": \"person\"}, \"rejectedAt\": null, \"state\": {\"name\": \"accepted\", \"occurredAt\": \"2023-07-17T08:52:19.489566Z\"}, \"templateId\": \"72fdc5f3-dd82-489d-a6fa-42f6897a2f92\", \"updatedAt\": \"2023-07-17T15:52:19.496539Z\"}'}]"
      ]
     },
     "execution_count": 12,
     "metadata": {},
     "output_type": "execute_result"
    }
   ],
   "source": [
    "[ row for row in db['edge'].rows ]"
   ]
  },
  {
   "cell_type": "code",
   "execution_count": 13,
   "metadata": {},
   "outputs": [
    {
     "data": {
      "text/plain": [
       "[('dc30880d-2d4b-447c-905e-b79075aea95b', 'Admin merit')]"
      ]
     },
     "execution_count": 13,
     "metadata": {},
     "output_type": "execute_result"
    }
   ],
   "source": [
    "db.execute(f'select eid, label from edge where label = \"Admin merit\"').fetchall()"
   ]
  },
  {
   "cell_type": "code",
   "execution_count": 14,
   "metadata": {},
   "outputs": [
    {
     "data": {
      "text/plain": [
       "[('Hank',)]"
      ]
     },
     "execution_count": 14,
     "metadata": {},
     "output_type": "execute_result"
    }
   ],
   "source": [
    "db.execute(f'select json_extract(edge.attributes, \"$.First Name\") from edge').fetchall()"
   ]
  },
  {
   "cell_type": "code",
   "execution_count": 15,
   "metadata": {},
   "outputs": [],
   "source": [
    "query_3 = (\n",
    "    f'select eid, label, json_extract(edge.attributes, \"$.Email\") '\n",
    "    'from edge where label = \"Admin merit\" and '\n",
    "    'json_extract(edge.attributes, \"$.First Name\") = \"Hank\" and '\n",
    "    'json_extract(edge.attributes, \"$.Last Name\") = \"Lindgren\"'\n",
    ")"
   ]
  },
  {
   "cell_type": "code",
   "execution_count": 16,
   "metadata": {},
   "outputs": [
    {
     "data": {
      "text/plain": [
       "[('dc30880d-2d4b-447c-905e-b79075aea95b',\n",
       "  'Admin merit',\n",
       "  'oleg+user2@gomerits.com')]"
      ]
     },
     "execution_count": 16,
     "metadata": {},
     "output_type": "execute_result"
    }
   ],
   "source": [
    "db.execute(query_3).fetchall()"
   ]
  },
  {
   "cell_type": "code",
   "execution_count": 17,
   "metadata": {},
   "outputs": [],
   "source": [
    "query_4 = (\n",
    "    f'select tid, json_extract(edge.attributes, \"$.Email\"), '\n",
    "    'json_extract(edge.attributes, \"$.First Name\"), '\n",
    "    'json_extract(edge.attributes, \"$.Last Name\") '\n",
    "    'from edge where label = \"Admin merit\" and '\n",
    "    'json_extract(edge.attributes, \"$.Email\") LIKE \"oleg%\"'\n",
    ")"
   ]
  },
  {
   "cell_type": "code",
   "execution_count": 18,
   "metadata": {},
   "outputs": [
    {
     "data": {
      "text/plain": [
       "[('196a8c8f-6fd9-456b-8193-4159b8dc3ab6',\n",
       "  'oleg+user2@gomerits.com',\n",
       "  'Hank',\n",
       "  'Lindgren')]"
      ]
     },
     "execution_count": 18,
     "metadata": {},
     "output_type": "execute_result"
    }
   ],
   "source": [
    "db.execute(query_4).fetchall()"
   ]
  },
  {
   "cell_type": "code",
   "execution_count": 19,
   "metadata": {},
   "outputs": [],
   "source": [
    "generate_adjacency_tables(db)"
   ]
  },
  {
   "cell_type": "code",
   "execution_count": 20,
   "metadata": {},
   "outputs": [
    {
     "name": "stdout",
     "output_type": "stream",
     "text": [
      "CREATE TABLE [outgoing] (\n",
      "   [vid] TEXT PRIMARY KEY,\n",
      "   [label_0] TEXT,\n",
      "   [edges_0] TEXT\n",
      ")\n"
     ]
    }
   ],
   "source": [
    "print(db['outgoing'].schema)"
   ]
  },
  {
   "cell_type": "code",
   "execution_count": 21,
   "metadata": {},
   "outputs": [
    {
     "data": {
      "text/plain": [
       "[{'vid': '9a5eb92a-b34a-42b9-8fb7-10ce9449e83e',\n",
       "  'label_0': 'Admin merit',\n",
       "  'edges_0': '[{\"eid\": \"dc30880d-2d4b-447c-905e-b79075aea95b\", \"tid\": \"196a8c8f-6fd9-456b-8193-4159b8dc3ab6\"}]'}]"
      ]
     },
     "execution_count": 21,
     "metadata": {},
     "output_type": "execute_result"
    }
   ],
   "source": [
    "[ row for row in db['outgoing'].rows ]"
   ]
  },
  {
   "cell_type": "code",
   "execution_count": 22,
   "metadata": {},
   "outputs": [
    {
     "name": "stdout",
     "output_type": "stream",
     "text": [
      "CREATE TABLE [incoming] (\n",
      "   [vid] TEXT PRIMARY KEY,\n",
      "   [label_0] TEXT,\n",
      "   [edges_0] TEXT\n",
      ")\n"
     ]
    }
   ],
   "source": [
    "print(db['incoming'].schema)"
   ]
  },
  {
   "cell_type": "code",
   "execution_count": 23,
   "metadata": {},
   "outputs": [
    {
     "data": {
      "text/plain": [
       "[{'vid': '196a8c8f-6fd9-456b-8193-4159b8dc3ab6',\n",
       "  'label_0': 'Admin merit',\n",
       "  'edges_0': '[{\"eid\": \"dc30880d-2d4b-447c-905e-b79075aea95b\", \"sid\": \"9a5eb92a-b34a-42b9-8fb7-10ce9449e83e\"}]'}]"
      ]
     },
     "execution_count": 23,
     "metadata": {},
     "output_type": "execute_result"
    }
   ],
   "source": [
    "[ row for row in db['incoming'].rows ]"
   ]
  },
  {
   "cell_type": "code",
   "execution_count": 24,
   "metadata": {},
   "outputs": [
    {
     "data": {
      "text/plain": [
       "'select vid, json_extract(value, \"$.eid\") as eid, label_0 as label, json_extract(value, \"$.tid\") as tid from outgoing, json_each(outgoing.edges_0) where vid = \"9a5eb92a-b34a-42b9-8fb7-10ce9449e83e\" and label_0 = \"Admin merit\"'"
      ]
     },
     "execution_count": 24,
     "metadata": {},
     "output_type": "execute_result"
    }
   ],
   "source": [
    "out_neighborhood_cte(\"9a5eb92a-b34a-42b9-8fb7-10ce9449e83e\", \"Admin merit\")"
   ]
  },
  {
   "cell_type": "code",
   "execution_count": 25,
   "metadata": {},
   "outputs": [
    {
     "data": {
      "text/plain": [
       "[('9a5eb92a-b34a-42b9-8fb7-10ce9449e83e',\n",
       "  'dc30880d-2d4b-447c-905e-b79075aea95b',\n",
       "  'Admin merit',\n",
       "  '196a8c8f-6fd9-456b-8193-4159b8dc3ab6')]"
      ]
     },
     "execution_count": 25,
     "metadata": {},
     "output_type": "execute_result"
    }
   ],
   "source": [
    "[ row for row in db.execute(out_neighborhood_cte(\"9a5eb92a-b34a-42b9-8fb7-10ce9449e83e\", \"Admin merit\")).fetchall() ]"
   ]
  },
  {
   "cell_type": "code",
   "execution_count": 26,
   "metadata": {},
   "outputs": [
    {
     "data": {
      "text/plain": [
       "[('196a8c8f-6fd9-456b-8193-4159b8dc3ab6',\n",
       "  'dc30880d-2d4b-447c-905e-b79075aea95b',\n",
       "  'Admin merit',\n",
       "  '9a5eb92a-b34a-42b9-8fb7-10ce9449e83e')]"
      ]
     },
     "execution_count": 26,
     "metadata": {},
     "output_type": "execute_result"
    }
   ],
   "source": [
    "[ row for row in db.execute(in_neighborhood_cte(\"196a8c8f-6fd9-456b-8193-4159b8dc3ab6\", \"Admin merit\")).fetchall() ]"
   ]
  }
 ],
 "metadata": {
  "kernelspec": {
   "display_name": "relational-graph-store",
   "language": "python",
   "name": "python3"
  },
  "language_info": {
   "codemirror_mode": {
    "name": "ipython",
    "version": 3
   },
   "file_extension": ".py",
   "mimetype": "text/x-python",
   "name": "python",
   "nbconvert_exporter": "python",
   "pygments_lexer": "ipython3",
   "version": "3.11.4"
  },
  "orig_nbformat": 4
 },
 "nbformat": 4,
 "nbformat_minor": 2
}
