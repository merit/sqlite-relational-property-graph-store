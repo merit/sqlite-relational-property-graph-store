{
 "cells": [
  {
   "cell_type": "markdown",
   "metadata": {},
   "source": [
    "# Digital Badges for First Responders: Real-World Data and Preliminary Workflow Plans\n",
    "\n",
    "**SBIR Phase I Contract #70RSAT23C00000021**  \n",
    "**Merit International, Inc.**  \n",
    "**2023-09-16**\n",
    "\n",
    "<style type=\"text/css\">\n",
    ".tg  {border-collapse:collapse;border-spacing:0;border-color:1px solid black;width:75%;margin:0 auto;}\n",
    ".tg td{border-color:black;border-style:solid;border-width:1px;font-family:Arial, sans-serif;font-size:14px;\n",
    "  overflow:hidden;padding:10px 5px;word-break:normal;}\n",
    ".tg th{border-color:black;border-style:solid;border-width:1px;font-family:Arial, sans-serif;font-size:14px;\n",
    "  font-weight:normal;overflow:hidden;padding:10px 5px;word-break:normal;}\n",
    ".tg .tg-0pky{border-color:inherit;text-align:left;vertical-align:top}\n",
    "</style>\n",
    "<table class=\"tg\">\n",
    "<tbody>\n",
    "  <tr>\n",
    "    <td class=\"tg-0pky\">Title</td>\n",
    "    <td class=\"tg-0pky\">Department of Homeland Security (DHS)- Small Business Innovation Research (SBIR) - First Responders Digital Badges (Topic # 23.1 DHS231-003-I)</td>\n",
    "    <td class=\"tg-0pky\" rowspan=\"6\">This is SBIR/STTR Data (or is Computer Software or a Prototype that embodies or includes SBIR/STTR data) to which the Awardee has SBIR/STTR Data Rights and to which the Federal Government has received SBIR/STTR Technical Data RIghts (or SBIR/STTR Computer Software Rights) during the SBIR/STTR Protection Period and rights of use for Government Purposes after the SBIR/STTR Protection Period, as those terms are defined in the SBIR/STTR Funding Agreement. Awards issued by the U.S. Department of Energy are subject to Unlimited Rights after the SBIR/STTR Protection Period, as that term is defined in the SBIR/STTR Funding Agreement. Any reproduction of the SBIR/STTR Data or portions of such data marked with this legend must also reproduce the markings.</td>\n",
    "  </tr>\n",
    "  <tr>\n",
    "    <td class=\"tg-0pky\">Funding Agreement</td>\n",
    "    <td class=\"tg-0pky\">70RSAT23C00000021</td>\n",
    "  </tr>\n",
    "  <tr>\n",
    "    <td class=\"tg-0pky\">Award Date</td>\n",
    "    <td class=\"tg-0pky\">08 May 2023</td>\n",
    "  </tr>\n",
    "  <tr>\n",
    "    <td class=\"tg-0pky\">SBIR Protection Period</td>\n",
    "    <td class=\"tg-0pky\">08 May 2043</td>\n",
    "  </tr>\n",
    "  <tr>\n",
    "    <td class=\"tg-0pky\">SBIR Awardee</td>\n",
    "    <td class=\"tg-0pky\">Merit International, Inc.</td>\n",
    "  </tr>\n",
    "  <tr>\n",
    "    <td class=\"tg-0pky\">SBIR Awardee Address</td>\n",
    "    <td class=\"tg-0pky\">100 S Murphy Ave. Suite 200 Sunnyvale, CA 94086</td>\n",
    "  </tr>\n",
    "</tbody>\n",
    "</table>\n",
    "\n",
    "## Introduction\n",
    "\n",
    "This report describes a proof-of-concept that demonstrates technical feasibility for the support of interoperability and location awareness in an extended version of the Merit verified identity platform. It was developed as a Python notebook with executable code, and is meant to present two key findings of the SBIR Phase I effort:\n",
    "\n",
    "1. Merit credentials can be straightforwardly transformed into [W3C Verifiable Credentials Data Model v2.0](https://www.w3.org/TR/vc-data-model-2.0/) conformant documents, which can then be signed, issued and verified by Merit and other third parties in the W3C verifiable credentials ecosystem.\n",
    "\n",
    "1. There is a feasible and innovative approach possible towards extending verifiable credentials generated from Merit credentials with geofencing and geolocation information to provide location awareness in the verification process in support of use cases in applications by first responder organizations.\n",
    "\n",
    "In the discussion below, we will describe the data used to demonstrate the above findings, and provide recommendations as to how a follow-on project would address the commercialization of our approach. We will also indicate where design choices were taken to constrain the amount of effort in the development of the proof of concept, but it is worth emphasizing that what we present below is, to the best of our knowledge, fully conformant with the W3C Verifiable Credentials Data Model v2.0 specification, as well as the rest of the stakeholder needs detailed in the project’s Statement of Work. \n",
    "\n",
    "This document therefore constitutes the deliverable for milestone 4 of the project, the goal of which was to “demonstrate technology feasibility based on output from milestone 3, and provide a report with a summary, data analysis, findings, and recommendations.”"
   ]
  },
  {
   "cell_type": "markdown",
   "metadata": {},
   "source": [
    "## Preliminaries\n",
    "\n",
    "We first import a handful of standard Python packages that we will use below to support serialization, deserialization, validation, signing and verification of credentials."
   ]
  },
  {
   "cell_type": "code",
   "execution_count": 1,
   "metadata": {},
   "outputs": [],
   "source": [
    "import json, jsonschema, jwt, datetime, uuid, requests"
   ]
  },
  {
   "cell_type": "markdown",
   "metadata": {},
   "source": [
    "We now define a few functions that will provide support for the signing and verification of verifiable credentials."
   ]
  },
  {
   "cell_type": "markdown",
   "metadata": {},
   "source": [
    "### `did_uuid`: a helper function to mint DID UUID IRIs to use as identifiers\n",
    "\n",
    "In this proof of concept, we use DIDs based on UUIDs as identifiers. Commercialization may in addition use dereferencable HTTP(S) URLs or other types of decentralized identifier (DID) URLs instead, depending on application requirements as determined in consultation with customers and other in the W3C Verifiable Credentials ecosystem. Additionally, DID documents would need to be generated for each minted DID, and DID methods appropriate for first responder use cases would need to be defined. These will probably include simple Web dereferencability through an API supported by the verifiable data registry functionality of the extended Merit platform, or integration into a distributed ledger (e.g. Dock) through a synchronization service."
   ]
  },
  {
   "cell_type": "code",
   "execution_count": 2,
   "metadata": {},
   "outputs": [],
   "source": [
    "def did_uuid(uuid):\n",
    "    return f'did:merit:uuid:{uuid}'"
   ]
  },
  {
   "cell_type": "markdown",
   "metadata": {},
   "source": [
    "### `MockKeyManager`: a mock key manager to support demonstration of verification of signed credentials and presentations\n",
    "\n",
    "For the simplicity of this proof of concept, we are using symmetric keys to sign, encode, and decode verifiable credentials. Commercialization will require the implementation of a industrial-strength approach using a robust public key infrastructure (such as is already deployed for use with the current Merit platform), and client applications that can cache public keys to support \"no-phone-home\" use of credentials in situations, as often encountered in emergency responder work, that have limited or no wireless network access."
   ]
  },
  {
   "cell_type": "code",
   "execution_count": 3,
   "metadata": {},
   "outputs": [],
   "source": [
    "class MockKeyManager:\n",
    "\n",
    "    def __init__(self):\n",
    "        self.secrets = {}\n",
    "\n",
    "    def add(self, key):\n",
    "        kid = did_uuid(uuid.uuid4())\n",
    "        self.secrets[kid] = key\n",
    "        return kid\n",
    "\n",
    "    def get(self, kid):\n",
    "        if kid in self.secrets:\n",
    "            return self.secrets[kid]\n",
    "        else:\n",
    "            return None\n",
    "\n",
    "    def delete(self, kid):\n",
    "        if kid in self.secrets:\n",
    "            del self.secrets[kid]\n",
    "        else:\n",
    "            return None\n",
    "\n",
    "    def reset(self):\n",
    "        self.secrets = {}\n",
    "\n",
    "    def list(self):\n",
    "        for kid in self.secrets:\n",
    "            print(f'{kid}: {self.secrets[kid]}')"
   ]
  },
  {
   "cell_type": "markdown",
   "metadata": {},
   "source": [
    "### `sign`: signing and encrypting a plaintext credential or presentation\n",
    "\n",
    "In this proof of concept, without loss of generality we will use external proofs via JSON Web Tokens (JWTs), encrypted as mentioned above using symmetric keys. While this is comformant with the W3C Verifiable Credentials Data Model v2.0 specification, commercialization will almost certainly involve the use of other mechanisms, including internal proofs and asymmetric public key infrastructure, depending on application requirements."
   ]
  },
  {
   "cell_type": "code",
   "execution_count": 4,
   "metadata": {},
   "outputs": [],
   "source": [
    "def sign(key_manager, credential, key, verifier):\n",
    "    kid = key_manager.add(key)\n",
    "    headers = {\n",
    "    \"alg\": \"HS256\",\n",
    "    \"typ\": \"JWT\",\n",
    "    \"kid\": kid\n",
    "    }\n",
    "    payload = {\n",
    "        \"iss\": credential[\"issuer\"],  # Issuer\n",
    "        \"aud\": verifier,  # Audience\n",
    "        \"exp\": datetime.datetime.utcnow() + datetime.timedelta(days=1),  # Expiration time\n",
    "        \"nbf\": datetime.datetime.utcnow(),  # Not before\n",
    "        \"iat\": datetime.datetime.utcnow(),  # Issued at\n",
    "        \"kid\": kid,\n",
    "    }\n",
    "    if \"VerifiableCredential\" in credential[\"type\"]:\n",
    "        payload[\"sub\"] = credential[\"credentialSubject\"][\"id\"]\n",
    "        payload[\"vc\"] = credential\n",
    "    elif \"VerifiablePresentation\" in credential[\"type\"]:\n",
    "        payload[\"vp\"] = credential\n",
    "    return jwt.encode(payload, key, algorithm='HS256', headers=headers)"
   ]
  },
  {
   "cell_type": "markdown",
   "metadata": {},
   "source": [
    "### `verify`: verifying and decrypting a signed credential or presentation\n",
    "\n",
    "We provide a way of verifying and decrypting W3C Verifiable Credentials Data Model v2.0 conformant documents that handles both verifiable credentials and verifiable presentations using the same function."
   ]
  },
  {
   "cell_type": "code",
   "execution_count": 5,
   "metadata": {},
   "outputs": [],
   "source": [
    "def verify(key_manager, signed_credential, verifier):\n",
    "    try:\n",
    "        key = key_manager.get(jwt.get_unverified_header(signed_credential)[\"kid\"])\n",
    "        decoded_payload = jwt.decode(signed_credential, key, algorithms='HS256', audience=verifier)\n",
    "        if 'vp' in decoded_payload:\n",
    "            decoded_payload[\"vp\"][\"verifiableCredential\"] = [ \n",
    "                verify(key_manager, payload, verifier) for payload in decoded_payload[\"vp\"][\"verifiableCredential\"] \n",
    "            ]\n",
    "            return decoded_payload['vp']\n",
    "        else:\n",
    "            return decoded_payload['vc']\n",
    "    except Exception as e:\n",
    "        print(f'Verification error: {e}')\n",
    "        return None"
   ]
  },
  {
   "cell_type": "markdown",
   "metadata": {},
   "source": [
    "### Global variables \n",
    "\n",
    "We define a couple of global variables, one for the key manager we will use in the demonstration, and one for the verifier we will use as the audience for the credentials and presentation."
   ]
  },
  {
   "cell_type": "code",
   "execution_count": 6,
   "metadata": {},
   "outputs": [],
   "source": [
    "KEY_MANAGER = MockKeyManager()\n",
    "VERIFIER = \"https://verifier.example.gov\""
   ]
  },
  {
   "cell_type": "markdown",
   "metadata": {},
   "source": [
    "## Extending the Merit platform to support interoperability using the W3C Verifiable Credentials Data Model\n",
    "\n",
    "A key objective of the SBIR Phase I project is to show how the Merit platform can support open standards for credentialing in a manner acceptable to the first responder community. Below we use an example Merit credential, produced using the current Merit platform, and show how it can be transformed into a W3C Verifiable Credentials Data Model v2.0 conformant document, without loss of functionality."
   ]
  },
  {
   "cell_type": "markdown",
   "metadata": {},
   "source": [
    "### An example Merit credential\n",
    "\n",
    "We now load a JSON serialization of a Merit credential from disk. This \"merit\" is an example taken from one of our quality assurance test suites. It represents that a particular individual has administrative rights for a specific organization's credential issuance system. The merit contains basic credential metadata that maps relatively straightforwardly to equivalents in the W3C Verifiable Credential Data Model v2.0; the `fields` section of the JSON serialization contains what is equivalent to the `credentialSubject` of a verifiable credential, and in addition metadata that provides type and provenance information used by the Merit Organization Portal adminstrative application for administrators to create and manage the definition and issuance of credentials."
   ]
  },
  {
   "cell_type": "code",
   "execution_count": 7,
   "metadata": {},
   "outputs": [
    {
     "data": {
      "text/plain": [
       "{'id': 'dc30880d-2d4b-447c-905e-b79075aea95b',\n",
       " 'acceptedAt': '2023-07-17T08:52:19.489566Z',\n",
       " 'active': True,\n",
       " 'activenessFailures': None,\n",
       " 'authorizedAt': '2023-07-17T08:52:15.960677Z',\n",
       " 'completed': True,\n",
       " 'completenessFailures': None,\n",
       " 'createdAt': '2023-07-17T15:52:04.3018Z',\n",
       " 'description': 'Template for admin merit',\n",
       " 'fields': [{'canShare': False,\n",
       "   'description': \"Use this to store recipient's first name\",\n",
       "   'fieldKind': {'fieldType': 'Text',\n",
       "    'id': 'a9fa2832-4107-4c95-b7d8-0cdd15a7e2bc',\n",
       "    'name': 'Text'},\n",
       "   'name': 'First Name',\n",
       "   'templateFieldID': '1b397a27-14a0-4d43-a36f-6006611f4073',\n",
       "   'templateFieldLineage': ['3dc3f769-70cc-4e7e-81cc-ed103f9eb601'],\n",
       "   'updatedAt': '2023-07-17T15:52:19.496539Z',\n",
       "   'validationErrors': None,\n",
       "   'value': 'Hank'},\n",
       "  {'canShare': False,\n",
       "   'description': \"Use this to store recipient's last name\",\n",
       "   'fieldKind': {'fieldType': 'Text',\n",
       "    'id': 'a9fa2832-4107-4c95-b7d8-0cdd15a7e2bc',\n",
       "    'name': 'Text'},\n",
       "   'name': 'Last Name',\n",
       "   'templateFieldID': '1a7fbab6-db84-49df-8196-a971afcde447',\n",
       "   'templateFieldLineage': ['5029dd4c-9879-46cd-81ac-0f75ca0c46fb'],\n",
       "   'updatedAt': '2023-07-17T15:52:19.496539Z',\n",
       "   'validationErrors': None,\n",
       "   'value': 'Lindgren'},\n",
       "  {'canShare': False,\n",
       "   'description': \"Use this to store recipient's email address\",\n",
       "   'fieldKind': {'fieldType': 'Email',\n",
       "    'id': '0341c64a-f276-4b9f-8872-4c9f9268830b',\n",
       "    'name': 'Email'},\n",
       "   'name': 'Email',\n",
       "   'templateFieldID': '9d2c72c3-d801-4bd7-baf9-c92b3825f880',\n",
       "   'templateFieldLineage': ['9fe900b5-c2d2-4130-a72c-bb03bd623324'],\n",
       "   'updatedAt': '2023-07-17T15:52:19.496539Z',\n",
       "   'validationErrors': None,\n",
       "   'value': 'oleg+user2@gomerits.com'},\n",
       "  {'canShare': False,\n",
       "   'description': 'Use this to store the name of the Organization issuing this Merit',\n",
       "   'fieldKind': {'fieldType': 'Text',\n",
       "    'id': 'a9fa2832-4107-4c95-b7d8-0cdd15a7e2bc',\n",
       "    'name': 'Text'},\n",
       "   'name': 'Issuing Org Name',\n",
       "   'templateFieldID': '2a5cbf54-9eb3-4da4-a6c5-583a1add0205',\n",
       "   'templateFieldLineage': ['9a516485-b702-4a62-b4a5-edb2edb4ba49'],\n",
       "   'updatedAt': '2023-07-17T15:52:19.496539Z',\n",
       "   'validationErrors': None,\n",
       "   'value': 'Merit International, Inc.'},\n",
       "  {'canShare': False,\n",
       "   'description': 'Field to store Org UUID',\n",
       "   'fieldKind': {'fieldType': 'Text',\n",
       "    'id': 'a9fa2832-4107-4c95-b7d8-0cdd15a7e2bc',\n",
       "    'name': 'Text'},\n",
       "   'name': 'Org UUID',\n",
       "   'templateFieldID': 'dc3f107f-1ea0-4dae-8695-866d7d721df0',\n",
       "   'templateFieldLineage': [],\n",
       "   'updatedAt': '2023-07-17T15:52:19.496539Z',\n",
       "   'validationErrors': None,\n",
       "   'value': 'user2'},\n",
       "  {'canShare': False,\n",
       "   'description': 'Field to store Admin Phone Number',\n",
       "   'fieldKind': {'fieldType': 'PhoneNumber',\n",
       "    'id': '7157ea5d-5975-419a-87f0-3f12e9ae0bcc',\n",
       "    'name': 'PhoneNumber'},\n",
       "   'name': 'Admin Phone Number',\n",
       "   'templateFieldID': 'e90e34e2-6429-4bfb-8ca1-fe11b3bad713',\n",
       "   'templateFieldLineage': [],\n",
       "   'updatedAt': '2023-07-17T15:52:19.496539Z',\n",
       "   'validationErrors': None,\n",
       "   'value': '6317070926'},\n",
       "  {'canShare': False,\n",
       "   'description': 'Field to store Org Legal Name',\n",
       "   'fieldKind': {'fieldType': 'Text',\n",
       "    'id': 'a9fa2832-4107-4c95-b7d8-0cdd15a7e2bc',\n",
       "    'name': 'Text'},\n",
       "   'name': 'Org Legal Name',\n",
       "   'templateFieldID': '137c9f13-eccf-4baa-8577-958302e1969c',\n",
       "   'templateFieldLineage': [],\n",
       "   'updatedAt': '2023-07-17T15:52:19.496539Z',\n",
       "   'validationErrors': None,\n",
       "   'value': 'Org legal name 74d00472-85d5-4c6b-81d3-5b6353a8a7fd'},\n",
       "  {'canShare': False,\n",
       "   'description': 'Field to store Org Name',\n",
       "   'fieldKind': {'fieldType': 'Text',\n",
       "    'id': 'a9fa2832-4107-4c95-b7d8-0cdd15a7e2bc',\n",
       "    'name': 'Text'},\n",
       "   'name': 'Org Name',\n",
       "   'templateFieldID': '3aec2732-acad-4fba-8dd3-c97c390c0129',\n",
       "   'templateFieldLineage': [],\n",
       "   'updatedAt': '2023-07-17T15:52:19.496539Z',\n",
       "   'validationErrors': None,\n",
       "   'value': 'Organization Name b6e9f27b-6214-4f57-a670-5e02d2a1fdeb'},\n",
       "  {'canShare': False,\n",
       "   'description': 'Field to store Org Description',\n",
       "   'fieldKind': {'fieldType': 'Text',\n",
       "    'id': 'a9fa2832-4107-4c95-b7d8-0cdd15a7e2bc',\n",
       "    'name': 'Text'},\n",
       "   'name': 'Org Description',\n",
       "   'templateFieldID': '884fd153-2bf5-4f26-8cae-4bb75c538561',\n",
       "   'templateFieldLineage': [],\n",
       "   'updatedAt': '2023-07-17T15:52:19.496539Z',\n",
       "   'validationErrors': None,\n",
       "   'value': 'This is very important organization'},\n",
       "  {'canShare': False,\n",
       "   'description': 'Field to store Org Governing Country',\n",
       "   'fieldKind': {'fieldType': 'Text',\n",
       "    'id': 'a9fa2832-4107-4c95-b7d8-0cdd15a7e2bc',\n",
       "    'name': 'Text'},\n",
       "   'name': 'Org Governing Country',\n",
       "   'templateFieldID': 'af7c9abd-c579-4075-a63a-208002e07aea',\n",
       "   'templateFieldLineage': [],\n",
       "   'updatedAt': '2023-07-17T15:52:19.496539Z',\n",
       "   'validationErrors': None,\n",
       "   'value': 'US'},\n",
       "  {'canShare': False,\n",
       "   'description': 'Field to store Org Governing State',\n",
       "   'fieldKind': {'fieldType': 'Text',\n",
       "    'id': 'a9fa2832-4107-4c95-b7d8-0cdd15a7e2bc',\n",
       "    'name': 'Text'},\n",
       "   'name': 'Org Governing State',\n",
       "   'templateFieldID': '8c344f00-a9cf-437d-9974-3fc46935aa30',\n",
       "   'templateFieldLineage': [],\n",
       "   'updatedAt': '2023-07-17T15:52:19.496539Z',\n",
       "   'validationErrors': None,\n",
       "   'value': 'CA'}],\n",
       " 'issuer': {'id': '9a5eb92a-b34a-42b9-8fb7-10ce9449e83e',\n",
       "  'state': 'active',\n",
       "  'type': 'organization'},\n",
       " 'name': 'Admin merit',\n",
       " 'recipient': {'id': '196a8c8f-6fd9-456b-8193-4159b8dc3ab6',\n",
       "  'state': 'active',\n",
       "  'type': 'person'},\n",
       " 'rejectedAt': None,\n",
       " 'state': {'name': 'accepted', 'occurredAt': '2023-07-17T08:52:19.489566Z'},\n",
       " 'templateId': '72fdc5f3-dd82-489d-a6fa-42f6897a2f92',\n",
       " 'updatedAt': '2023-07-17T15:52:19.496539Z'}"
      ]
     },
     "execution_count": 7,
     "metadata": {},
     "output_type": "execute_result"
    }
   ],
   "source": [
    "merit = json.load(open(\"test_merit.json\", \"r\"))\n",
    "merit"
   ]
  },
  {
   "cell_type": "markdown",
   "metadata": {},
   "source": [
    "### A verifiable credential generated from the example Merit credential\n",
    "\n",
    "Next, we take the example Merit credential and use the data and metadata contained in it to generate a verifiable container document that is conformant with the W3C Verifiable Credential Data Model v2.0 standard. \n",
    "\n",
    "The mapping is straightforward and valid for any Merit credential, though lossy in the sense that the type and provenance metadata associated with the `fields` section of the Merit credential is elided in generating the `credentialSubject` section of the verifiable credential. However, the key information relative to the nature of the credential for use by the holder and verifier is completely preserved, and the semantics of the metadata is kept intact. \n",
    "\n",
    "Commercialization of this mapping should addditionally explicitly map fields, which are currently named using arbitrary strings (essentially local names) entered into the Merit Organization Portal through its credential creation and editing functionality, to linked data vocabulary properties appropriate to the use case for the specific type of verifiable credential, and a context should be added to the verifiable credential to map these local names entered into the Organization Portal to the IRIs of the corresponding property. This will establish a common and shareable semantics supporting use and proper interpretation of the fields across the verifiable credentials ecosystem, and improve the ability of administrators creating new credential types to leverage standards established by relevant communities of practice. \n",
    "\n",
    "The `credentialStatus` section of the verifiable credential provides an HTTPS endpoint for a verifier to access to confirm the status of the credential in real-time, it refers to a property-based extension of the standard's support for expressing credential status in a manner that conforms with the semantics established in the Merit platform; commercialization will require that extension to be defined and registered in the [Verifiable Credentials Specification Directory](https://w3c.github.io/vc-specs-dir/) hosted by the W3C."
   ]
  },
  {
   "cell_type": "code",
   "execution_count": 8,
   "metadata": {},
   "outputs": [
    {
     "data": {
      "text/plain": [
       "{'@context': ['https://www.w3.org/2018/credentials/v2',\n",
       "  'https://www.w3.org/2018/credentials/examples/v2',\n",
       "  'https://schema.org/'],\n",
       " 'issuer': 'did:merit:uuid:9a5eb92a-b34a-42b9-8fb7-10ce9449e83e',\n",
       " 'id': 'did:merit:uuid:dc30880d-2d4b-447c-905e-b79075aea95b',\n",
       " 'type': ['VerifiableCredential', 'Admin merit'],\n",
       " 'credentialSubject': {'id': 'did:merit:uuid:196a8c8f-6fd9-456b-8193-4159b8dc3ab6',\n",
       "  'merit': {'First Name': 'Hank',\n",
       "   'Last Name': 'Lindgren',\n",
       "   'Email': 'oleg+user2@gomerits.com',\n",
       "   'Issuing Org Name': 'Merit International, Inc.',\n",
       "   'Org UUID': 'user2',\n",
       "   'Admin Phone Number': '6317070926',\n",
       "   'Org Legal Name': 'Org legal name 74d00472-85d5-4c6b-81d3-5b6353a8a7fd',\n",
       "   'Org Name': 'Organization Name b6e9f27b-6214-4f57-a670-5e02d2a1fdeb',\n",
       "   'Org Description': 'This is very important organization',\n",
       "   'Org Governing Country': 'US',\n",
       "   'Org Governing State': 'CA'}},\n",
       " 'issuanceDate': '2023-07-17T15:52:04.3018Z',\n",
       " 'credentialStatus': {'id': 'https://vc.merit.com/status/did%3Amerit%3Auuid%3Adc30880d-2d4b-447c-905e-b79075aea95b',\n",
       "  'type': 'MeritCredentialStatusList2024',\n",
       "  'statusPurpose': 'accepted',\n",
       "  'occurredAt': '2023-07-17T08:52:19.489566Z'}}"
      ]
     },
     "execution_count": 8,
     "metadata": {},
     "output_type": "execute_result"
    }
   ],
   "source": [
    "id = did_uuid(merit[\"id\"])\n",
    "issuer = did_uuid(merit[\"issuer\"][\"id\"])\n",
    "subject = did_uuid(merit[\"recipient\"][\"id\"])\n",
    "\n",
    "verifiable_credential = {\n",
    "    \"@context\": [\n",
    "        \"https://www.w3.org/2018/credentials/v2\",\n",
    "        \"https://www.w3.org/2018/credentials/examples/v2\",\n",
    "        \"https://schema.org/\"\n",
    "    ],\n",
    "    \"issuer\": issuer,\n",
    "    \"id\": id,\n",
    "    \"type\": [\"VerifiableCredential\", merit[\"name\"]],\n",
    "    \"credentialSubject\": {\n",
    "        \"id\": subject,\n",
    "        \"merit\": { field[\"name\"]: field[\"value\"] for field in merit[\"fields\"] },\n",
    "    },\n",
    "    \"issuanceDate\": merit[\"createdAt\"],\n",
    "    \"credentialStatus\": {\n",
    "        \"id\": f'https://vc.merit.com/status/{requests.utils.quote(id)}',\n",
    "        \"type\": \"MeritCredentialStatusList2024\",\n",
    "        \"statusPurpose\": merit['state']['name'],\n",
    "        \"occurredAt\": merit['state']['occurredAt']\n",
    "    }\n",
    "}\n",
    "verifiable_credential"
   ]
  },
  {
   "cell_type": "markdown",
   "metadata": {},
   "source": [
    "### JSON Schema validation of the verifiable credential\n",
    "\n",
    "We now define a JSON schema that can validate the encoding of our generated plaintext verifiable credential. Commercialization may entail the elaboration of this schema; alternatively, official schemas provided by the W3C Verifiable Credentials ecosystem may be used instead."
   ]
  },
  {
   "cell_type": "code",
   "execution_count": 9,
   "metadata": {},
   "outputs": [],
   "source": [
    "vc_schema = {\n",
    "    \"$schema\": \"http://json-schema.org/draft-07/schema#\",\n",
    "    \"type\": \"object\",\n",
    "    \"properties\": {\n",
    "        \"@context\": {\n",
    "            \"type\": \"array\",\n",
    "            \"items\": {\n",
    "                \"type\": \"string\"\n",
    "            },\n",
    "            \"minItems\": 1\n",
    "        },\n",
    "        \"id\": {\n",
    "            \"type\": \"string\"\n",
    "        },\n",
    "        \"type\": {\n",
    "            \"type\": \"array\",\n",
    "            \"items\": {\n",
    "                \"type\": \"string\"\n",
    "            },\n",
    "            \"contains\": {\n",
    "                \"const\": \"VerifiableCredential\"\n",
    "            }\n",
    "        },\n",
    "        \"issuer\": {\n",
    "            \"type\": \"string\"\n",
    "        },\n",
    "        \"issuanceDate\": {\n",
    "            \"type\": \"string\",\n",
    "            \"format\": \"date-time\"\n",
    "        },\n",
    "        \"credentialSubject\": {\n",
    "            \"type\": \"object\",\n",
    "            \"properties\": {\n",
    "                \"id\": {\n",
    "                    \"type\": \"string\"\n",
    "                }\n",
    "            },\n",
    "            \"required\": [\"id\"]\n",
    "        },\n",
    "        \"credentialStatus\": {\n",
    "            \"type\": \"object\",\n",
    "            \"properties\": {\n",
    "                \"id\": {\n",
    "                    \"type\": \"string\"\n",
    "                },\n",
    "                \"type\": {\n",
    "                    \"type\": \"string\"\n",
    "                },\n",
    "                \"statusPurpose\": {\n",
    "                    \"type\": \"string\"\n",
    "                },\n",
    "                \"occurredAt\": {\n",
    "                    \"type\": \"string\",\n",
    "                    \"format\": \"date-time\"\n",
    "                }\n",
    "            },\n",
    "            \"required\": [\"id\"]\n",
    "        },\n",
    "        \"proof\": {\n",
    "            \"type\": \"object\",\n",
    "            \"properties\": {\n",
    "                \"type\": {\n",
    "                    \"type\": \"string\"\n",
    "                },\n",
    "                \"created\": {\n",
    "                    \"type\": \"string\",\n",
    "                    \"format\": \"date-time\"\n",
    "                },\n",
    "                \"proofValue\": {\n",
    "                    \"type\": \"string\"\n",
    "                },\n",
    "                \"verificationMethod\": {\n",
    "                    \"type\": \"string\"\n",
    "                },\n",
    "                \"jws\": {\n",
    "                    \"type\": \"string\"\n",
    "                }\n",
    "            },\n",
    "            \"required\": [\"type\", \"created\", \"proofValue\"]\n",
    "        }\n",
    "    },\n",
    "    \"required\": [\"@context\", \"id\", \"type\", \"issuer\", \"issuanceDate\", \"credentialSubject\", \"credentialStatus\"]\n",
    "}"
   ]
  },
  {
   "cell_type": "markdown",
   "metadata": {},
   "source": [
    "We now validate the verifiable credential using the schema. "
   ]
  },
  {
   "cell_type": "code",
   "execution_count": 10,
   "metadata": {},
   "outputs": [
    {
     "name": "stdout",
     "output_type": "stream",
     "text": [
      "Credential is valid.\n"
     ]
    }
   ],
   "source": [
    "try:\n",
    "    jsonschema.validate(instance=verifiable_credential, schema=vc_schema)\n",
    "    print(\"Credential is valid.\")\n",
    "except jsonschema.exceptions.ValidationError as e:\n",
    "    print(\"Credential is not valid:\", e)"
   ]
  },
  {
   "cell_type": "markdown",
   "metadata": {},
   "source": [
    "### JSON Web Token (JWT) serialization of the verifiable credential\n",
    "\n",
    "Having validated the verifiable credential, we now sign and secure it by generating a JWT token. While this approach to providing an external proof for the verifiable credential is conformant with the W3C Verifiable Credentials Data Model v2.0, we would expect commercialization to adhere to emerging recommendations from the W3C and IETF ecosystem around JSON object signing and encryption, as detailed, for example, in the 14 September 2023 W3C Working Draft [Securing Verifiable Credentials using JOSE and COSE](https://www.w3.org/TR/vc-jose-cose/)."
   ]
  },
  {
   "cell_type": "code",
   "execution_count": 11,
   "metadata": {},
   "outputs": [
    {
     "data": {
      "text/plain": [
       "'eyJhbGciOiJIUzI1NiIsImtpZCI6ImRpZDptZXJpdDp1dWlkOmU0NTQ4ZTQwLTY5MTYtNGRhOS1iMTk1LTNhYjQ4MjZkZDAwOCIsInR5cCI6IkpXVCJ9.eyJpc3MiOiJkaWQ6bWVyaXQ6dXVpZDo5YTVlYjkyYS1iMzRhLTQyYjktOGZiNy0xMGNlOTQ0OWU4M2UiLCJhdWQiOiJodHRwczovL3ZlcmlmaWVyLmV4YW1wbGUuZ292IiwiZXhwIjoxNjk1ODcwMTUxLCJuYmYiOjE2OTU3ODM3NTEsImlhdCI6MTY5NTc4Mzc1MSwia2lkIjoiZGlkOm1lcml0OnV1aWQ6ZTQ1NDhlNDAtNjkxNi00ZGE5LWIxOTUtM2FiNDgyNmRkMDA4Iiwic3ViIjoiZGlkOm1lcml0OnV1aWQ6MTk2YThjOGYtNmZkOS00NTZiLTgxOTMtNDE1OWI4ZGMzYWI2IiwidmMiOnsiQGNvbnRleHQiOlsiaHR0cHM6Ly93d3cudzMub3JnLzIwMTgvY3JlZGVudGlhbHMvdjIiLCJodHRwczovL3d3dy53My5vcmcvMjAxOC9jcmVkZW50aWFscy9leGFtcGxlcy92MiIsImh0dHBzOi8vc2NoZW1hLm9yZy8iXSwiaXNzdWVyIjoiZGlkOm1lcml0OnV1aWQ6OWE1ZWI5MmEtYjM0YS00MmI5LThmYjctMTBjZTk0NDllODNlIiwiaWQiOiJkaWQ6bWVyaXQ6dXVpZDpkYzMwODgwZC0yZDRiLTQ0N2MtOTA1ZS1iNzkwNzVhZWE5NWIiLCJ0eXBlIjpbIlZlcmlmaWFibGVDcmVkZW50aWFsIiwiQWRtaW4gbWVyaXQiXSwiY3JlZGVudGlhbFN1YmplY3QiOnsiaWQiOiJkaWQ6bWVyaXQ6dXVpZDoxOTZhOGM4Zi02ZmQ5LTQ1NmItODE5My00MTU5YjhkYzNhYjYiLCJtZXJpdCI6eyJGaXJzdCBOYW1lIjoiSGFuayIsIkxhc3QgTmFtZSI6IkxpbmRncmVuIiwiRW1haWwiOiJvbGVnK3VzZXIyQGdvbWVyaXRzLmNvbSIsIklzc3VpbmcgT3JnIE5hbWUiOiJNZXJpdCBJbnRlcm5hdGlvbmFsLCBJbmMuIiwiT3JnIFVVSUQiOiJ1c2VyMiIsIkFkbWluIFBob25lIE51bWJlciI6IjYzMTcwNzA5MjYiLCJPcmcgTGVnYWwgTmFtZSI6Ik9yZyBsZWdhbCBuYW1lIDc0ZDAwNDcyLTg1ZDUtNGM2Yi04MWQzLTViNjM1M2E4YTdmZCIsIk9yZyBOYW1lIjoiT3JnYW5pemF0aW9uIE5hbWUgYjZlOWYyN2ItNjIxNC00ZjU3LWE2NzAtNWUwMmQyYTFmZGViIiwiT3JnIERlc2NyaXB0aW9uIjoiVGhpcyBpcyB2ZXJ5IGltcG9ydGFudCBvcmdhbml6YXRpb24iLCJPcmcgR292ZXJuaW5nIENvdW50cnkiOiJVUyIsIk9yZyBHb3Zlcm5pbmcgU3RhdGUiOiJDQSJ9fSwiaXNzdWFuY2VEYXRlIjoiMjAyMy0wNy0xN1QxNTo1MjowNC4zMDE4WiIsImNyZWRlbnRpYWxTdGF0dXMiOnsiaWQiOiJodHRwczovL3ZjLm1lcml0LmNvbS9zdGF0dXMvZGlkJTNBbWVyaXQlM0F1dWlkJTNBZGMzMDg4MGQtMmQ0Yi00NDdjLTkwNWUtYjc5MDc1YWVhOTViIiwidHlwZSI6Ik1lcml0Q3JlZGVudGlhbFN0YXR1c0xpc3QyMDI0Iiwic3RhdHVzUHVycG9zZSI6ImFjY2VwdGVkIiwib2NjdXJyZWRBdCI6IjIwMjMtMDctMTdUMDg6NTI6MTkuNDg5NTY2WiJ9fX0._2oMQQNqRqesWVDzcYEgZPKR5J0kDNzC1jk1veTR8oE'"
      ]
     },
     "execution_count": 11,
     "metadata": {},
     "output_type": "execute_result"
    }
   ],
   "source": [
    "signed_vc = sign(KEY_MANAGER, verifiable_credential, \"secret\", VERIFIER)\n",
    "signed_vc"
   ]
  },
  {
   "cell_type": "markdown",
   "metadata": {},
   "source": [
    "Now we reverse the process, showing how, using the key manager to retrieve the key based on the key identifier provided in the header of the token, we can recover a conformant plaintext verifiable credential."
   ]
  },
  {
   "cell_type": "code",
   "execution_count": 12,
   "metadata": {},
   "outputs": [
    {
     "data": {
      "text/plain": [
       "{'@context': ['https://www.w3.org/2018/credentials/v2',\n",
       "  'https://www.w3.org/2018/credentials/examples/v2',\n",
       "  'https://schema.org/'],\n",
       " 'issuer': 'did:merit:uuid:9a5eb92a-b34a-42b9-8fb7-10ce9449e83e',\n",
       " 'id': 'did:merit:uuid:dc30880d-2d4b-447c-905e-b79075aea95b',\n",
       " 'type': ['VerifiableCredential', 'Admin merit'],\n",
       " 'credentialSubject': {'id': 'did:merit:uuid:196a8c8f-6fd9-456b-8193-4159b8dc3ab6',\n",
       "  'merit': {'First Name': 'Hank',\n",
       "   'Last Name': 'Lindgren',\n",
       "   'Email': 'oleg+user2@gomerits.com',\n",
       "   'Issuing Org Name': 'Merit International, Inc.',\n",
       "   'Org UUID': 'user2',\n",
       "   'Admin Phone Number': '6317070926',\n",
       "   'Org Legal Name': 'Org legal name 74d00472-85d5-4c6b-81d3-5b6353a8a7fd',\n",
       "   'Org Name': 'Organization Name b6e9f27b-6214-4f57-a670-5e02d2a1fdeb',\n",
       "   'Org Description': 'This is very important organization',\n",
       "   'Org Governing Country': 'US',\n",
       "   'Org Governing State': 'CA'}},\n",
       " 'issuanceDate': '2023-07-17T15:52:04.3018Z',\n",
       " 'credentialStatus': {'id': 'https://vc.merit.com/status/did%3Amerit%3Auuid%3Adc30880d-2d4b-447c-905e-b79075aea95b',\n",
       "  'type': 'MeritCredentialStatusList2024',\n",
       "  'statusPurpose': 'accepted',\n",
       "  'occurredAt': '2023-07-17T08:52:19.489566Z'}}"
      ]
     },
     "execution_count": 12,
     "metadata": {},
     "output_type": "execute_result"
    }
   ],
   "source": [
    "key = KEY_MANAGER.get(jwt.get_unverified_header(signed_vc)[\"kid\"])\n",
    "verifiable_credential = verify(KEY_MANAGER, signed_vc, VERIFIER)\n",
    "verifiable_credential"
   ]
  },
  {
   "cell_type": "markdown",
   "metadata": {},
   "source": [
    "## Representing NIMS resource types and qualifications into a credentialSubject\n",
    "\n",
    "We now show how resource types and qualitifcations conforming the to NIMS data model and Resource Typing Library Tool (RTLT) can be represented in a credential. Recall the example first responder from the demonstration shown earlier. We show how, in the same manner as shown in detail above, the Merit credential issued to Clara Fourth can be serialized into a W3C Verifiable Credential Data Model v2.0 conformant document. Commercialization will probably use IRIs defined in a linked data vocabulary that captures the resource type information and other entity types, proerties and realtions implicit in the NIMS data model and Resource Typing Library Tool, instead of the literals shown in this example.  "
   ]
  },
  {
   "cell_type": "code",
   "execution_count": 13,
   "metadata": {},
   "outputs": [
    {
     "data": {
      "text/plain": [
       "{'@context': ['https://www.w3.org/2018/credentials/v1',\n",
       "  'https://example.com/examples/v1'],\n",
       " 'id': 'did:merit:uuid:1774658b-c3b8-4188-9848-34ba9ddc9b2d',\n",
       " 'type': ['VerifiableCredential', 'RISCredential'],\n",
       " 'issuer': 'did:merit:uuid:5cbb708a-acc1-49b8-a8f0-afd9760367f2',\n",
       " 'issuanceDate': '2023-09-27T03:02:31.377292Z',\n",
       " 'credentialSubject': {'id': 'did:merit:uuid:10e05f2e-f59f-408b-91eb-28e431ed086b',\n",
       "  'First Name': 'Clara',\n",
       "  'Last Name': 'Fourth',\n",
       "  'Issuing Organization': 'FDEM',\n",
       "  'Organization': 'FDEM',\n",
       "  'FEMA Region': '4',\n",
       "  'Status': 'Active',\n",
       "  'Title/Position': 'Deputy Incident Commander',\n",
       "  'Qualifications': [{'Qualification Type': 'ICS-100',\n",
       "    'Qualification Title': 'Introduction to the Incident Command System',\n",
       "    'Qualification Date': '2021-05-09T00:00:00Z'},\n",
       "   {'resourceType': 'ICS-200',\n",
       "    'Qualification Title': 'ICS for Single Resources and Initial Action Incidents',\n",
       "    'Qualification Date': '2021-09-28T00:00:00Z'},\n",
       "   {'resourceType': 'ICS-300',\n",
       "    'Qualification Title': 'Intermediate ICS for Expanding Incidents',\n",
       "    'Qualification Date': '2022-08-14T00:00:00Z'}]}}"
      ]
     },
     "execution_count": 13,
     "metadata": {},
     "output_type": "execute_result"
    }
   ],
   "source": [
    "vc2_id = did_uuid(uuid.uuid4())\n",
    "vc2_issuer_id = did_uuid(uuid.uuid4())\n",
    "vc2_subject_id = did_uuid(uuid.uuid4())\n",
    "\n",
    "verifiable_credential_2 = {\n",
    "  \"@context\": [\n",
    "    \"https://www.w3.org/2018/credentials/v1\",\n",
    "    \"https://example.com/examples/v1\"\n",
    "  ],\n",
    "  \"id\": vc2_id,\n",
    "  \"type\": [\"VerifiableCredential\", \"RISCredential\"],\n",
    "  \"issuer\": vc2_issuer_id,\n",
    "  \"issuanceDate\": datetime.datetime.utcnow().isoformat() + 'Z',\n",
    "  \"credentialSubject\": {\n",
    "    \"id\": vc2_subject_id,\n",
    "    \"First Name\": \"Clara\",\n",
    "    \"Last Name\": 'Fourth',\n",
    "    \"Issuing Organization\": \"FDEM\",\n",
    "    \"Organization\": \"FDEM\",\n",
    "    \"FEMA Region\": \"4\",\n",
    "    \"Status\": \"Active\",\n",
    "    \"Title/Position\": \"Deputy Incident Commander\",\n",
    "    \"Qualifications\": [\n",
    "      {\n",
    "        \"Qualification Type\": \"ICS-100\",\n",
    "        \"Qualification Title\": \"Introduction to the Incident Command System\",\n",
    "        \"Qualification Date\": \"2021-05-09T00:00:00Z\",\n",
    "      },\n",
    "      {\n",
    "        \"resourceType\": \"ICS-200\",\n",
    "        \"Qualification Title\": \"ICS for Single Resources and Initial Action Incidents\",\n",
    "        \"Qualification Date\": \"2021-09-28T00:00:00Z\",\n",
    "      },\n",
    "      {\n",
    "        \"resourceType\": \"ICS-300\",\n",
    "        \"Qualification Title\": \"Intermediate ICS for Expanding Incidents\",\n",
    "        \"Qualification Date\": \"2022-08-14T00:00:00Z\",\n",
    "      },\n",
    "    ]\n",
    "  }\n",
    "}\n",
    "\n",
    "verifiable_credential_2"
   ]
  },
  {
   "cell_type": "markdown",
   "metadata": {},
   "source": [
    "## Extending verifiable credentials to support geo-aware verification\n",
    "\n",
    "A second key objective of the SBIR Phase I project is to show how geolocation and geofencing capabilities can be layered onto the Merit platform's support for interoperability in a way that address use cases in the first responder application domain, where many scenarios involve the use of digital badging to manage and monitor movement of authorized personnel into specific geographical locations and regions. Below we show how the Merit platform coupled with the interoperability approach demonstrated above can be enhanced to provide such capabilities. Merit personnel first developed a proof of concept demonstrating this in October 2022, using the existing Merit platform and representation of credentials; below, we show how this concept would work, and be made interoperable with other third-party solutions, by leveraging the representational flexibility of the W3C Verifiable Credentials Data Model to provide a preliminary workflow plan for delivering location awareness."
   ]
  },
  {
   "cell_type": "markdown",
   "metadata": {},
   "source": [
    "### Adding geofencing into the credentialSubject of the verifiable credential\n",
    "\n",
    "Given the above verifiable credential that we have generated from a Merit credential, we now show how we can support the incorporation of geofencing data into the `credentialSubject` of the conforming JSON document. For this example, we use the Schema.org vocabulary's `schema:GeoCircle` type and `schema:eligibleRegion` property to limit the credential's scope to the geographical area defined by a circle 50 meters in radius around the location of the auditorium of the General Services Administration Capital Region building at 301 7th St SW, Washington, DC 20024."
   ]
  },
  {
   "cell_type": "code",
   "execution_count": 14,
   "metadata": {},
   "outputs": [
    {
     "data": {
      "text/plain": [
       "{'@context': ['https://www.w3.org/2018/credentials/v2',\n",
       "  'https://www.w3.org/2018/credentials/examples/v2',\n",
       "  'https://schema.org/'],\n",
       " 'issuer': 'did:merit:uuid:9a5eb92a-b34a-42b9-8fb7-10ce9449e83e',\n",
       " 'id': 'did:merit:uuid:dc30880d-2d4b-447c-905e-b79075aea95b',\n",
       " 'type': ['VerifiableCredential', 'Admin merit'],\n",
       " 'credentialSubject': {'id': 'did:merit:uuid:196a8c8f-6fd9-456b-8193-4159b8dc3ab6',\n",
       "  'merit': {'First Name': 'Hank',\n",
       "   'Last Name': 'Lindgren',\n",
       "   'Email': 'oleg+user2@gomerits.com',\n",
       "   'Issuing Org Name': 'Merit International, Inc.',\n",
       "   'Org UUID': 'user2',\n",
       "   'Admin Phone Number': '6317070926',\n",
       "   'Org Legal Name': 'Org legal name 74d00472-85d5-4c6b-81d3-5b6353a8a7fd',\n",
       "   'Org Name': 'Organization Name b6e9f27b-6214-4f57-a670-5e02d2a1fdeb',\n",
       "   'Org Description': 'This is very important organization',\n",
       "   'Org Governing Country': 'US',\n",
       "   'Org Governing State': 'CA'},\n",
       "  'eligibleRegion': {'type': 'GeoCircle',\n",
       "   'geoMidpoint': {'type': 'GeoCoordinates',\n",
       "    'latitude': '38.88508',\n",
       "    'longitude': '-77.02295'},\n",
       "   'geoRadius': '50'}},\n",
       " 'issuanceDate': '2023-07-17T15:52:04.3018Z',\n",
       " 'credentialStatus': {'id': 'https://vc.merit.com/status/did%3Amerit%3Auuid%3Adc30880d-2d4b-447c-905e-b79075aea95b',\n",
       "  'type': 'MeritCredentialStatusList2024',\n",
       "  'statusPurpose': 'accepted',\n",
       "  'occurredAt': '2023-07-17T08:52:19.489566Z'}}"
      ]
     },
     "execution_count": 14,
     "metadata": {},
     "output_type": "execute_result"
    }
   ],
   "source": [
    "verifiable_credential[\"credentialSubject\"][\"eligibleRegion\"] = {\n",
    "    \"type\": \"GeoCircle\",\n",
    "    \"geoMidpoint\": {\n",
    "        \"type\": \"GeoCoordinates\",\n",
    "        \"latitude\": \"38.88508\",\n",
    "        \"longitude\": \"-77.02295\"\n",
    "    },\n",
    "    \"geoRadius\": \"50\"\n",
    "}\n",
    "verifiable_credential"
   ]
  },
  {
   "cell_type": "markdown",
   "metadata": {},
   "source": [
    "We sign and secure the newly geofenced verifiable credential by generating another JWT token. "
   ]
  },
  {
   "cell_type": "code",
   "execution_count": 15,
   "metadata": {},
   "outputs": [
    {
     "data": {
      "text/plain": [
       "'eyJhbGciOiJIUzI1NiIsImtpZCI6ImRpZDptZXJpdDp1dWlkOmNkZDBiNGFlLTdkZWItNDcyZC05NWU1LWM1YTEzNmJhZGJjZSIsInR5cCI6IkpXVCJ9.eyJpc3MiOiJkaWQ6bWVyaXQ6dXVpZDo5YTVlYjkyYS1iMzRhLTQyYjktOGZiNy0xMGNlOTQ0OWU4M2UiLCJhdWQiOiJodHRwczovL3ZlcmlmaWVyLmV4YW1wbGUuZ292IiwiZXhwIjoxNjk1ODcwMTUxLCJuYmYiOjE2OTU3ODM3NTEsImlhdCI6MTY5NTc4Mzc1MSwia2lkIjoiZGlkOm1lcml0OnV1aWQ6Y2RkMGI0YWUtN2RlYi00NzJkLTk1ZTUtYzVhMTM2YmFkYmNlIiwic3ViIjoiZGlkOm1lcml0OnV1aWQ6MTk2YThjOGYtNmZkOS00NTZiLTgxOTMtNDE1OWI4ZGMzYWI2IiwidmMiOnsiQGNvbnRleHQiOlsiaHR0cHM6Ly93d3cudzMub3JnLzIwMTgvY3JlZGVudGlhbHMvdjIiLCJodHRwczovL3d3dy53My5vcmcvMjAxOC9jcmVkZW50aWFscy9leGFtcGxlcy92MiIsImh0dHBzOi8vc2NoZW1hLm9yZy8iXSwiaXNzdWVyIjoiZGlkOm1lcml0OnV1aWQ6OWE1ZWI5MmEtYjM0YS00MmI5LThmYjctMTBjZTk0NDllODNlIiwiaWQiOiJkaWQ6bWVyaXQ6dXVpZDpkYzMwODgwZC0yZDRiLTQ0N2MtOTA1ZS1iNzkwNzVhZWE5NWIiLCJ0eXBlIjpbIlZlcmlmaWFibGVDcmVkZW50aWFsIiwiQWRtaW4gbWVyaXQiXSwiY3JlZGVudGlhbFN1YmplY3QiOnsiaWQiOiJkaWQ6bWVyaXQ6dXVpZDoxOTZhOGM4Zi02ZmQ5LTQ1NmItODE5My00MTU5YjhkYzNhYjYiLCJtZXJpdCI6eyJGaXJzdCBOYW1lIjoiSGFuayIsIkxhc3QgTmFtZSI6IkxpbmRncmVuIiwiRW1haWwiOiJvbGVnK3VzZXIyQGdvbWVyaXRzLmNvbSIsIklzc3VpbmcgT3JnIE5hbWUiOiJNZXJpdCBJbnRlcm5hdGlvbmFsLCBJbmMuIiwiT3JnIFVVSUQiOiJ1c2VyMiIsIkFkbWluIFBob25lIE51bWJlciI6IjYzMTcwNzA5MjYiLCJPcmcgTGVnYWwgTmFtZSI6Ik9yZyBsZWdhbCBuYW1lIDc0ZDAwNDcyLTg1ZDUtNGM2Yi04MWQzLTViNjM1M2E4YTdmZCIsIk9yZyBOYW1lIjoiT3JnYW5pemF0aW9uIE5hbWUgYjZlOWYyN2ItNjIxNC00ZjU3LWE2NzAtNWUwMmQyYTFmZGViIiwiT3JnIERlc2NyaXB0aW9uIjoiVGhpcyBpcyB2ZXJ5IGltcG9ydGFudCBvcmdhbml6YXRpb24iLCJPcmcgR292ZXJuaW5nIENvdW50cnkiOiJVUyIsIk9yZyBHb3Zlcm5pbmcgU3RhdGUiOiJDQSJ9LCJlbGlnaWJsZVJlZ2lvbiI6eyJ0eXBlIjoiR2VvQ2lyY2xlIiwiZ2VvTWlkcG9pbnQiOnsidHlwZSI6Ikdlb0Nvb3JkaW5hdGVzIiwibGF0aXR1ZGUiOiIzOC44ODUwOCIsImxvbmdpdHVkZSI6Ii03Ny4wMjI5NSJ9LCJnZW9SYWRpdXMiOiI1MCJ9fSwiaXNzdWFuY2VEYXRlIjoiMjAyMy0wNy0xN1QxNTo1MjowNC4zMDE4WiIsImNyZWRlbnRpYWxTdGF0dXMiOnsiaWQiOiJodHRwczovL3ZjLm1lcml0LmNvbS9zdGF0dXMvZGlkJTNBbWVyaXQlM0F1dWlkJTNBZGMzMDg4MGQtMmQ0Yi00NDdjLTkwNWUtYjc5MDc1YWVhOTViIiwidHlwZSI6Ik1lcml0Q3JlZGVudGlhbFN0YXR1c0xpc3QyMDI0Iiwic3RhdHVzUHVycG9zZSI6ImFjY2VwdGVkIiwib2NjdXJyZWRBdCI6IjIwMjMtMDctMTdUMDg6NTI6MTkuNDg5NTY2WiJ9fX0.VmV7ZKLD4yMXf0rVoRfhVLl5EWgMDZAA8LVteZzq54c'"
      ]
     },
     "execution_count": 15,
     "metadata": {},
     "output_type": "execute_result"
    }
   ],
   "source": [
    "signed_geofenced_vc = sign(KEY_MANAGER, verifiable_credential, \"secret2\", VERIFIER)\n",
    "signed_geofenced_vc"
   ]
  },
  {
   "cell_type": "markdown",
   "metadata": {},
   "source": [
    "### Generating a geolocation verifiable credential\n",
    "\n",
    "Now that we have a verifiable credential that contains geofencing data, we show how we can additionally provide a verifiable credential that expresses the real-time location of a holder of that credential. The scenario makes several assumptions:\n",
    "\n",
    "1. The holder's digital wallet is on a mobile device with secure GPS geolocation capabilities.\n",
    "\n",
    "1. The digital wallet is also capable of generating a verifiable credential, issued by the holder from her mobile device, that encodes real-time geolocation data obtained from the device, signs it, and makes it available to be combined with other verifiable credentials in the wallet to form a verifiable presentation that combines a given credential with the geolocation credential.\n",
    "\n",
    "Commercialization of this kind of wallet functionality will require development effort to integrate the wallet with device GPS services and to provide the workflow and orchestration that the wallet will need to execute on-board to support this kind of capability. The following scenario does not address how this workflow will be executed in a context-senstive way that does not impact the user experience negatively, particularly given the challenges presented in the sort of operational environments that first responders work in; commercialization efforts will need to pay close attention to make such a system practical. However, our experience with the October 2022 proof-of-concept provides evidence that the technical and usability risks can be effectively managed.\n",
    "\n",
    "Continuing the above example, we imagine that a holder with a geo-aware digital wallet as described generates a geolocation verifiable credential, which has a `credentialSubject` that uses the Schema.org `schema:GeoCoordinates` type and `schema:geo` property to represent their current location in the food court at 500 L'Enfant Plaza SW, Washington, DC 20024, across the street from the GSA auditorium."
   ]
  },
  {
   "cell_type": "code",
   "execution_count": 16,
   "metadata": {},
   "outputs": [
    {
     "data": {
      "text/plain": [
       "{'@context': ['https://www.w3.org/2018/credentials/v1',\n",
       "  'https://www.w3.org/2018/credentials/examples/v1',\n",
       "  'https://schema.org/'],\n",
       " 'issuer': 'did:merit:uuid:196a8c8f-6fd9-456b-8193-4159b8dc3ab6',\n",
       " 'id': 'did:merit:uuid:8c2212e5-cf4b-40c3-bbd7-4f03eb949c32',\n",
       " 'type': ['VerifiableCredential', 'RealtimeGeolocation'],\n",
       " 'credentialSubject': {'id': 'urn:uuid:196a8c8f-6fd9-456b-8193-4159b8dc3ab6',\n",
       "  'geo': {'type': 'GeoCoordinates',\n",
       "   'latitude': '38.88460',\n",
       "   'longitude': '-77.02273'}},\n",
       " 'issuanceDate': '2023-09-27T03:02:31.398842Z'}"
      ]
     },
     "execution_count": 16,
     "metadata": {},
     "output_type": "execute_result"
    }
   ],
   "source": [
    "geolocation_vc_id = did_uuid(uuid.uuid4())\n",
    "geolocation_vc = {\n",
    "    '@context': [\n",
    "        'https://www.w3.org/2018/credentials/v1', \n",
    "        'https://www.w3.org/2018/credentials/examples/v1', \n",
    "        'https://schema.org/'\n",
    "    ],\n",
    "    'issuer': subject,\n",
    "    'id': geolocation_vc_id,\n",
    "    'type': ['VerifiableCredential', 'RealtimeGeolocation'],\n",
    "    'credentialSubject' : {\n",
    "        'id': 'urn:uuid:196a8c8f-6fd9-456b-8193-4159b8dc3ab6',\n",
    "        'geo': {\n",
    "            'type': 'GeoCoordinates',\n",
    "            'latitude': '38.88460',\n",
    "            'longitude': '-77.02273'\n",
    "        }\n",
    "    },\n",
    "    'issuanceDate': datetime.datetime.utcnow().isoformat() + 'Z'\n",
    "}\n",
    "geolocation_vc"
   ]
  },
  {
   "cell_type": "markdown",
   "metadata": {},
   "source": [
    "Continuing with this scenario, we further imagine that the holder, using the geo-aware digital wallet, now signs and secures the geolocation verifiable credential by generating a JWT token. "
   ]
  },
  {
   "cell_type": "code",
   "execution_count": 17,
   "metadata": {},
   "outputs": [
    {
     "data": {
      "text/plain": [
       "'eyJhbGciOiJIUzI1NiIsImtpZCI6ImRpZDptZXJpdDp1dWlkOmZhNjEyMTRhLTY3NjYtNGIzZi1iN2NjLWRlMDA2OWRkYzE5NiIsInR5cCI6IkpXVCJ9.eyJpc3MiOiJkaWQ6bWVyaXQ6dXVpZDoxOTZhOGM4Zi02ZmQ5LTQ1NmItODE5My00MTU5YjhkYzNhYjYiLCJhdWQiOiJodHRwczovL3ZlcmlmaWVyLmV4YW1wbGUuZ292IiwiZXhwIjoxNjk1ODcwMTUxLCJuYmYiOjE2OTU3ODM3NTEsImlhdCI6MTY5NTc4Mzc1MSwia2lkIjoiZGlkOm1lcml0OnV1aWQ6ZmE2MTIxNGEtNjc2Ni00YjNmLWI3Y2MtZGUwMDY5ZGRjMTk2Iiwic3ViIjoidXJuOnV1aWQ6MTk2YThjOGYtNmZkOS00NTZiLTgxOTMtNDE1OWI4ZGMzYWI2IiwidmMiOnsiQGNvbnRleHQiOlsiaHR0cHM6Ly93d3cudzMub3JnLzIwMTgvY3JlZGVudGlhbHMvdjEiLCJodHRwczovL3d3dy53My5vcmcvMjAxOC9jcmVkZW50aWFscy9leGFtcGxlcy92MSIsImh0dHBzOi8vc2NoZW1hLm9yZy8iXSwiaXNzdWVyIjoiZGlkOm1lcml0OnV1aWQ6MTk2YThjOGYtNmZkOS00NTZiLTgxOTMtNDE1OWI4ZGMzYWI2IiwiaWQiOiJkaWQ6bWVyaXQ6dXVpZDo4YzIyMTJlNS1jZjRiLTQwYzMtYmJkNy00ZjAzZWI5NDljMzIiLCJ0eXBlIjpbIlZlcmlmaWFibGVDcmVkZW50aWFsIiwiUmVhbHRpbWVHZW9sb2NhdGlvbiJdLCJjcmVkZW50aWFsU3ViamVjdCI6eyJpZCI6InVybjp1dWlkOjE5NmE4YzhmLTZmZDktNDU2Yi04MTkzLTQxNTliOGRjM2FiNiIsImdlbyI6eyJ0eXBlIjoiR2VvQ29vcmRpbmF0ZXMiLCJsYXRpdHVkZSI6IjM4Ljg4NDYwIiwibG9uZ2l0dWRlIjoiLTc3LjAyMjczIn19LCJpc3N1YW5jZURhdGUiOiIyMDIzLTA5LTI3VDAzOjAyOjMxLjM5ODg0MloifX0.xikWcFZQ8UUfrJjQScR1_bdjtlJSfjj1r-qtHBISouc'"
      ]
     },
     "execution_count": 17,
     "metadata": {},
     "output_type": "execute_result"
    }
   ],
   "source": [
    "signed_geolocation_vc = sign(KEY_MANAGER, geolocation_vc, \"secret3\", VERIFIER)\n",
    "signed_geolocation_vc"
   ]
  },
  {
   "cell_type": "markdown",
   "metadata": {},
   "source": [
    "### Generating a verifiable presentation combining the geofenced credential with the geolocation credential\n",
    "\n",
    "The final step in the scenario is for the holder, in the act of providing their geofenced credential from before to a verifier, to combine with it with the geolocation credential generated in the real-tine into a verifiable presentation for presentation to the verifier."
   ]
  },
  {
   "cell_type": "code",
   "execution_count": 18,
   "metadata": {},
   "outputs": [
    {
     "data": {
      "text/plain": [
       "{'@context': ['https://www.w3.org/2018/credentials/v1',\n",
       "  'https://www.w3.org/2018/credentials/examples/v1',\n",
       "  'https://schema.org/'],\n",
       " 'issuer': 'did:merit:uuid:196a8c8f-6fd9-456b-8193-4159b8dc3ab6',\n",
       " 'id': 'did:merit:uuid:302963e1-f100-4d3a-bf66-dd688e6b8891',\n",
       " 'type': ['VerifiablePresentation'],\n",
       " 'verifiableCredential': ['eyJhbGciOiJIUzI1NiIsImtpZCI6ImRpZDptZXJpdDp1dWlkOmNkZDBiNGFlLTdkZWItNDcyZC05NWU1LWM1YTEzNmJhZGJjZSIsInR5cCI6IkpXVCJ9.eyJpc3MiOiJkaWQ6bWVyaXQ6dXVpZDo5YTVlYjkyYS1iMzRhLTQyYjktOGZiNy0xMGNlOTQ0OWU4M2UiLCJhdWQiOiJodHRwczovL3ZlcmlmaWVyLmV4YW1wbGUuZ292IiwiZXhwIjoxNjk1ODcwMTUxLCJuYmYiOjE2OTU3ODM3NTEsImlhdCI6MTY5NTc4Mzc1MSwia2lkIjoiZGlkOm1lcml0OnV1aWQ6Y2RkMGI0YWUtN2RlYi00NzJkLTk1ZTUtYzVhMTM2YmFkYmNlIiwic3ViIjoiZGlkOm1lcml0OnV1aWQ6MTk2YThjOGYtNmZkOS00NTZiLTgxOTMtNDE1OWI4ZGMzYWI2IiwidmMiOnsiQGNvbnRleHQiOlsiaHR0cHM6Ly93d3cudzMub3JnLzIwMTgvY3JlZGVudGlhbHMvdjIiLCJodHRwczovL3d3dy53My5vcmcvMjAxOC9jcmVkZW50aWFscy9leGFtcGxlcy92MiIsImh0dHBzOi8vc2NoZW1hLm9yZy8iXSwiaXNzdWVyIjoiZGlkOm1lcml0OnV1aWQ6OWE1ZWI5MmEtYjM0YS00MmI5LThmYjctMTBjZTk0NDllODNlIiwiaWQiOiJkaWQ6bWVyaXQ6dXVpZDpkYzMwODgwZC0yZDRiLTQ0N2MtOTA1ZS1iNzkwNzVhZWE5NWIiLCJ0eXBlIjpbIlZlcmlmaWFibGVDcmVkZW50aWFsIiwiQWRtaW4gbWVyaXQiXSwiY3JlZGVudGlhbFN1YmplY3QiOnsiaWQiOiJkaWQ6bWVyaXQ6dXVpZDoxOTZhOGM4Zi02ZmQ5LTQ1NmItODE5My00MTU5YjhkYzNhYjYiLCJtZXJpdCI6eyJGaXJzdCBOYW1lIjoiSGFuayIsIkxhc3QgTmFtZSI6IkxpbmRncmVuIiwiRW1haWwiOiJvbGVnK3VzZXIyQGdvbWVyaXRzLmNvbSIsIklzc3VpbmcgT3JnIE5hbWUiOiJNZXJpdCBJbnRlcm5hdGlvbmFsLCBJbmMuIiwiT3JnIFVVSUQiOiJ1c2VyMiIsIkFkbWluIFBob25lIE51bWJlciI6IjYzMTcwNzA5MjYiLCJPcmcgTGVnYWwgTmFtZSI6Ik9yZyBsZWdhbCBuYW1lIDc0ZDAwNDcyLTg1ZDUtNGM2Yi04MWQzLTViNjM1M2E4YTdmZCIsIk9yZyBOYW1lIjoiT3JnYW5pemF0aW9uIE5hbWUgYjZlOWYyN2ItNjIxNC00ZjU3LWE2NzAtNWUwMmQyYTFmZGViIiwiT3JnIERlc2NyaXB0aW9uIjoiVGhpcyBpcyB2ZXJ5IGltcG9ydGFudCBvcmdhbml6YXRpb24iLCJPcmcgR292ZXJuaW5nIENvdW50cnkiOiJVUyIsIk9yZyBHb3Zlcm5pbmcgU3RhdGUiOiJDQSJ9LCJlbGlnaWJsZVJlZ2lvbiI6eyJ0eXBlIjoiR2VvQ2lyY2xlIiwiZ2VvTWlkcG9pbnQiOnsidHlwZSI6Ikdlb0Nvb3JkaW5hdGVzIiwibGF0aXR1ZGUiOiIzOC44ODUwOCIsImxvbmdpdHVkZSI6Ii03Ny4wMjI5NSJ9LCJnZW9SYWRpdXMiOiI1MCJ9fSwiaXNzdWFuY2VEYXRlIjoiMjAyMy0wNy0xN1QxNTo1MjowNC4zMDE4WiIsImNyZWRlbnRpYWxTdGF0dXMiOnsiaWQiOiJodHRwczovL3ZjLm1lcml0LmNvbS9zdGF0dXMvZGlkJTNBbWVyaXQlM0F1dWlkJTNBZGMzMDg4MGQtMmQ0Yi00NDdjLTkwNWUtYjc5MDc1YWVhOTViIiwidHlwZSI6Ik1lcml0Q3JlZGVudGlhbFN0YXR1c0xpc3QyMDI0Iiwic3RhdHVzUHVycG9zZSI6ImFjY2VwdGVkIiwib2NjdXJyZWRBdCI6IjIwMjMtMDctMTdUMDg6NTI6MTkuNDg5NTY2WiJ9fX0.VmV7ZKLD4yMXf0rVoRfhVLl5EWgMDZAA8LVteZzq54c',\n",
       "  'eyJhbGciOiJIUzI1NiIsImtpZCI6ImRpZDptZXJpdDp1dWlkOmZhNjEyMTRhLTY3NjYtNGIzZi1iN2NjLWRlMDA2OWRkYzE5NiIsInR5cCI6IkpXVCJ9.eyJpc3MiOiJkaWQ6bWVyaXQ6dXVpZDoxOTZhOGM4Zi02ZmQ5LTQ1NmItODE5My00MTU5YjhkYzNhYjYiLCJhdWQiOiJodHRwczovL3ZlcmlmaWVyLmV4YW1wbGUuZ292IiwiZXhwIjoxNjk1ODcwMTUxLCJuYmYiOjE2OTU3ODM3NTEsImlhdCI6MTY5NTc4Mzc1MSwia2lkIjoiZGlkOm1lcml0OnV1aWQ6ZmE2MTIxNGEtNjc2Ni00YjNmLWI3Y2MtZGUwMDY5ZGRjMTk2Iiwic3ViIjoidXJuOnV1aWQ6MTk2YThjOGYtNmZkOS00NTZiLTgxOTMtNDE1OWI4ZGMzYWI2IiwidmMiOnsiQGNvbnRleHQiOlsiaHR0cHM6Ly93d3cudzMub3JnLzIwMTgvY3JlZGVudGlhbHMvdjEiLCJodHRwczovL3d3dy53My5vcmcvMjAxOC9jcmVkZW50aWFscy9leGFtcGxlcy92MSIsImh0dHBzOi8vc2NoZW1hLm9yZy8iXSwiaXNzdWVyIjoiZGlkOm1lcml0OnV1aWQ6MTk2YThjOGYtNmZkOS00NTZiLTgxOTMtNDE1OWI4ZGMzYWI2IiwiaWQiOiJkaWQ6bWVyaXQ6dXVpZDo4YzIyMTJlNS1jZjRiLTQwYzMtYmJkNy00ZjAzZWI5NDljMzIiLCJ0eXBlIjpbIlZlcmlmaWFibGVDcmVkZW50aWFsIiwiUmVhbHRpbWVHZW9sb2NhdGlvbiJdLCJjcmVkZW50aWFsU3ViamVjdCI6eyJpZCI6InVybjp1dWlkOjE5NmE4YzhmLTZmZDktNDU2Yi04MTkzLTQxNTliOGRjM2FiNiIsImdlbyI6eyJ0eXBlIjoiR2VvQ29vcmRpbmF0ZXMiLCJsYXRpdHVkZSI6IjM4Ljg4NDYwIiwibG9uZ2l0dWRlIjoiLTc3LjAyMjczIn19LCJpc3N1YW5jZURhdGUiOiIyMDIzLTA5LTI3VDAzOjAyOjMxLjM5ODg0MloifX0.xikWcFZQ8UUfrJjQScR1_bdjtlJSfjj1r-qtHBISouc']}"
      ]
     },
     "execution_count": 18,
     "metadata": {},
     "output_type": "execute_result"
    }
   ],
   "source": [
    "vp_id = did_uuid(uuid.uuid4())\n",
    "verifiable_presentation = {\n",
    "    '@context': [\n",
    "        'https://www.w3.org/2018/credentials/v1', \n",
    "        'https://www.w3.org/2018/credentials/examples/v1', \n",
    "        'https://schema.org/'\n",
    "    ],\n",
    "    'issuer': subject,\n",
    "    'id': vp_id,\n",
    "    'type': ['VerifiablePresentation'],\n",
    "    'verifiableCredential': [\n",
    "        signed_geofenced_vc,\n",
    "        signed_geolocation_vc\n",
    "    ]\n",
    "}\n",
    "verifiable_presentation"
   ]
  },
  {
   "cell_type": "markdown",
   "metadata": {},
   "source": [
    "For good measure, we provide a JSON schema for validating verified presentations, similar to the schema shown above for verified credentials, to ensure that the presentation is syntactically correct."
   ]
  },
  {
   "cell_type": "code",
   "execution_count": 19,
   "metadata": {},
   "outputs": [],
   "source": [
    "vp_schema = {\n",
    "    \"$schema\": \"http://json-schema.org/draft-07/schema#\",\n",
    "    \"type\": \"object\",\n",
    "    \"properties\": {\n",
    "        \"@context\": {\n",
    "            \"type\": \"array\",\n",
    "            \"items\": {\n",
    "                \"type\": \"string\"\n",
    "            },\n",
    "            \"minItems\": 1\n",
    "        },\n",
    "        \"id\": {\n",
    "            \"type\": \"string\"\n",
    "        },\n",
    "        \"type\": {\n",
    "            \"type\": \"array\",\n",
    "            \"items\": {\n",
    "                \"type\": \"string\"\n",
    "            },\n",
    "            \"contains\": {\n",
    "                \"const\": \"VerifiablePresentation\"\n",
    "            }\n",
    "        },\n",
    "        \"issuer\": {\n",
    "            \"type\": \"string\"\n",
    "        },\n",
    "        \"verifiableCredential\": {\n",
    "            \"type\": \"array\",\n",
    "            \"items\": {\n",
    "                \"type\": \"string\"\n",
    "            }\n",
    "        },\n",
    "        \"proof\": {\n",
    "            \"type\": \"object\",\n",
    "            \"properties\": {\n",
    "                \"type\": {\n",
    "                    \"type\": \"string\"\n",
    "                },\n",
    "                \"created\": {\n",
    "                    \"type\": \"string\",\n",
    "                    \"format\": \"date-time\"\n",
    "                },\n",
    "                \"proofValue\": {\n",
    "                    \"type\": \"string\"\n",
    "                },\n",
    "                \"verificationMethod\": {\n",
    "                    \"type\": \"string\"\n",
    "                },\n",
    "                \"jws\": {\n",
    "                    \"type\": \"string\"\n",
    "                }\n",
    "            },\n",
    "            \"required\": [\"type\", \"created\", \"proofValue\"]\n",
    "        }\n",
    "    },\n",
    "    \"required\": [\"@context\", \"id\", \"type\", \"issuer\", \"verifiableCredential\"]\n",
    "}"
   ]
  },
  {
   "cell_type": "markdown",
   "metadata": {},
   "source": [
    "We now show that the presentation is valid according to the schema."
   ]
  },
  {
   "cell_type": "code",
   "execution_count": 20,
   "metadata": {},
   "outputs": [
    {
     "name": "stdout",
     "output_type": "stream",
     "text": [
      "Presentation is valid.\n"
     ]
    }
   ],
   "source": [
    "try:\n",
    "    jsonschema.validate(instance=verifiable_presentation, schema=vp_schema)\n",
    "    print(\"Presentation is valid.\")\n",
    "except jsonschema.exceptions.ValidationError as e:\n",
    "    print(\"Presentation is not valid:\", e)"
   ]
  },
  {
   "cell_type": "code",
   "execution_count": 21,
   "metadata": {},
   "outputs": [
    {
     "data": {
      "text/plain": [
       "'eyJhbGciOiJIUzI1NiIsImtpZCI6ImRpZDptZXJpdDp1dWlkOjM3OWIzNTc4LWQyOTItNDlhYS05MWUxLWIwMzE3NWU0NmFkMSIsInR5cCI6IkpXVCJ9.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.doGmxn6a8V8kugaUU-7dsFa__He-6cwI3gg-72DMFWE'"
      ]
     },
     "execution_count": 21,
     "metadata": {},
     "output_type": "execute_result"
    }
   ],
   "source": [
    "signed_geoaware_vp = sign(KEY_MANAGER, verifiable_presentation, \"secret1\", VERIFIER)\n",
    "signed_geoaware_vp"
   ]
  },
  {
   "cell_type": "markdown",
   "metadata": {},
   "source": [
    "To complete the scenario, we assume that the verifier application, once it has verified and decoded the presentation, is capable of processing the geolocation data in the context of the geofenced credential and is in a position to verify or reject the credential by performing the processing necessary to determine if the geolocation is within the geofence region."
   ]
  },
  {
   "cell_type": "code",
   "execution_count": 22,
   "metadata": {},
   "outputs": [
    {
     "data": {
      "text/plain": [
       "{'@context': ['https://www.w3.org/2018/credentials/v1',\n",
       "  'https://www.w3.org/2018/credentials/examples/v1',\n",
       "  'https://schema.org/'],\n",
       " 'issuer': 'did:merit:uuid:196a8c8f-6fd9-456b-8193-4159b8dc3ab6',\n",
       " 'id': 'did:merit:uuid:302963e1-f100-4d3a-bf66-dd688e6b8891',\n",
       " 'type': ['VerifiablePresentation'],\n",
       " 'verifiableCredential': [{'@context': ['https://www.w3.org/2018/credentials/v2',\n",
       "    'https://www.w3.org/2018/credentials/examples/v2',\n",
       "    'https://schema.org/'],\n",
       "   'issuer': 'did:merit:uuid:9a5eb92a-b34a-42b9-8fb7-10ce9449e83e',\n",
       "   'id': 'did:merit:uuid:dc30880d-2d4b-447c-905e-b79075aea95b',\n",
       "   'type': ['VerifiableCredential', 'Admin merit'],\n",
       "   'credentialSubject': {'id': 'did:merit:uuid:196a8c8f-6fd9-456b-8193-4159b8dc3ab6',\n",
       "    'merit': {'First Name': 'Hank',\n",
       "     'Last Name': 'Lindgren',\n",
       "     'Email': 'oleg+user2@gomerits.com',\n",
       "     'Issuing Org Name': 'Merit International, Inc.',\n",
       "     'Org UUID': 'user2',\n",
       "     'Admin Phone Number': '6317070926',\n",
       "     'Org Legal Name': 'Org legal name 74d00472-85d5-4c6b-81d3-5b6353a8a7fd',\n",
       "     'Org Name': 'Organization Name b6e9f27b-6214-4f57-a670-5e02d2a1fdeb',\n",
       "     'Org Description': 'This is very important organization',\n",
       "     'Org Governing Country': 'US',\n",
       "     'Org Governing State': 'CA'},\n",
       "    'eligibleRegion': {'type': 'GeoCircle',\n",
       "     'geoMidpoint': {'type': 'GeoCoordinates',\n",
       "      'latitude': '38.88508',\n",
       "      'longitude': '-77.02295'},\n",
       "     'geoRadius': '50'}},\n",
       "   'issuanceDate': '2023-07-17T15:52:04.3018Z',\n",
       "   'credentialStatus': {'id': 'https://vc.merit.com/status/did%3Amerit%3Auuid%3Adc30880d-2d4b-447c-905e-b79075aea95b',\n",
       "    'type': 'MeritCredentialStatusList2024',\n",
       "    'statusPurpose': 'accepted',\n",
       "    'occurredAt': '2023-07-17T08:52:19.489566Z'}},\n",
       "  {'@context': ['https://www.w3.org/2018/credentials/v1',\n",
       "    'https://www.w3.org/2018/credentials/examples/v1',\n",
       "    'https://schema.org/'],\n",
       "   'issuer': 'did:merit:uuid:196a8c8f-6fd9-456b-8193-4159b8dc3ab6',\n",
       "   'id': 'did:merit:uuid:8c2212e5-cf4b-40c3-bbd7-4f03eb949c32',\n",
       "   'type': ['VerifiableCredential', 'RealtimeGeolocation'],\n",
       "   'credentialSubject': {'id': 'urn:uuid:196a8c8f-6fd9-456b-8193-4159b8dc3ab6',\n",
       "    'geo': {'type': 'GeoCoordinates',\n",
       "     'latitude': '38.88460',\n",
       "     'longitude': '-77.02273'}},\n",
       "   'issuanceDate': '2023-09-27T03:02:31.398842Z'}]}"
      ]
     },
     "execution_count": 22,
     "metadata": {},
     "output_type": "execute_result"
    }
   ],
   "source": [
    "decoded_vp = verify(KEY_MANAGER, signed_geoaware_vp, VERIFIER)\n",
    "decoded_vp"
   ]
  },
  {
   "cell_type": "markdown",
   "metadata": {},
   "source": [
    "## Summary\n",
    "\n",
    "In conclusion, with the above proof-of-concept we have provided a technical demonstration of how the Merit platform can be extended to address the interoperability and location awareness requirements defined by the stakeholders at the beginning of this SBIR Phase I effort. As mentioned in the Technical Assessment Report delivered in July 2023, with the current Merit platform's support for the rest of the stakeholder needs described in the project Statement of Work, we believe we have shown that the Merit platform can provide a complete solution for the first responder community. We have described what needs to be addressed in taking this technology demonstrated above and fully building out the capabilities described to a level that would support the delivery of a robust solution as a commercially released and supported product. We close by asserting that we believe that this work shows the significant potential for innovation in verified identity services through leverage of the standards-based approach to credentialing that the Department of Homeland Security is leading  through its partnership with the W3C verifiable credentials ecosystem and its corresponding initiatives."
   ]
  },
  {
   "cell_type": "markdown",
   "metadata": {},
   "source": [
    "_This page is governed by the SBIR/STTR Rights legend set forth on the title page, which is incorporated herein, as if written out in full._"
   ]
  }
 ],
 "metadata": {
  "kernelspec": {
   "display_name": "sqlite-relational-property-graph-store",
   "language": "python",
   "name": "python3"
  },
  "language_info": {
   "codemirror_mode": {
    "name": "ipython",
    "version": 3
   },
   "file_extension": ".py",
   "mimetype": "text/x-python",
   "name": "python",
   "nbconvert_exporter": "python",
   "pygments_lexer": "ipython3",
   "version": "3.11.4"
  },
  "orig_nbformat": 4
 },
 "nbformat": 4,
 "nbformat_minor": 2
}
