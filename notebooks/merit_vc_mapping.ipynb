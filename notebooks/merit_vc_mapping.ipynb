{
 "cells": [
  {
   "cell_type": "code",
   "execution_count": 1,
   "metadata": {},
   "outputs": [],
   "source": [
    "import json, jsonschema, jwt, datetime, requests, uuid"
   ]
  },
  {
   "cell_type": "markdown",
   "metadata": {},
   "source": [
    "## Utility functions"
   ]
  },
  {
   "cell_type": "code",
   "execution_count": 2,
   "metadata": {},
   "outputs": [],
   "source": [
    "def urn_uuid(uuid):\n",
    "    return f'urn:uuid:{uuid}'"
   ]
  },
  {
   "cell_type": "code",
   "execution_count": 3,
   "metadata": {},
   "outputs": [],
   "source": [
    "def jwt_serialization(credential, secret_key, audience):\n",
    "    payload = {\n",
    "        \"iss\": credential[\"issuer\"],  # Issuer\n",
    "        \"aud\": audience,  # Audience\n",
    "        \"exp\": datetime.datetime.utcnow() + datetime.timedelta(days=1),  # Expiration time\n",
    "        \"nbf\": datetime.datetime.utcnow(),  # Not before\n",
    "        \"iat\": datetime.datetime.utcnow(),  # Issued at\n",
    "    }\n",
    "    if \"VerifiableCredential\" in credential[\"type\"]:\n",
    "        payload[\"sub\"] = credential[\"credentialSubject\"][\"id\"]\n",
    "        payload[\"vc\"] = credential\n",
    "    elif \"VerifiablePresentation\" in credential[\"type\"]:\n",
    "        payload[\"vp\"] = credential\n",
    "    return jwt.encode(payload, secret_key, algorithm='HS256')"
   ]
  },
  {
   "cell_type": "markdown",
   "metadata": {},
   "source": [
    "## A example Merit credential"
   ]
  },
  {
   "cell_type": "code",
   "execution_count": 4,
   "metadata": {},
   "outputs": [
    {
     "data": {
      "text/plain": [
       "{'id': 'dc30880d-2d4b-447c-905e-b79075aea95b',\n",
       " 'acceptedAt': '2023-07-17T08:52:19.489566Z',\n",
       " 'active': True,\n",
       " 'activenessFailures': None,\n",
       " 'authorizedAt': '2023-07-17T08:52:15.960677Z',\n",
       " 'completed': True,\n",
       " 'completenessFailures': None,\n",
       " 'createdAt': '2023-07-17T15:52:04.3018Z',\n",
       " 'description': 'Template for admin merit',\n",
       " 'fields': [{'canShare': False,\n",
       "   'description': \"Use this to store recipient's first name\",\n",
       "   'fieldKind': {'fieldType': 'Text',\n",
       "    'id': 'a9fa2832-4107-4c95-b7d8-0cdd15a7e2bc',\n",
       "    'name': 'Text'},\n",
       "   'name': 'First Name',\n",
       "   'templateFieldID': '1b397a27-14a0-4d43-a36f-6006611f4073',\n",
       "   'templateFieldLineage': ['3dc3f769-70cc-4e7e-81cc-ed103f9eb601'],\n",
       "   'updatedAt': '2023-07-17T15:52:19.496539Z',\n",
       "   'validationErrors': None,\n",
       "   'value': 'Hank'},\n",
       "  {'canShare': False,\n",
       "   'description': \"Use this to store recipient's last name\",\n",
       "   'fieldKind': {'fieldType': 'Text',\n",
       "    'id': 'a9fa2832-4107-4c95-b7d8-0cdd15a7e2bc',\n",
       "    'name': 'Text'},\n",
       "   'name': 'Last Name',\n",
       "   'templateFieldID': '1a7fbab6-db84-49df-8196-a971afcde447',\n",
       "   'templateFieldLineage': ['5029dd4c-9879-46cd-81ac-0f75ca0c46fb'],\n",
       "   'updatedAt': '2023-07-17T15:52:19.496539Z',\n",
       "   'validationErrors': None,\n",
       "   'value': 'Lindgren'},\n",
       "  {'canShare': False,\n",
       "   'description': \"Use this to store recipient's email address\",\n",
       "   'fieldKind': {'fieldType': 'Email',\n",
       "    'id': '0341c64a-f276-4b9f-8872-4c9f9268830b',\n",
       "    'name': 'Email'},\n",
       "   'name': 'Email',\n",
       "   'templateFieldID': '9d2c72c3-d801-4bd7-baf9-c92b3825f880',\n",
       "   'templateFieldLineage': ['9fe900b5-c2d2-4130-a72c-bb03bd623324'],\n",
       "   'updatedAt': '2023-07-17T15:52:19.496539Z',\n",
       "   'validationErrors': None,\n",
       "   'value': 'oleg+user2@gomerits.com'},\n",
       "  {'canShare': False,\n",
       "   'description': 'Use this to store the name of the Organization issuing this Merit',\n",
       "   'fieldKind': {'fieldType': 'Text',\n",
       "    'id': 'a9fa2832-4107-4c95-b7d8-0cdd15a7e2bc',\n",
       "    'name': 'Text'},\n",
       "   'name': 'Issuing Org Name',\n",
       "   'templateFieldID': '2a5cbf54-9eb3-4da4-a6c5-583a1add0205',\n",
       "   'templateFieldLineage': ['9a516485-b702-4a62-b4a5-edb2edb4ba49'],\n",
       "   'updatedAt': '2023-07-17T15:52:19.496539Z',\n",
       "   'validationErrors': None,\n",
       "   'value': 'Merit International, Inc.'},\n",
       "  {'canShare': False,\n",
       "   'description': 'Field to store Org UUID',\n",
       "   'fieldKind': {'fieldType': 'Text',\n",
       "    'id': 'a9fa2832-4107-4c95-b7d8-0cdd15a7e2bc',\n",
       "    'name': 'Text'},\n",
       "   'name': 'Org UUID',\n",
       "   'templateFieldID': 'dc3f107f-1ea0-4dae-8695-866d7d721df0',\n",
       "   'templateFieldLineage': [],\n",
       "   'updatedAt': '2023-07-17T15:52:19.496539Z',\n",
       "   'validationErrors': None,\n",
       "   'value': 'user2'},\n",
       "  {'canShare': False,\n",
       "   'description': 'Field to store Admin Phone Number',\n",
       "   'fieldKind': {'fieldType': 'PhoneNumber',\n",
       "    'id': '7157ea5d-5975-419a-87f0-3f12e9ae0bcc',\n",
       "    'name': 'PhoneNumber'},\n",
       "   'name': 'Admin Phone Number',\n",
       "   'templateFieldID': 'e90e34e2-6429-4bfb-8ca1-fe11b3bad713',\n",
       "   'templateFieldLineage': [],\n",
       "   'updatedAt': '2023-07-17T15:52:19.496539Z',\n",
       "   'validationErrors': None,\n",
       "   'value': '6317070926'},\n",
       "  {'canShare': False,\n",
       "   'description': 'Field to store Org Legal Name',\n",
       "   'fieldKind': {'fieldType': 'Text',\n",
       "    'id': 'a9fa2832-4107-4c95-b7d8-0cdd15a7e2bc',\n",
       "    'name': 'Text'},\n",
       "   'name': 'Org Legal Name',\n",
       "   'templateFieldID': '137c9f13-eccf-4baa-8577-958302e1969c',\n",
       "   'templateFieldLineage': [],\n",
       "   'updatedAt': '2023-07-17T15:52:19.496539Z',\n",
       "   'validationErrors': None,\n",
       "   'value': 'Org legal name 74d00472-85d5-4c6b-81d3-5b6353a8a7fd'},\n",
       "  {'canShare': False,\n",
       "   'description': 'Field to store Org Name',\n",
       "   'fieldKind': {'fieldType': 'Text',\n",
       "    'id': 'a9fa2832-4107-4c95-b7d8-0cdd15a7e2bc',\n",
       "    'name': 'Text'},\n",
       "   'name': 'Org Name',\n",
       "   'templateFieldID': '3aec2732-acad-4fba-8dd3-c97c390c0129',\n",
       "   'templateFieldLineage': [],\n",
       "   'updatedAt': '2023-07-17T15:52:19.496539Z',\n",
       "   'validationErrors': None,\n",
       "   'value': 'Organization Name b6e9f27b-6214-4f57-a670-5e02d2a1fdeb'},\n",
       "  {'canShare': False,\n",
       "   'description': 'Field to store Org Description',\n",
       "   'fieldKind': {'fieldType': 'Text',\n",
       "    'id': 'a9fa2832-4107-4c95-b7d8-0cdd15a7e2bc',\n",
       "    'name': 'Text'},\n",
       "   'name': 'Org Description',\n",
       "   'templateFieldID': '884fd153-2bf5-4f26-8cae-4bb75c538561',\n",
       "   'templateFieldLineage': [],\n",
       "   'updatedAt': '2023-07-17T15:52:19.496539Z',\n",
       "   'validationErrors': None,\n",
       "   'value': 'This is very important organization'},\n",
       "  {'canShare': False,\n",
       "   'description': 'Field to store Org Governing Country',\n",
       "   'fieldKind': {'fieldType': 'Text',\n",
       "    'id': 'a9fa2832-4107-4c95-b7d8-0cdd15a7e2bc',\n",
       "    'name': 'Text'},\n",
       "   'name': 'Org Governing Country',\n",
       "   'templateFieldID': 'af7c9abd-c579-4075-a63a-208002e07aea',\n",
       "   'templateFieldLineage': [],\n",
       "   'updatedAt': '2023-07-17T15:52:19.496539Z',\n",
       "   'validationErrors': None,\n",
       "   'value': 'US'},\n",
       "  {'canShare': False,\n",
       "   'description': 'Field to store Org Governing State',\n",
       "   'fieldKind': {'fieldType': 'Text',\n",
       "    'id': 'a9fa2832-4107-4c95-b7d8-0cdd15a7e2bc',\n",
       "    'name': 'Text'},\n",
       "   'name': 'Org Governing State',\n",
       "   'templateFieldID': '8c344f00-a9cf-437d-9974-3fc46935aa30',\n",
       "   'templateFieldLineage': [],\n",
       "   'updatedAt': '2023-07-17T15:52:19.496539Z',\n",
       "   'validationErrors': None,\n",
       "   'value': 'CA'}],\n",
       " 'issuer': {'id': '9a5eb92a-b34a-42b9-8fb7-10ce9449e83e',\n",
       "  'state': 'active',\n",
       "  'type': 'organization'},\n",
       " 'name': 'Admin merit',\n",
       " 'recipient': {'id': '196a8c8f-6fd9-456b-8193-4159b8dc3ab6',\n",
       "  'state': 'active',\n",
       "  'type': 'person'},\n",
       " 'rejectedAt': None,\n",
       " 'state': {'name': 'accepted', 'occurredAt': '2023-07-17T08:52:19.489566Z'},\n",
       " 'templateId': '72fdc5f3-dd82-489d-a6fa-42f6897a2f92',\n",
       " 'updatedAt': '2023-07-17T15:52:19.496539Z'}"
      ]
     },
     "execution_count": 4,
     "metadata": {},
     "output_type": "execute_result"
    }
   ],
   "source": [
    "merit = json.load(open(\"test_merit.json\", \"r\"))\n",
    "\n",
    "merit"
   ]
  },
  {
   "cell_type": "markdown",
   "metadata": {},
   "source": [
    "## A verifiable credential generated from the example Merit credential"
   ]
  },
  {
   "cell_type": "code",
   "execution_count": 7,
   "metadata": {},
   "outputs": [
    {
     "data": {
      "text/plain": [
       "{'@context': ['https://www.w3.org/2018/credentials/v1',\n",
       "  'https://www.w3.org/2018/credentials/examples/v1',\n",
       "  'https://schema.org/'],\n",
       " 'issuer': 'urn:uuid:9a5eb92a-b34a-42b9-8fb7-10ce9449e83e',\n",
       " 'id': 'urn:uuid:dc30880d-2d4b-447c-905e-b79075aea95b',\n",
       " 'type': ['VerifiableCredential', 'Admin merit'],\n",
       " 'credentialSubject': {'id': 'urn:uuid:196a8c8f-6fd9-456b-8193-4159b8dc3ab6',\n",
       "  'merit': {'First Name': 'Hank',\n",
       "   'Last Name': 'Lindgren',\n",
       "   'Email': 'oleg+user2@gomerits.com',\n",
       "   'Issuing Org Name': 'Merit International, Inc.',\n",
       "   'Org UUID': 'user2',\n",
       "   'Admin Phone Number': '6317070926',\n",
       "   'Org Legal Name': 'Org legal name 74d00472-85d5-4c6b-81d3-5b6353a8a7fd',\n",
       "   'Org Name': 'Organization Name b6e9f27b-6214-4f57-a670-5e02d2a1fdeb',\n",
       "   'Org Description': 'This is very important organization',\n",
       "   'Org Governing Country': 'US',\n",
       "   'Org Governing State': 'CA'}},\n",
       " 'issuanceDate': '2023-07-17T15:52:04.3018Z',\n",
       " 'credentialStatus': {'id': 'https://vc.merit.com/status/urn%3Auuid%3Adc30880d-2d4b-447c-905e-b79075aea95b',\n",
       "  'type': 'MeritCredentialStatusList2024',\n",
       "  'statusPurpose': 'accepted',\n",
       "  'occurredAt': '2023-07-17T08:52:19.489566Z'}}"
      ]
     },
     "execution_count": 7,
     "metadata": {},
     "output_type": "execute_result"
    }
   ],
   "source": [
    "id = urn_uuid(merit[\"id\"])\n",
    "issuer = urn_uuid(merit[\"issuer\"][\"id\"])\n",
    "subject = urn_uuid(merit[\"recipient\"][\"id\"])\n",
    "\n",
    "verifiable_credential = {\n",
    "    \"@context\": [\n",
    "        \"https://www.w3.org/2018/credentials/v1\",\n",
    "        \"https://www.w3.org/2018/credentials/examples/v1\",\n",
    "        \"https://schema.org/\"\n",
    "    ],\n",
    "    \"issuer\": issuer,\n",
    "    \"id\": id,\n",
    "    \"type\": [\"VerifiableCredential\", merit[\"name\"]],\n",
    "    \"credentialSubject\": {\n",
    "        \"id\": subject,\n",
    "        \"merit\": { field[\"name\"]: field[\"value\"] for field in merit[\"fields\"] },\n",
    "    },\n",
    "    \"issuanceDate\": merit[\"createdAt\"],\n",
    "    \"credentialStatus\": {\n",
    "        \"id\": f'https://vc.merit.com/status/{requests.utils.quote(id)}',\n",
    "        \"type\": \"MeritCredentialStatusList2024\",\n",
    "        \"statusPurpose\": merit['state']['name'],\n",
    "        \"occurredAt\": merit['state']['occurredAt']\n",
    "    }\n",
    "}\n",
    "\n",
    "verifiable_credential"
   ]
  },
  {
   "cell_type": "markdown",
   "metadata": {},
   "source": [
    "## JSON Schema validation of the verifiable credential"
   ]
  },
  {
   "cell_type": "code",
   "execution_count": 13,
   "metadata": {},
   "outputs": [],
   "source": [
    "schema = {\n",
    "    \"$schema\": \"http://json-schema.org/draft-07/schema#\",\n",
    "    \"type\": \"object\",\n",
    "    \"properties\": {\n",
    "        \"@context\": {\n",
    "            \"type\": \"array\",\n",
    "            \"items\": {\n",
    "                \"type\": \"string\"\n",
    "            },\n",
    "            \"minItems\": 1\n",
    "        },\n",
    "        \"id\": {\n",
    "            \"type\": \"string\"\n",
    "        },\n",
    "        \"type\": {\n",
    "            \"type\": \"array\",\n",
    "            \"items\": {\n",
    "                \"type\": \"string\"\n",
    "            },\n",
    "            \"contains\": {\n",
    "                \"const\": \"VerifiableCredential\"\n",
    "            }\n",
    "        },\n",
    "        \"issuer\": {\n",
    "            \"type\": \"string\"\n",
    "        },\n",
    "        \"issuanceDate\": {\n",
    "            \"type\": \"string\",\n",
    "            \"format\": \"date-time\"\n",
    "        },\n",
    "        \"credentialSubject\": {\n",
    "            \"type\": \"object\",\n",
    "            \"properties\": {\n",
    "                \"id\": {\n",
    "                    \"type\": \"string\"\n",
    "                }\n",
    "            },\n",
    "            \"required\": [\"id\"]\n",
    "        },\n",
    "        \"credentialStatus\": {\n",
    "            \"type\": \"object\",\n",
    "            \"properties\": {\n",
    "                \"id\": {\n",
    "                    \"type\": \"string\"\n",
    "                },\n",
    "                \"type\": {\n",
    "                    \"type\": \"string\"\n",
    "                },\n",
    "                \"statusPurpose\": {\n",
    "                    \"type\": \"string\"\n",
    "                },\n",
    "                \"occurredAt\": {\n",
    "                    \"type\": \"string\",\n",
    "                    \"format\": \"date-time\"\n",
    "                }\n",
    "            },\n",
    "            \"required\": [\"id\"]\n",
    "        },\n",
    "        \"proof\": {\n",
    "            \"type\": \"object\",\n",
    "            \"properties\": {\n",
    "                \"type\": {\n",
    "                    \"type\": \"string\"\n",
    "                },\n",
    "                \"created\": {\n",
    "                    \"type\": \"string\",\n",
    "                    \"format\": \"date-time\"\n",
    "                },\n",
    "                \"proofValue\": {\n",
    "                    \"type\": \"string\"\n",
    "                },\n",
    "                \"verificationMethod\": {\n",
    "                    \"type\": \"string\"\n",
    "                },\n",
    "                \"jws\": {\n",
    "                    \"type\": \"string\"\n",
    "                }\n",
    "            },\n",
    "            \"required\": [\"type\", \"created\", \"proofValue\"]\n",
    "        }\n",
    "    },\n",
    "    \"required\": [\"@context\", \"type\", \"issuer\", \"issuanceDate\", \"credentialSubject\", \"credentialStatus\"]\n",
    "}"
   ]
  },
  {
   "cell_type": "code",
   "execution_count": 14,
   "metadata": {},
   "outputs": [
    {
     "name": "stdout",
     "output_type": "stream",
     "text": [
      "Credential is valid.\n"
     ]
    }
   ],
   "source": [
    "try:\n",
    "    jsonschema.validate(instance=verifiable_credential, schema=schema)\n",
    "    print(\"Credential is valid.\")\n",
    "except jsonschema.exceptions.ValidationError as e:\n",
    "    print(\"Credential is not valid:\", e)"
   ]
  },
  {
   "cell_type": "markdown",
   "metadata": {},
   "source": [
    "## JSON Web Token (JWT) serialization of the verifiable credential"
   ]
  },
  {
   "cell_type": "code",
   "execution_count": 15,
   "metadata": {},
   "outputs": [],
   "source": [
    "vc_jwt_token = jwt_serialization(verifiable_credential, \"secret\", \"https://verifier.example.gov\")"
   ]
  },
  {
   "cell_type": "code",
   "execution_count": 16,
   "metadata": {},
   "outputs": [
    {
     "data": {
      "text/plain": [
       "{'alg': 'HS256', 'typ': 'JWT'}"
      ]
     },
     "execution_count": 16,
     "metadata": {},
     "output_type": "execute_result"
    }
   ],
   "source": [
    "jwt.get_unverified_header(vc_jwt_token)"
   ]
  },
  {
   "cell_type": "code",
   "execution_count": 17,
   "metadata": {},
   "outputs": [
    {
     "data": {
      "text/plain": [
       "{'@context': ['https://www.w3.org/2018/credentials/v1',\n",
       "  'https://www.w3.org/2018/credentials/examples/v1',\n",
       "  'https://schema.org/'],\n",
       " 'issuer': 'urn:uuid:9a5eb92a-b34a-42b9-8fb7-10ce9449e83e',\n",
       " 'id': 'urn:uuid:dc30880d-2d4b-447c-905e-b79075aea95b',\n",
       " 'type': ['VerifiableCredential', 'Admin merit'],\n",
       " 'credentialSubject': {'id': 'urn:uuid:196a8c8f-6fd9-456b-8193-4159b8dc3ab6',\n",
       "  'merit': {'First Name': 'Hank',\n",
       "   'Last Name': 'Lindgren',\n",
       "   'Email': 'oleg+user2@gomerits.com',\n",
       "   'Issuing Org Name': 'Merit International, Inc.',\n",
       "   'Org UUID': 'user2',\n",
       "   'Admin Phone Number': '6317070926',\n",
       "   'Org Legal Name': 'Org legal name 74d00472-85d5-4c6b-81d3-5b6353a8a7fd',\n",
       "   'Org Name': 'Organization Name b6e9f27b-6214-4f57-a670-5e02d2a1fdeb',\n",
       "   'Org Description': 'This is very important organization',\n",
       "   'Org Governing Country': 'US',\n",
       "   'Org Governing State': 'CA'}},\n",
       " 'issuanceDate': '2023-07-17T15:52:04.3018Z',\n",
       " 'credentialStatus': {'id': 'https://vc.merit.com/status/urn%3Auuid%3Adc30880d-2d4b-447c-905e-b79075aea95b',\n",
       "  'type': 'MeritCredentialStatusList2024',\n",
       "  'statusPurpose': 'accepted',\n",
       "  'occurredAt': '2023-07-17T08:52:19.489566Z'}}"
      ]
     },
     "execution_count": 17,
     "metadata": {},
     "output_type": "execute_result"
    }
   ],
   "source": [
    "decoded_payload = jwt.decode(vc_jwt_token, \"secret\", algorithms='HS256', audience='https://verifier.example.gov')\n",
    "decoded_payload['vc']"
   ]
  },
  {
   "cell_type": "markdown",
   "metadata": {},
   "source": [
    "## Adding geofencing data into the credentialSubject of the verifiable credential"
   ]
  },
  {
   "cell_type": "code",
   "execution_count": 18,
   "metadata": {},
   "outputs": [],
   "source": [
    "verifiable_credential[\"credentialSubject\"][\"eligibleRegion\"] = {\n",
    "    \"type\": \"GeoCircle\",\n",
    "    \"geoMidpoint\": {\n",
    "        \"type\": \"GeoCoordinates\",\n",
    "        \"latitude\": \"38.88508\",\n",
    "        \"longitude\": \"-77.02295\"\n",
    "    },\n",
    "    \"geoRadius\": \"50\"\n",
    "}"
   ]
  },
  {
   "cell_type": "code",
   "execution_count": 19,
   "metadata": {},
   "outputs": [
    {
     "data": {
      "text/plain": [
       "{'@context': ['https://www.w3.org/2018/credentials/v1',\n",
       "  'https://www.w3.org/2018/credentials/examples/v1',\n",
       "  'https://schema.org/'],\n",
       " 'issuer': 'urn:uuid:9a5eb92a-b34a-42b9-8fb7-10ce9449e83e',\n",
       " 'id': 'urn:uuid:dc30880d-2d4b-447c-905e-b79075aea95b',\n",
       " 'type': ['VerifiableCredential', 'Admin merit'],\n",
       " 'credentialSubject': {'id': 'urn:uuid:196a8c8f-6fd9-456b-8193-4159b8dc3ab6',\n",
       "  'merit': {'First Name': 'Hank',\n",
       "   'Last Name': 'Lindgren',\n",
       "   'Email': 'oleg+user2@gomerits.com',\n",
       "   'Issuing Org Name': 'Merit International, Inc.',\n",
       "   'Org UUID': 'user2',\n",
       "   'Admin Phone Number': '6317070926',\n",
       "   'Org Legal Name': 'Org legal name 74d00472-85d5-4c6b-81d3-5b6353a8a7fd',\n",
       "   'Org Name': 'Organization Name b6e9f27b-6214-4f57-a670-5e02d2a1fdeb',\n",
       "   'Org Description': 'This is very important organization',\n",
       "   'Org Governing Country': 'US',\n",
       "   'Org Governing State': 'CA'},\n",
       "  'eligibleRegion': {'type': 'GeoCircle',\n",
       "   'geoMidpoint': {'type': 'GeoCoordinates',\n",
       "    'latitude': '38.88508',\n",
       "    'longitude': '-77.02295'},\n",
       "   'geoRadius': '50'}},\n",
       " 'issuanceDate': '2023-07-17T15:52:04.3018Z',\n",
       " 'credentialStatus': {'id': 'https://vc.merit.com/status/urn%3Auuid%3Adc30880d-2d4b-447c-905e-b79075aea95b',\n",
       "  'type': 'MeritCredentialStatusList2024',\n",
       "  'statusPurpose': 'accepted',\n",
       "  'occurredAt': '2023-07-17T08:52:19.489566Z'}}"
      ]
     },
     "execution_count": 19,
     "metadata": {},
     "output_type": "execute_result"
    }
   ],
   "source": [
    "verifiable_credential"
   ]
  },
  {
   "cell_type": "code",
   "execution_count": 20,
   "metadata": {},
   "outputs": [],
   "source": [
    "vc_jwt_token = jwt_serialization(verifiable_credential, \"secret\", \"https://verifier.example.gov\")"
   ]
  },
  {
   "cell_type": "markdown",
   "metadata": {},
   "source": [
    "## Generating a geolocation verifiable credential"
   ]
  },
  {
   "cell_type": "code",
   "execution_count": 21,
   "metadata": {},
   "outputs": [],
   "source": [
    "geolocation_vc_uuid = uuid.uuid4().hex\n",
    "geolocation_vc = {\n",
    "    '@context': [\n",
    "        'https://www.w3.org/2018/credentials/v1', \n",
    "        'https://www.w3.org/2018/credentials/examples/v1', \n",
    "        'https://schema.org/'\n",
    "    ],\n",
    "    'issuer': subject,\n",
    "    'id': f'urn:uuid:{geolocation_vc_uuid}',\n",
    "    'type': ['VerifiableCredential', 'RealtimeGeolocation'],\n",
    "    'credentialSubject' : {\n",
    "        'id': 'urn:uuid:196a8c8f-6fd9-456b-8193-4159b8dc3ab6',\n",
    "        'geo': {\n",
    "            'type': 'GeoCoordinates',\n",
    "            'latitude': '38.88460',\n",
    "            'longitude': '-77.02273'\n",
    "        }\n",
    "    },\n",
    "    'issuanceDate': datetime.datetime.utcnow().isoformat() + 'Z'\n",
    "}"
   ]
  },
  {
   "cell_type": "code",
   "execution_count": 22,
   "metadata": {},
   "outputs": [],
   "source": [
    "geolocation_vc_jwt_token = jwt_serialization(geolocation_vc, \"secret\", \"https://verifier.example.gov\")"
   ]
  },
  {
   "cell_type": "markdown",
   "metadata": {},
   "source": [
    "## Generating a verifiable presentation combining the geofenced credential with the geolocation credential"
   ]
  },
  {
   "cell_type": "code",
   "execution_count": 23,
   "metadata": {},
   "outputs": [],
   "source": [
    "vp_uuid = uuid.uuid4().hex\n",
    "verifiable_presentation = {\n",
    "    '@context': [\n",
    "        'https://www.w3.org/2018/credentials/v1', \n",
    "        'https://www.w3.org/2018/credentials/examples/v1', \n",
    "        'https://schema.org/'\n",
    "    ],\n",
    "    'issuer': subject,\n",
    "    'id': f'urn:uuid:{vp_uuid}',\n",
    "    'type': ['VerifiablePresentation'],\n",
    "    'verifiableCredential': [\n",
    "        vc_jwt_token,\n",
    "        geolocation_vc_jwt_token\n",
    "    ]\n",
    "}"
   ]
  },
  {
   "cell_type": "code",
   "execution_count": 24,
   "metadata": {},
   "outputs": [
    {
     "data": {
      "text/plain": [
       "{'@context': ['https://www.w3.org/2018/credentials/v1',\n",
       "  'https://www.w3.org/2018/credentials/examples/v1',\n",
       "  'https://schema.org/'],\n",
       " 'issuer': 'urn:uuid:196a8c8f-6fd9-456b-8193-4159b8dc3ab6',\n",
       " 'id': 'urn:uuid:4fbdde7e48ee4bc18aa9c01b808fca52',\n",
       " 'type': ['VerifiablePresentation'],\n",
       " 'verifiableCredential': ['eyJhbGciOiJIUzI1NiIsInR5cCI6IkpXVCJ9.eyJpc3MiOiJ1cm46dXVpZDo5YTVlYjkyYS1iMzRhLTQyYjktOGZiNy0xMGNlOTQ0OWU4M2UiLCJhdWQiOiJodHRwczovL3ZlcmlmaWVyLmV4YW1wbGUuZ292IiwiZXhwIjoxNjk0OTcxNTQ1LCJuYmYiOjE2OTQ4ODUxNDUsImlhdCI6MTY5NDg4NTE0NSwic3ViIjoidXJuOnV1aWQ6MTk2YThjOGYtNmZkOS00NTZiLTgxOTMtNDE1OWI4ZGMzYWI2IiwidmMiOnsiQGNvbnRleHQiOlsiaHR0cHM6Ly93d3cudzMub3JnLzIwMTgvY3JlZGVudGlhbHMvdjEiLCJodHRwczovL3d3dy53My5vcmcvMjAxOC9jcmVkZW50aWFscy9leGFtcGxlcy92MSIsImh0dHBzOi8vc2NoZW1hLm9yZy8iXSwiaXNzdWVyIjoidXJuOnV1aWQ6OWE1ZWI5MmEtYjM0YS00MmI5LThmYjctMTBjZTk0NDllODNlIiwiaWQiOiJ1cm46dXVpZDpkYzMwODgwZC0yZDRiLTQ0N2MtOTA1ZS1iNzkwNzVhZWE5NWIiLCJ0eXBlIjpbIlZlcmlmaWFibGVDcmVkZW50aWFsIiwiQWRtaW4gbWVyaXQiXSwiY3JlZGVudGlhbFN1YmplY3QiOnsiaWQiOiJ1cm46dXVpZDoxOTZhOGM4Zi02ZmQ5LTQ1NmItODE5My00MTU5YjhkYzNhYjYiLCJtZXJpdCI6eyJGaXJzdCBOYW1lIjoiSGFuayIsIkxhc3QgTmFtZSI6IkxpbmRncmVuIiwiRW1haWwiOiJvbGVnK3VzZXIyQGdvbWVyaXRzLmNvbSIsIklzc3VpbmcgT3JnIE5hbWUiOiJNZXJpdCBJbnRlcm5hdGlvbmFsLCBJbmMuIiwiT3JnIFVVSUQiOiJ1c2VyMiIsIkFkbWluIFBob25lIE51bWJlciI6IjYzMTcwNzA5MjYiLCJPcmcgTGVnYWwgTmFtZSI6Ik9yZyBsZWdhbCBuYW1lIDc0ZDAwNDcyLTg1ZDUtNGM2Yi04MWQzLTViNjM1M2E4YTdmZCIsIk9yZyBOYW1lIjoiT3JnYW5pemF0aW9uIE5hbWUgYjZlOWYyN2ItNjIxNC00ZjU3LWE2NzAtNWUwMmQyYTFmZGViIiwiT3JnIERlc2NyaXB0aW9uIjoiVGhpcyBpcyB2ZXJ5IGltcG9ydGFudCBvcmdhbml6YXRpb24iLCJPcmcgR292ZXJuaW5nIENvdW50cnkiOiJVUyIsIk9yZyBHb3Zlcm5pbmcgU3RhdGUiOiJDQSJ9LCJlbGlnaWJsZVJlZ2lvbiI6eyJ0eXBlIjoiR2VvQ2lyY2xlIiwiZ2VvTWlkcG9pbnQiOnsidHlwZSI6Ikdlb0Nvb3JkaW5hdGVzIiwibGF0aXR1ZGUiOiIzOC44ODUwOCIsImxvbmdpdHVkZSI6Ii03Ny4wMjI5NSJ9LCJnZW9SYWRpdXMiOiI1MCJ9fSwiaXNzdWFuY2VEYXRlIjoiMjAyMy0wNy0xN1QxNTo1MjowNC4zMDE4WiIsImNyZWRlbnRpYWxTdGF0dXMiOnsiaWQiOiJodHRwczovL3ZjLm1lcml0LmNvbS9zdGF0dXMvdXJuJTNBdXVpZCUzQWRjMzA4ODBkLTJkNGItNDQ3Yy05MDVlLWI3OTA3NWFlYTk1YiIsInR5cGUiOiJNZXJpdENyZWRlbnRpYWxTdGF0dXNMaXN0MjAyNCIsInN0YXR1c1B1cnBvc2UiOiJhY2NlcHRlZCIsIm9jY3VycmVkQXQiOiIyMDIzLTA3LTE3VDA4OjUyOjE5LjQ4OTU2NloifX19.hNDgcn7VC2Nbzvp3ewQ55pLKusF_RpOQ2z47mwS4UGA',\n",
       "  'eyJhbGciOiJIUzI1NiIsInR5cCI6IkpXVCJ9.eyJpc3MiOiJ1cm46dXVpZDoxOTZhOGM4Zi02ZmQ5LTQ1NmItODE5My00MTU5YjhkYzNhYjYiLCJhdWQiOiJodHRwczovL3ZlcmlmaWVyLmV4YW1wbGUuZ292IiwiZXhwIjoxNjk0OTcxNTQ2LCJuYmYiOjE2OTQ4ODUxNDYsImlhdCI6MTY5NDg4NTE0Niwic3ViIjoidXJuOnV1aWQ6MTk2YThjOGYtNmZkOS00NTZiLTgxOTMtNDE1OWI4ZGMzYWI2IiwidmMiOnsiQGNvbnRleHQiOlsiaHR0cHM6Ly93d3cudzMub3JnLzIwMTgvY3JlZGVudGlhbHMvdjEiLCJodHRwczovL3d3dy53My5vcmcvMjAxOC9jcmVkZW50aWFscy9leGFtcGxlcy92MSIsImh0dHBzOi8vc2NoZW1hLm9yZy8iXSwiaXNzdWVyIjoidXJuOnV1aWQ6MTk2YThjOGYtNmZkOS00NTZiLTgxOTMtNDE1OWI4ZGMzYWI2IiwiaWQiOiJ1cm46dXVpZDpiZWE3NGQ5MWM1ODY0Nzg1YjE5MmM4ODRhMzJlNzE0ZiIsInR5cGUiOlsiVmVyaWZpYWJsZUNyZWRlbnRpYWwiLCJSZWFsdGltZUdlb2xvY2F0aW9uIl0sImNyZWRlbnRpYWxTdWJqZWN0Ijp7ImlkIjoidXJuOnV1aWQ6MTk2YThjOGYtNmZkOS00NTZiLTgxOTMtNDE1OWI4ZGMzYWI2IiwiZ2VvIjp7InR5cGUiOiJHZW9Db29yZGluYXRlcyIsImxhdGl0dWRlIjoiMzguODg0NjAiLCJsb25naXR1ZGUiOiItNzcuMDIyNzMifX0sImlzc3VhbmNlRGF0ZSI6IjIwMjMtMDktMTZUMTc6MjU6NDYuMDAzODM3WiJ9fQ._HZpcGJ_f3vYQ2q9MoRDnxMDyi6c-kzM44uOWvXXhdE']}"
      ]
     },
     "execution_count": 24,
     "metadata": {},
     "output_type": "execute_result"
    }
   ],
   "source": [
    "verifiable_presentation"
   ]
  },
  {
   "cell_type": "code",
   "execution_count": 25,
   "metadata": {},
   "outputs": [],
   "source": [
    "geoaware_vp_jwt_token = jwt_serialization(verifiable_presentation, \"secret\", \"https://verifier.example.gov\")"
   ]
  },
  {
   "cell_type": "code",
   "execution_count": 26,
   "metadata": {},
   "outputs": [
    {
     "data": {
      "text/plain": [
       "{'@context': ['https://www.w3.org/2018/credentials/v1',\n",
       "  'https://www.w3.org/2018/credentials/examples/v1',\n",
       "  'https://schema.org/'],\n",
       " 'issuer': 'urn:uuid:196a8c8f-6fd9-456b-8193-4159b8dc3ab6',\n",
       " 'id': 'urn:uuid:4fbdde7e48ee4bc18aa9c01b808fca52',\n",
       " 'type': ['VerifiablePresentation'],\n",
       " 'verifiableCredential': [{'@context': ['https://www.w3.org/2018/credentials/v1',\n",
       "    'https://www.w3.org/2018/credentials/examples/v1',\n",
       "    'https://schema.org/'],\n",
       "   'issuer': 'urn:uuid:9a5eb92a-b34a-42b9-8fb7-10ce9449e83e',\n",
       "   'id': 'urn:uuid:dc30880d-2d4b-447c-905e-b79075aea95b',\n",
       "   'type': ['VerifiableCredential', 'Admin merit'],\n",
       "   'credentialSubject': {'id': 'urn:uuid:196a8c8f-6fd9-456b-8193-4159b8dc3ab6',\n",
       "    'merit': {'First Name': 'Hank',\n",
       "     'Last Name': 'Lindgren',\n",
       "     'Email': 'oleg+user2@gomerits.com',\n",
       "     'Issuing Org Name': 'Merit International, Inc.',\n",
       "     'Org UUID': 'user2',\n",
       "     'Admin Phone Number': '6317070926',\n",
       "     'Org Legal Name': 'Org legal name 74d00472-85d5-4c6b-81d3-5b6353a8a7fd',\n",
       "     'Org Name': 'Organization Name b6e9f27b-6214-4f57-a670-5e02d2a1fdeb',\n",
       "     'Org Description': 'This is very important organization',\n",
       "     'Org Governing Country': 'US',\n",
       "     'Org Governing State': 'CA'},\n",
       "    'eligibleRegion': {'type': 'GeoCircle',\n",
       "     'geoMidpoint': {'type': 'GeoCoordinates',\n",
       "      'latitude': '38.88508',\n",
       "      'longitude': '-77.02295'},\n",
       "     'geoRadius': '50'}},\n",
       "   'issuanceDate': '2023-07-17T15:52:04.3018Z',\n",
       "   'credentialStatus': {'id': 'https://vc.merit.com/status/urn%3Auuid%3Adc30880d-2d4b-447c-905e-b79075aea95b',\n",
       "    'type': 'MeritCredentialStatusList2024',\n",
       "    'statusPurpose': 'accepted',\n",
       "    'occurredAt': '2023-07-17T08:52:19.489566Z'}},\n",
       "  {'@context': ['https://www.w3.org/2018/credentials/v1',\n",
       "    'https://www.w3.org/2018/credentials/examples/v1',\n",
       "    'https://schema.org/'],\n",
       "   'issuer': 'urn:uuid:196a8c8f-6fd9-456b-8193-4159b8dc3ab6',\n",
       "   'id': 'urn:uuid:bea74d91c5864785b192c884a32e714f',\n",
       "   'type': ['VerifiableCredential', 'RealtimeGeolocation'],\n",
       "   'credentialSubject': {'id': 'urn:uuid:196a8c8f-6fd9-456b-8193-4159b8dc3ab6',\n",
       "    'geo': {'type': 'GeoCoordinates',\n",
       "     'latitude': '38.88460',\n",
       "     'longitude': '-77.02273'}},\n",
       "   'issuanceDate': '2023-09-16T17:25:46.003837Z'}]}"
      ]
     },
     "execution_count": 26,
     "metadata": {},
     "output_type": "execute_result"
    }
   ],
   "source": [
    "decoded_payload = jwt.decode(geoaware_vp_jwt_token, \"secret\", algorithms='HS256', audience='https://verifier.example.gov')\n",
    "decoded_vp = decoded_payload['vp']\n",
    "decoded_vp[\"verifiableCredential\"] = [ \n",
    "    jwt.decode(payload, \"secret\", algorithms='HS256', audience='https://verifier.example.gov')[\"vc\"] for payload in decoded_vp[\"verifiableCredential\"] \n",
    "]\n",
    "decoded_vp"
   ]
  }
 ],
 "metadata": {
  "kernelspec": {
   "display_name": "sqlite-relational-property-graph-store",
   "language": "python",
   "name": "python3"
  },
  "language_info": {
   "codemirror_mode": {
    "name": "ipython",
    "version": 3
   },
   "file_extension": ".py",
   "mimetype": "text/x-python",
   "name": "python",
   "nbconvert_exporter": "python",
   "pygments_lexer": "ipython3",
   "version": "3.11.4"
  },
  "orig_nbformat": 4
 },
 "nbformat": 4,
 "nbformat_minor": 2
}
