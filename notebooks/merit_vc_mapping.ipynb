{
 "cells": [
  {
   "cell_type": "code",
   "execution_count": 2,
   "metadata": {},
   "outputs": [],
   "source": [
    "import json, jsonschema, jwt, rdflib"
   ]
  },
  {
   "cell_type": "code",
   "execution_count": null,
   "metadata": {},
   "outputs": [],
   "source": [
    "def mint_did(uuid):\n",
    "    return f'did:merit:{uuid}'"
   ]
  },
  {
   "cell_type": "code",
   "execution_count": null,
   "metadata": {},
   "outputs": [],
   "source": [
    "with open(\"test_merit.json\") as json_file:\n",
    "    merit = json.load(json_file)"
   ]
  },
  {
   "cell_type": "code",
   "execution_count": null,
   "metadata": {},
   "outputs": [
    {
     "data": {
      "text/plain": [
       "{'id': 'dc30880d-2d4b-447c-905e-b79075aea95b',\n",
       " 'acceptedAt': '2023-07-17T08:52:19.489566Z',\n",
       " 'active': True,\n",
       " 'activenessFailures': None,\n",
       " 'authorizedAt': '2023-07-17T08:52:15.960677Z',\n",
       " 'completed': True,\n",
       " 'completenessFailures': None,\n",
       " 'createdAt': '2023-07-17T15:52:04.3018Z',\n",
       " 'description': 'Template for admin merit',\n",
       " 'fields': [{'canShare': False,\n",
       "   'description': \"Use this to store recipient's first name\",\n",
       "   'fieldKind': {'fieldType': 'Text',\n",
       "    'id': 'a9fa2832-4107-4c95-b7d8-0cdd15a7e2bc',\n",
       "    'name': 'Text'},\n",
       "   'name': 'First Name',\n",
       "   'templateFieldID': '1b397a27-14a0-4d43-a36f-6006611f4073',\n",
       "   'templateFieldLineage': ['3dc3f769-70cc-4e7e-81cc-ed103f9eb601'],\n",
       "   'updatedAt': '2023-07-17T15:52:19.496539Z',\n",
       "   'validationErrors': None,\n",
       "   'value': 'Hank'},\n",
       "  {'canShare': False,\n",
       "   'description': \"Use this to store recipient's last name\",\n",
       "   'fieldKind': {'fieldType': 'Text',\n",
       "    'id': 'a9fa2832-4107-4c95-b7d8-0cdd15a7e2bc',\n",
       "    'name': 'Text'},\n",
       "   'name': 'Last Name',\n",
       "   'templateFieldID': '1a7fbab6-db84-49df-8196-a971afcde447',\n",
       "   'templateFieldLineage': ['5029dd4c-9879-46cd-81ac-0f75ca0c46fb'],\n",
       "   'updatedAt': '2023-07-17T15:52:19.496539Z',\n",
       "   'validationErrors': None,\n",
       "   'value': 'Lindgren'},\n",
       "  {'canShare': False,\n",
       "   'description': \"Use this to store recipient's email address\",\n",
       "   'fieldKind': {'fieldType': 'Email',\n",
       "    'id': '0341c64a-f276-4b9f-8872-4c9f9268830b',\n",
       "    'name': 'Email'},\n",
       "   'name': 'Email',\n",
       "   'templateFieldID': '9d2c72c3-d801-4bd7-baf9-c92b3825f880',\n",
       "   'templateFieldLineage': ['9fe900b5-c2d2-4130-a72c-bb03bd623324'],\n",
       "   'updatedAt': '2023-07-17T15:52:19.496539Z',\n",
       "   'validationErrors': None,\n",
       "   'value': 'oleg+user2@gomerits.com'},\n",
       "  {'canShare': False,\n",
       "   'description': 'Use this to store the name of the Organization issuing this Merit',\n",
       "   'fieldKind': {'fieldType': 'Text',\n",
       "    'id': 'a9fa2832-4107-4c95-b7d8-0cdd15a7e2bc',\n",
       "    'name': 'Text'},\n",
       "   'name': 'Issuing Org Name',\n",
       "   'templateFieldID': '2a5cbf54-9eb3-4da4-a6c5-583a1add0205',\n",
       "   'templateFieldLineage': ['9a516485-b702-4a62-b4a5-edb2edb4ba49'],\n",
       "   'updatedAt': '2023-07-17T15:52:19.496539Z',\n",
       "   'validationErrors': None,\n",
       "   'value': 'Merit International, Inc.'},\n",
       "  {'canShare': False,\n",
       "   'description': 'Field to store Org UUID',\n",
       "   'fieldKind': {'fieldType': 'Text',\n",
       "    'id': 'a9fa2832-4107-4c95-b7d8-0cdd15a7e2bc',\n",
       "    'name': 'Text'},\n",
       "   'name': 'Org UUID',\n",
       "   'templateFieldID': 'dc3f107f-1ea0-4dae-8695-866d7d721df0',\n",
       "   'templateFieldLineage': [],\n",
       "   'updatedAt': '2023-07-17T15:52:19.496539Z',\n",
       "   'validationErrors': None,\n",
       "   'value': 'user2'},\n",
       "  {'canShare': False,\n",
       "   'description': 'Field to store Admin Phone Number',\n",
       "   'fieldKind': {'fieldType': 'PhoneNumber',\n",
       "    'id': '7157ea5d-5975-419a-87f0-3f12e9ae0bcc',\n",
       "    'name': 'PhoneNumber'},\n",
       "   'name': 'Admin Phone Number',\n",
       "   'templateFieldID': 'e90e34e2-6429-4bfb-8ca1-fe11b3bad713',\n",
       "   'templateFieldLineage': [],\n",
       "   'updatedAt': '2023-07-17T15:52:19.496539Z',\n",
       "   'validationErrors': None,\n",
       "   'value': '6317070926'},\n",
       "  {'canShare': False,\n",
       "   'description': 'Field to store Org Legal Name',\n",
       "   'fieldKind': {'fieldType': 'Text',\n",
       "    'id': 'a9fa2832-4107-4c95-b7d8-0cdd15a7e2bc',\n",
       "    'name': 'Text'},\n",
       "   'name': 'Org Legal Name',\n",
       "   'templateFieldID': '137c9f13-eccf-4baa-8577-958302e1969c',\n",
       "   'templateFieldLineage': [],\n",
       "   'updatedAt': '2023-07-17T15:52:19.496539Z',\n",
       "   'validationErrors': None,\n",
       "   'value': 'Org legal name 74d00472-85d5-4c6b-81d3-5b6353a8a7fd'},\n",
       "  {'canShare': False,\n",
       "   'description': 'Field to store Org Name',\n",
       "   'fieldKind': {'fieldType': 'Text',\n",
       "    'id': 'a9fa2832-4107-4c95-b7d8-0cdd15a7e2bc',\n",
       "    'name': 'Text'},\n",
       "   'name': 'Org Name',\n",
       "   'templateFieldID': '3aec2732-acad-4fba-8dd3-c97c390c0129',\n",
       "   'templateFieldLineage': [],\n",
       "   'updatedAt': '2023-07-17T15:52:19.496539Z',\n",
       "   'validationErrors': None,\n",
       "   'value': 'Organization Name b6e9f27b-6214-4f57-a670-5e02d2a1fdeb'},\n",
       "  {'canShare': False,\n",
       "   'description': 'Field to store Org Description',\n",
       "   'fieldKind': {'fieldType': 'Text',\n",
       "    'id': 'a9fa2832-4107-4c95-b7d8-0cdd15a7e2bc',\n",
       "    'name': 'Text'},\n",
       "   'name': 'Org Description',\n",
       "   'templateFieldID': '884fd153-2bf5-4f26-8cae-4bb75c538561',\n",
       "   'templateFieldLineage': [],\n",
       "   'updatedAt': '2023-07-17T15:52:19.496539Z',\n",
       "   'validationErrors': None,\n",
       "   'value': 'This is very important organization'},\n",
       "  {'canShare': False,\n",
       "   'description': 'Field to store Org Governing Country',\n",
       "   'fieldKind': {'fieldType': 'Text',\n",
       "    'id': 'a9fa2832-4107-4c95-b7d8-0cdd15a7e2bc',\n",
       "    'name': 'Text'},\n",
       "   'name': 'Org Governing Country',\n",
       "   'templateFieldID': 'af7c9abd-c579-4075-a63a-208002e07aea',\n",
       "   'templateFieldLineage': [],\n",
       "   'updatedAt': '2023-07-17T15:52:19.496539Z',\n",
       "   'validationErrors': None,\n",
       "   'value': 'US'},\n",
       "  {'canShare': False,\n",
       "   'description': 'Field to store Org Governing State',\n",
       "   'fieldKind': {'fieldType': 'Text',\n",
       "    'id': 'a9fa2832-4107-4c95-b7d8-0cdd15a7e2bc',\n",
       "    'name': 'Text'},\n",
       "   'name': 'Org Governing State',\n",
       "   'templateFieldID': '8c344f00-a9cf-437d-9974-3fc46935aa30',\n",
       "   'templateFieldLineage': [],\n",
       "   'updatedAt': '2023-07-17T15:52:19.496539Z',\n",
       "   'validationErrors': None,\n",
       "   'value': 'CA'}],\n",
       " 'issuer': {'id': '9a5eb92a-b34a-42b9-8fb7-10ce9449e83e',\n",
       "  'state': 'active',\n",
       "  'type': 'organization'},\n",
       " 'name': 'Admin merit',\n",
       " 'recipient': {'id': '196a8c8f-6fd9-456b-8193-4159b8dc3ab6',\n",
       "  'state': 'active',\n",
       "  'type': 'person'},\n",
       " 'rejectedAt': None,\n",
       " 'state': {'name': 'accepted', 'occurredAt': '2023-07-17T08:52:19.489566Z'},\n",
       " 'templateId': '72fdc5f3-dd82-489d-a6fa-42f6897a2f92',\n",
       " 'updatedAt': '2023-07-17T15:52:19.496539Z'}"
      ]
     },
     "execution_count": 4,
     "metadata": {},
     "output_type": "execute_result"
    }
   ],
   "source": [
    "merit"
   ]
  },
  {
   "cell_type": "code",
   "execution_count": null,
   "metadata": {},
   "outputs": [],
   "source": [
    "vc = {}"
   ]
  },
  {
   "cell_type": "markdown",
   "metadata": {},
   "source": [
    "## Contexts\n",
    "- Add a JSON-LD context to establish IRIs for field names.\n",
    "- Add context for VCs."
   ]
  },
  {
   "cell_type": "code",
   "execution_count": null,
   "metadata": {},
   "outputs": [],
   "source": [
    "vc[\"@context\"] = [\n",
    "    \"https://www.w3.org/2018/credentials/v1\",\n",
    "]"
   ]
  },
  {
   "cell_type": "markdown",
   "metadata": {},
   "source": [
    "## Identifiers\n",
    "- Issuer\n",
    "- Holder\n",
    "- Credential"
   ]
  },
  {
   "cell_type": "code",
   "execution_count": null,
   "metadata": {},
   "outputs": [],
   "source": [
    "vc[\"issuer\"] = mint_did(merit[\"issuer\"][\"id\"])\n",
    "holder = mint_did(merit[\"recipient\"][\"id\"])\n",
    "vc[\"id\"] = mint_did(merit[\"id\"])"
   ]
  },
  {
   "cell_type": "markdown",
   "metadata": {},
   "source": [
    "## Types"
   ]
  },
  {
   "cell_type": "code",
   "execution_count": null,
   "metadata": {},
   "outputs": [],
   "source": [
    "vc[\"type\"] = [\"VerifiableCredential\", merit[\"name\"].replace(' ', '_')]"
   ]
  },
  {
   "cell_type": "markdown",
   "metadata": {},
   "source": [
    "## Credential Subject"
   ]
  },
  {
   "cell_type": "code",
   "execution_count": null,
   "metadata": {},
   "outputs": [],
   "source": [
    "vc[\"credentialSubject\"] = { \n",
    "    \"id\": holder,\n",
    "    \"merit\": { field[\"name\"]: field[\"value\"] for field in merit[\"fields\"] },\n",
    "}"
   ]
  },
  {
   "cell_type": "markdown",
   "metadata": {},
   "source": [
    "## Issuance date"
   ]
  },
  {
   "cell_type": "code",
   "execution_count": null,
   "metadata": {},
   "outputs": [],
   "source": [
    "vc[\"issuanceDate\"] = merit[\"createdAt\"]"
   ]
  },
  {
   "cell_type": "code",
   "execution_count": null,
   "metadata": {},
   "outputs": [
    {
     "data": {
      "text/plain": [
       "{'@context': ['https://www.w3.org/2018/credentials/v1',\n",
       "  'https://www.w3.org/2018/credentials/examples/v1'],\n",
       " 'issuer': 'did:merit:9a5eb92a-b34a-42b9-8fb7-10ce9449e83e',\n",
       " 'id': 'did:merit:dc30880d-2d4b-447c-905e-b79075aea95b',\n",
       " 'type': ['VerifiableCredential', 'Admin_merit'],\n",
       " 'credentialSubject': {'id': 'did:merit:196a8c8f-6fd9-456b-8193-4159b8dc3ab6',\n",
       "  'merit': {'First Name': 'Hank',\n",
       "   'Last Name': 'Lindgren',\n",
       "   'Email': 'oleg+user2@gomerits.com',\n",
       "   'Issuing Org Name': 'Merit International, Inc.',\n",
       "   'Org UUID': 'user2',\n",
       "   'Admin Phone Number': '6317070926',\n",
       "   'Org Legal Name': 'Org legal name 74d00472-85d5-4c6b-81d3-5b6353a8a7fd',\n",
       "   'Org Name': 'Organization Name b6e9f27b-6214-4f57-a670-5e02d2a1fdeb',\n",
       "   'Org Description': 'This is very important organization',\n",
       "   'Org Governing Country': 'US',\n",
       "   'Org Governing State': 'CA'}},\n",
       " 'issuanceDate': '2023-07-17T15:52:04.3018Z'}"
      ]
     },
     "execution_count": 13,
     "metadata": {},
     "output_type": "execute_result"
    }
   ],
   "source": [
    "vc"
   ]
  },
  {
   "cell_type": "markdown",
   "metadata": {},
   "source": [
    "## Proofs"
   ]
  },
  {
   "cell_type": "code",
   "execution_count": null,
   "metadata": {},
   "outputs": [],
   "source": []
  },
  {
   "cell_type": "markdown",
   "metadata": {},
   "source": [
    "## Expiration"
   ]
  },
  {
   "cell_type": "code",
   "execution_count": null,
   "metadata": {},
   "outputs": [],
   "source": []
  },
  {
   "cell_type": "markdown",
   "metadata": {},
   "source": [
    "## Status"
   ]
  },
  {
   "cell_type": "code",
   "execution_count": null,
   "metadata": {},
   "outputs": [],
   "source": []
  },
  {
   "cell_type": "markdown",
   "metadata": {},
   "source": [
    "## Validation"
   ]
  },
  {
   "cell_type": "code",
   "execution_count": null,
   "metadata": {},
   "outputs": [],
   "source": []
  },
  {
   "cell_type": "markdown",
   "metadata": {},
   "source": []
  }
 ],
 "metadata": {
  "kernelspec": {
   "display_name": "sqlite-relational-property-graph-store",
   "language": "python",
   "name": "python3"
  },
  "language_info": {
   "codemirror_mode": {
    "name": "ipython",
    "version": 3
   },
   "file_extension": ".py",
   "mimetype": "text/x-python",
   "name": "python",
   "nbconvert_exporter": "python",
   "pygments_lexer": "ipython3",
   "version": "3.11.4"
  },
  "orig_nbformat": 4
 },
 "nbformat": 4,
 "nbformat_minor": 2
}
