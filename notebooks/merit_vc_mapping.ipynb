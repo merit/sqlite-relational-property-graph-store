{
 "cells": [
  {
   "cell_type": "code",
   "execution_count": 1,
   "metadata": {},
   "outputs": [],
   "source": [
    "import json, jsonschema, jwt, datetime, uuid, requests"
   ]
  },
  {
   "cell_type": "markdown",
   "metadata": {},
   "source": [
    "## Utility functions"
   ]
  },
  {
   "cell_type": "code",
   "execution_count": 2,
   "metadata": {},
   "outputs": [],
   "source": [
    "def urn_uuid(uuid):\n",
    "    return f'urn:uuid:{uuid}'"
   ]
  },
  {
   "cell_type": "code",
   "execution_count": 3,
   "metadata": {},
   "outputs": [],
   "source": [
    "class MockKeyManager:\n",
    "\n",
    "    def __init__(self):\n",
    "        self.secrets = {}\n",
    "\n",
    "    def add(self, key):\n",
    "        kid = urn_uuid(uuid.uuid4())\n",
    "        self.secrets[kid] = key\n",
    "        return kid\n",
    "\n",
    "    def get(self, kid):\n",
    "        if kid in self.secrets:\n",
    "            return self.secrets[kid]\n",
    "        else:\n",
    "            return None\n",
    "\n",
    "    def delete(self, kid):\n",
    "        if kid in self.secrets:\n",
    "            del self.secrets[kid]\n",
    "        else:\n",
    "            return None\n",
    "\n",
    "    def reset(self):\n",
    "        self.secrets = {}\n",
    "\n",
    "    def list(self):\n",
    "        for kid in self.secrets:\n",
    "            print(f'{kid}: {self.secrets[kid]}')"
   ]
  },
  {
   "cell_type": "code",
   "execution_count": 4,
   "metadata": {},
   "outputs": [],
   "source": [
    "def sign(key_manager, credential, key, verifier):\n",
    "    kid = key_manager.add(key)\n",
    "    headers = {\n",
    "    \"alg\": \"HS256\",\n",
    "    \"typ\": \"JWT\",\n",
    "    \"kid\": kid  # Custom field (not standard)\n",
    "    }\n",
    "    payload = {\n",
    "        \"iss\": credential[\"issuer\"],  # Issuer\n",
    "        \"aud\": verifier,  # Audience\n",
    "        \"exp\": datetime.datetime.utcnow() + datetime.timedelta(days=1),  # Expiration time\n",
    "        \"nbf\": datetime.datetime.utcnow(),  # Not before\n",
    "        \"iat\": datetime.datetime.utcnow(),  # Issued at\n",
    "        \"kid\": kid,\n",
    "    }\n",
    "    if \"VerifiableCredential\" in credential[\"type\"]:\n",
    "        payload[\"sub\"] = credential[\"credentialSubject\"][\"id\"]\n",
    "        payload[\"vc\"] = credential\n",
    "    elif \"VerifiablePresentation\" in credential[\"type\"]:\n",
    "        payload[\"vp\"] = credential\n",
    "    return jwt.encode(payload, key, algorithm='HS256', headers=headers)"
   ]
  },
  {
   "cell_type": "code",
   "execution_count": 5,
   "metadata": {},
   "outputs": [],
   "source": [
    "def verify(key_manager, signed_credential, verifier):\n",
    "    try:\n",
    "        key = key_manager.get(jwt.get_unverified_header(signed_credential)[\"kid\"])\n",
    "        decoded_payload = jwt.decode(signed_credential, key, algorithms='HS256', audience=verifier)\n",
    "        if 'vp' in decoded_payload:\n",
    "            decoded_payload[\"vp\"][\"verifiableCredential\"] = [ \n",
    "                verify(key_manager, payload, verifier) for payload in decoded_payload[\"vp\"][\"verifiableCredential\"] \n",
    "            ]\n",
    "            return decoded_payload['vp']\n",
    "        else:\n",
    "            return decoded_payload['vc']\n",
    "    except Exception as e:\n",
    "        print(f'Verification error: {e}')\n",
    "        return None"
   ]
  },
  {
   "cell_type": "code",
   "execution_count": 6,
   "metadata": {},
   "outputs": [],
   "source": [
    "KEY_MANAGER = MockKeyManager()\n",
    "VERIFIER = \"https://verifier.example.gov\""
   ]
  },
  {
   "cell_type": "markdown",
   "metadata": {},
   "source": [
    "## A example Merit credential"
   ]
  },
  {
   "cell_type": "code",
   "execution_count": 7,
   "metadata": {},
   "outputs": [
    {
     "data": {
      "text/plain": [
       "{'id': 'dc30880d-2d4b-447c-905e-b79075aea95b',\n",
       " 'acceptedAt': '2023-07-17T08:52:19.489566Z',\n",
       " 'active': True,\n",
       " 'activenessFailures': None,\n",
       " 'authorizedAt': '2023-07-17T08:52:15.960677Z',\n",
       " 'completed': True,\n",
       " 'completenessFailures': None,\n",
       " 'createdAt': '2023-07-17T15:52:04.3018Z',\n",
       " 'description': 'Template for admin merit',\n",
       " 'fields': [{'canShare': False,\n",
       "   'description': \"Use this to store recipient's first name\",\n",
       "   'fieldKind': {'fieldType': 'Text',\n",
       "    'id': 'a9fa2832-4107-4c95-b7d8-0cdd15a7e2bc',\n",
       "    'name': 'Text'},\n",
       "   'name': 'First Name',\n",
       "   'templateFieldID': '1b397a27-14a0-4d43-a36f-6006611f4073',\n",
       "   'templateFieldLineage': ['3dc3f769-70cc-4e7e-81cc-ed103f9eb601'],\n",
       "   'updatedAt': '2023-07-17T15:52:19.496539Z',\n",
       "   'validationErrors': None,\n",
       "   'value': 'Hank'},\n",
       "  {'canShare': False,\n",
       "   'description': \"Use this to store recipient's last name\",\n",
       "   'fieldKind': {'fieldType': 'Text',\n",
       "    'id': 'a9fa2832-4107-4c95-b7d8-0cdd15a7e2bc',\n",
       "    'name': 'Text'},\n",
       "   'name': 'Last Name',\n",
       "   'templateFieldID': '1a7fbab6-db84-49df-8196-a971afcde447',\n",
       "   'templateFieldLineage': ['5029dd4c-9879-46cd-81ac-0f75ca0c46fb'],\n",
       "   'updatedAt': '2023-07-17T15:52:19.496539Z',\n",
       "   'validationErrors': None,\n",
       "   'value': 'Lindgren'},\n",
       "  {'canShare': False,\n",
       "   'description': \"Use this to store recipient's email address\",\n",
       "   'fieldKind': {'fieldType': 'Email',\n",
       "    'id': '0341c64a-f276-4b9f-8872-4c9f9268830b',\n",
       "    'name': 'Email'},\n",
       "   'name': 'Email',\n",
       "   'templateFieldID': '9d2c72c3-d801-4bd7-baf9-c92b3825f880',\n",
       "   'templateFieldLineage': ['9fe900b5-c2d2-4130-a72c-bb03bd623324'],\n",
       "   'updatedAt': '2023-07-17T15:52:19.496539Z',\n",
       "   'validationErrors': None,\n",
       "   'value': 'oleg+user2@gomerits.com'},\n",
       "  {'canShare': False,\n",
       "   'description': 'Use this to store the name of the Organization issuing this Merit',\n",
       "   'fieldKind': {'fieldType': 'Text',\n",
       "    'id': 'a9fa2832-4107-4c95-b7d8-0cdd15a7e2bc',\n",
       "    'name': 'Text'},\n",
       "   'name': 'Issuing Org Name',\n",
       "   'templateFieldID': '2a5cbf54-9eb3-4da4-a6c5-583a1add0205',\n",
       "   'templateFieldLineage': ['9a516485-b702-4a62-b4a5-edb2edb4ba49'],\n",
       "   'updatedAt': '2023-07-17T15:52:19.496539Z',\n",
       "   'validationErrors': None,\n",
       "   'value': 'Merit International, Inc.'},\n",
       "  {'canShare': False,\n",
       "   'description': 'Field to store Org UUID',\n",
       "   'fieldKind': {'fieldType': 'Text',\n",
       "    'id': 'a9fa2832-4107-4c95-b7d8-0cdd15a7e2bc',\n",
       "    'name': 'Text'},\n",
       "   'name': 'Org UUID',\n",
       "   'templateFieldID': 'dc3f107f-1ea0-4dae-8695-866d7d721df0',\n",
       "   'templateFieldLineage': [],\n",
       "   'updatedAt': '2023-07-17T15:52:19.496539Z',\n",
       "   'validationErrors': None,\n",
       "   'value': 'user2'},\n",
       "  {'canShare': False,\n",
       "   'description': 'Field to store Admin Phone Number',\n",
       "   'fieldKind': {'fieldType': 'PhoneNumber',\n",
       "    'id': '7157ea5d-5975-419a-87f0-3f12e9ae0bcc',\n",
       "    'name': 'PhoneNumber'},\n",
       "   'name': 'Admin Phone Number',\n",
       "   'templateFieldID': 'e90e34e2-6429-4bfb-8ca1-fe11b3bad713',\n",
       "   'templateFieldLineage': [],\n",
       "   'updatedAt': '2023-07-17T15:52:19.496539Z',\n",
       "   'validationErrors': None,\n",
       "   'value': '6317070926'},\n",
       "  {'canShare': False,\n",
       "   'description': 'Field to store Org Legal Name',\n",
       "   'fieldKind': {'fieldType': 'Text',\n",
       "    'id': 'a9fa2832-4107-4c95-b7d8-0cdd15a7e2bc',\n",
       "    'name': 'Text'},\n",
       "   'name': 'Org Legal Name',\n",
       "   'templateFieldID': '137c9f13-eccf-4baa-8577-958302e1969c',\n",
       "   'templateFieldLineage': [],\n",
       "   'updatedAt': '2023-07-17T15:52:19.496539Z',\n",
       "   'validationErrors': None,\n",
       "   'value': 'Org legal name 74d00472-85d5-4c6b-81d3-5b6353a8a7fd'},\n",
       "  {'canShare': False,\n",
       "   'description': 'Field to store Org Name',\n",
       "   'fieldKind': {'fieldType': 'Text',\n",
       "    'id': 'a9fa2832-4107-4c95-b7d8-0cdd15a7e2bc',\n",
       "    'name': 'Text'},\n",
       "   'name': 'Org Name',\n",
       "   'templateFieldID': '3aec2732-acad-4fba-8dd3-c97c390c0129',\n",
       "   'templateFieldLineage': [],\n",
       "   'updatedAt': '2023-07-17T15:52:19.496539Z',\n",
       "   'validationErrors': None,\n",
       "   'value': 'Organization Name b6e9f27b-6214-4f57-a670-5e02d2a1fdeb'},\n",
       "  {'canShare': False,\n",
       "   'description': 'Field to store Org Description',\n",
       "   'fieldKind': {'fieldType': 'Text',\n",
       "    'id': 'a9fa2832-4107-4c95-b7d8-0cdd15a7e2bc',\n",
       "    'name': 'Text'},\n",
       "   'name': 'Org Description',\n",
       "   'templateFieldID': '884fd153-2bf5-4f26-8cae-4bb75c538561',\n",
       "   'templateFieldLineage': [],\n",
       "   'updatedAt': '2023-07-17T15:52:19.496539Z',\n",
       "   'validationErrors': None,\n",
       "   'value': 'This is very important organization'},\n",
       "  {'canShare': False,\n",
       "   'description': 'Field to store Org Governing Country',\n",
       "   'fieldKind': {'fieldType': 'Text',\n",
       "    'id': 'a9fa2832-4107-4c95-b7d8-0cdd15a7e2bc',\n",
       "    'name': 'Text'},\n",
       "   'name': 'Org Governing Country',\n",
       "   'templateFieldID': 'af7c9abd-c579-4075-a63a-208002e07aea',\n",
       "   'templateFieldLineage': [],\n",
       "   'updatedAt': '2023-07-17T15:52:19.496539Z',\n",
       "   'validationErrors': None,\n",
       "   'value': 'US'},\n",
       "  {'canShare': False,\n",
       "   'description': 'Field to store Org Governing State',\n",
       "   'fieldKind': {'fieldType': 'Text',\n",
       "    'id': 'a9fa2832-4107-4c95-b7d8-0cdd15a7e2bc',\n",
       "    'name': 'Text'},\n",
       "   'name': 'Org Governing State',\n",
       "   'templateFieldID': '8c344f00-a9cf-437d-9974-3fc46935aa30',\n",
       "   'templateFieldLineage': [],\n",
       "   'updatedAt': '2023-07-17T15:52:19.496539Z',\n",
       "   'validationErrors': None,\n",
       "   'value': 'CA'}],\n",
       " 'issuer': {'id': '9a5eb92a-b34a-42b9-8fb7-10ce9449e83e',\n",
       "  'state': 'active',\n",
       "  'type': 'organization'},\n",
       " 'name': 'Admin merit',\n",
       " 'recipient': {'id': '196a8c8f-6fd9-456b-8193-4159b8dc3ab6',\n",
       "  'state': 'active',\n",
       "  'type': 'person'},\n",
       " 'rejectedAt': None,\n",
       " 'state': {'name': 'accepted', 'occurredAt': '2023-07-17T08:52:19.489566Z'},\n",
       " 'templateId': '72fdc5f3-dd82-489d-a6fa-42f6897a2f92',\n",
       " 'updatedAt': '2023-07-17T15:52:19.496539Z'}"
      ]
     },
     "execution_count": 7,
     "metadata": {},
     "output_type": "execute_result"
    }
   ],
   "source": [
    "merit = json.load(open(\"test_merit.json\", \"r\"))\n",
    "merit"
   ]
  },
  {
   "cell_type": "markdown",
   "metadata": {},
   "source": [
    "## A verifiable credential generated from the example Merit credential"
   ]
  },
  {
   "cell_type": "code",
   "execution_count": 8,
   "metadata": {},
   "outputs": [
    {
     "data": {
      "text/plain": [
       "{'@context': ['https://www.w3.org/2018/credentials/v2',\n",
       "  'https://www.w3.org/2018/credentials/examples/v2',\n",
       "  'https://schema.org/'],\n",
       " 'issuer': 'urn:uuid:9a5eb92a-b34a-42b9-8fb7-10ce9449e83e',\n",
       " 'id': 'urn:uuid:dc30880d-2d4b-447c-905e-b79075aea95b',\n",
       " 'type': ['VerifiableCredential', 'Admin merit'],\n",
       " 'credentialSubject': {'id': 'urn:uuid:196a8c8f-6fd9-456b-8193-4159b8dc3ab6',\n",
       "  'merit': {'First Name': 'Hank',\n",
       "   'Last Name': 'Lindgren',\n",
       "   'Email': 'oleg+user2@gomerits.com',\n",
       "   'Issuing Org Name': 'Merit International, Inc.',\n",
       "   'Org UUID': 'user2',\n",
       "   'Admin Phone Number': '6317070926',\n",
       "   'Org Legal Name': 'Org legal name 74d00472-85d5-4c6b-81d3-5b6353a8a7fd',\n",
       "   'Org Name': 'Organization Name b6e9f27b-6214-4f57-a670-5e02d2a1fdeb',\n",
       "   'Org Description': 'This is very important organization',\n",
       "   'Org Governing Country': 'US',\n",
       "   'Org Governing State': 'CA'}},\n",
       " 'issuanceDate': '2023-07-17T15:52:04.3018Z',\n",
       " 'credentialStatus': {'id': 'https://vc.merit.com/status/urn%3Auuid%3Adc30880d-2d4b-447c-905e-b79075aea95b',\n",
       "  'type': 'MeritCredentialStatusList2024',\n",
       "  'statusPurpose': 'accepted',\n",
       "  'occurredAt': '2023-07-17T08:52:19.489566Z'}}"
      ]
     },
     "execution_count": 8,
     "metadata": {},
     "output_type": "execute_result"
    }
   ],
   "source": [
    "id = urn_uuid(merit[\"id\"])\n",
    "issuer = urn_uuid(merit[\"issuer\"][\"id\"])\n",
    "subject = urn_uuid(merit[\"recipient\"][\"id\"])\n",
    "\n",
    "verifiable_credential = {\n",
    "    \"@context\": [\n",
    "        \"https://www.w3.org/2018/credentials/v2\",\n",
    "        \"https://www.w3.org/2018/credentials/examples/v2\",\n",
    "        \"https://schema.org/\"\n",
    "    ],\n",
    "    \"issuer\": issuer,\n",
    "    \"id\": id,\n",
    "    \"type\": [\"VerifiableCredential\", merit[\"name\"]],\n",
    "    \"credentialSubject\": {\n",
    "        \"id\": subject,\n",
    "        \"merit\": { field[\"name\"]: field[\"value\"] for field in merit[\"fields\"] },\n",
    "    },\n",
    "    \"issuanceDate\": merit[\"createdAt\"],\n",
    "    \"credentialStatus\": {\n",
    "        \"id\": f'https://vc.merit.com/status/{requests.utils.quote(id)}',\n",
    "        \"type\": \"MeritCredentialStatusList2024\",\n",
    "        \"statusPurpose\": merit['state']['name'],\n",
    "        \"occurredAt\": merit['state']['occurredAt']\n",
    "    }\n",
    "}\n",
    "verifiable_credential"
   ]
  },
  {
   "cell_type": "markdown",
   "metadata": {},
   "source": [
    "## JSON Schema validation of the verifiable credential"
   ]
  },
  {
   "cell_type": "code",
   "execution_count": 22,
   "metadata": {},
   "outputs": [],
   "source": [
    "vc_schema = {\n",
    "    \"$schema\": \"http://json-schema.org/draft-07/schema#\",\n",
    "    \"type\": \"object\",\n",
    "    \"properties\": {\n",
    "        \"@context\": {\n",
    "            \"type\": \"array\",\n",
    "            \"items\": {\n",
    "                \"type\": \"string\"\n",
    "            },\n",
    "            \"minItems\": 1\n",
    "        },\n",
    "        \"id\": {\n",
    "            \"type\": \"string\"\n",
    "        },\n",
    "        \"type\": {\n",
    "            \"type\": \"array\",\n",
    "            \"items\": {\n",
    "                \"type\": \"string\"\n",
    "            },\n",
    "            \"contains\": {\n",
    "                \"const\": \"VerifiableCredential\"\n",
    "            }\n",
    "        },\n",
    "        \"issuer\": {\n",
    "            \"type\": \"string\"\n",
    "        },\n",
    "        \"issuanceDate\": {\n",
    "            \"type\": \"string\",\n",
    "            \"format\": \"date-time\"\n",
    "        },\n",
    "        \"credentialSubject\": {\n",
    "            \"type\": \"object\",\n",
    "            \"properties\": {\n",
    "                \"id\": {\n",
    "                    \"type\": \"string\"\n",
    "                }\n",
    "            },\n",
    "            \"required\": [\"id\"]\n",
    "        },\n",
    "        \"credentialStatus\": {\n",
    "            \"type\": \"object\",\n",
    "            \"properties\": {\n",
    "                \"id\": {\n",
    "                    \"type\": \"string\"\n",
    "                },\n",
    "                \"type\": {\n",
    "                    \"type\": \"string\"\n",
    "                },\n",
    "                \"statusPurpose\": {\n",
    "                    \"type\": \"string\"\n",
    "                },\n",
    "                \"occurredAt\": {\n",
    "                    \"type\": \"string\",\n",
    "                    \"format\": \"date-time\"\n",
    "                }\n",
    "            },\n",
    "            \"required\": [\"id\"]\n",
    "        },\n",
    "        \"proof\": {\n",
    "            \"type\": \"object\",\n",
    "            \"properties\": {\n",
    "                \"type\": {\n",
    "                    \"type\": \"string\"\n",
    "                },\n",
    "                \"created\": {\n",
    "                    \"type\": \"string\",\n",
    "                    \"format\": \"date-time\"\n",
    "                },\n",
    "                \"proofValue\": {\n",
    "                    \"type\": \"string\"\n",
    "                },\n",
    "                \"verificationMethod\": {\n",
    "                    \"type\": \"string\"\n",
    "                },\n",
    "                \"jws\": {\n",
    "                    \"type\": \"string\"\n",
    "                }\n",
    "            },\n",
    "            \"required\": [\"type\", \"created\", \"proofValue\"]\n",
    "        }\n",
    "    },\n",
    "    \"required\": [\"@context\", \"id\", \"type\", \"issuer\", \"issuanceDate\", \"credentialSubject\", \"credentialStatus\"]\n",
    "}"
   ]
  },
  {
   "cell_type": "code",
   "execution_count": 23,
   "metadata": {},
   "outputs": [
    {
     "name": "stdout",
     "output_type": "stream",
     "text": [
      "Credential is valid.\n"
     ]
    }
   ],
   "source": [
    "try:\n",
    "    jsonschema.validate(instance=verifiable_credential, schema=vc_schema)\n",
    "    print(\"Credential is valid.\")\n",
    "except jsonschema.exceptions.ValidationError as e:\n",
    "    print(\"Credential is not valid:\", e)"
   ]
  },
  {
   "cell_type": "markdown",
   "metadata": {},
   "source": [
    "## JSON Web Token (JWT) serialization of the verifiable credential"
   ]
  },
  {
   "cell_type": "code",
   "execution_count": 11,
   "metadata": {},
   "outputs": [
    {
     "data": {
      "text/plain": [
       "'eyJhbGciOiJIUzI1NiIsImtpZCI6InVybjp1dWlkOmVlMDNiYjg1LTU0MjAtNDMzMi1iYTY0LTBlM2JkY2RlM2VmNCIsInR5cCI6IkpXVCJ9.eyJpc3MiOiJ1cm46dXVpZDo5YTVlYjkyYS1iMzRhLTQyYjktOGZiNy0xMGNlOTQ0OWU4M2UiLCJhdWQiOiJodHRwczovL3ZlcmlmaWVyLmV4YW1wbGUuZ292IiwiZXhwIjoxNjk0OTg3MTczLCJuYmYiOjE2OTQ5MDA3NzMsImlhdCI6MTY5NDkwMDc3Mywia2lkIjoidXJuOnV1aWQ6ZWUwM2JiODUtNTQyMC00MzMyLWJhNjQtMGUzYmRjZGUzZWY0Iiwic3ViIjoidXJuOnV1aWQ6MTk2YThjOGYtNmZkOS00NTZiLTgxOTMtNDE1OWI4ZGMzYWI2IiwidmMiOnsiQGNvbnRleHQiOlsiaHR0cHM6Ly93d3cudzMub3JnLzIwMTgvY3JlZGVudGlhbHMvdjIiLCJodHRwczovL3d3dy53My5vcmcvMjAxOC9jcmVkZW50aWFscy9leGFtcGxlcy92MiIsImh0dHBzOi8vc2NoZW1hLm9yZy8iXSwiaXNzdWVyIjoidXJuOnV1aWQ6OWE1ZWI5MmEtYjM0YS00MmI5LThmYjctMTBjZTk0NDllODNlIiwiaWQiOiJ1cm46dXVpZDpkYzMwODgwZC0yZDRiLTQ0N2MtOTA1ZS1iNzkwNzVhZWE5NWIiLCJ0eXBlIjpbIlZlcmlmaWFibGVDcmVkZW50aWFsIiwiQWRtaW4gbWVyaXQiXSwiY3JlZGVudGlhbFN1YmplY3QiOnsiaWQiOiJ1cm46dXVpZDoxOTZhOGM4Zi02ZmQ5LTQ1NmItODE5My00MTU5YjhkYzNhYjYiLCJtZXJpdCI6eyJGaXJzdCBOYW1lIjoiSGFuayIsIkxhc3QgTmFtZSI6IkxpbmRncmVuIiwiRW1haWwiOiJvbGVnK3VzZXIyQGdvbWVyaXRzLmNvbSIsIklzc3VpbmcgT3JnIE5hbWUiOiJNZXJpdCBJbnRlcm5hdGlvbmFsLCBJbmMuIiwiT3JnIFVVSUQiOiJ1c2VyMiIsIkFkbWluIFBob25lIE51bWJlciI6IjYzMTcwNzA5MjYiLCJPcmcgTGVnYWwgTmFtZSI6Ik9yZyBsZWdhbCBuYW1lIDc0ZDAwNDcyLTg1ZDUtNGM2Yi04MWQzLTViNjM1M2E4YTdmZCIsIk9yZyBOYW1lIjoiT3JnYW5pemF0aW9uIE5hbWUgYjZlOWYyN2ItNjIxNC00ZjU3LWE2NzAtNWUwMmQyYTFmZGViIiwiT3JnIERlc2NyaXB0aW9uIjoiVGhpcyBpcyB2ZXJ5IGltcG9ydGFudCBvcmdhbml6YXRpb24iLCJPcmcgR292ZXJuaW5nIENvdW50cnkiOiJVUyIsIk9yZyBHb3Zlcm5pbmcgU3RhdGUiOiJDQSJ9fSwiaXNzdWFuY2VEYXRlIjoiMjAyMy0wNy0xN1QxNTo1MjowNC4zMDE4WiIsImNyZWRlbnRpYWxTdGF0dXMiOnsiaWQiOiJodHRwczovL3ZjLm1lcml0LmNvbS9zdGF0dXMvdXJuJTNBdXVpZCUzQWRjMzA4ODBkLTJkNGItNDQ3Yy05MDVlLWI3OTA3NWFlYTk1YiIsInR5cGUiOiJNZXJpdENyZWRlbnRpYWxTdGF0dXNMaXN0MjAyNCIsInN0YXR1c1B1cnBvc2UiOiJhY2NlcHRlZCIsIm9jY3VycmVkQXQiOiIyMDIzLTA3LTE3VDA4OjUyOjE5LjQ4OTU2NloifX19.2CgFJIzZzBJITo45uMz1J4QsPG2eljRniZfzljV5G8Q'"
      ]
     },
     "execution_count": 11,
     "metadata": {},
     "output_type": "execute_result"
    }
   ],
   "source": [
    "signed_vc = sign(KEY_MANAGER, verifiable_credential, \"secret\", VERIFIER)\n",
    "signed_vc"
   ]
  },
  {
   "cell_type": "code",
   "execution_count": 12,
   "metadata": {},
   "outputs": [
    {
     "data": {
      "text/plain": [
       "{'@context': ['https://www.w3.org/2018/credentials/v2',\n",
       "  'https://www.w3.org/2018/credentials/examples/v2',\n",
       "  'https://schema.org/'],\n",
       " 'issuer': 'urn:uuid:9a5eb92a-b34a-42b9-8fb7-10ce9449e83e',\n",
       " 'id': 'urn:uuid:dc30880d-2d4b-447c-905e-b79075aea95b',\n",
       " 'type': ['VerifiableCredential', 'Admin merit'],\n",
       " 'credentialSubject': {'id': 'urn:uuid:196a8c8f-6fd9-456b-8193-4159b8dc3ab6',\n",
       "  'merit': {'First Name': 'Hank',\n",
       "   'Last Name': 'Lindgren',\n",
       "   'Email': 'oleg+user2@gomerits.com',\n",
       "   'Issuing Org Name': 'Merit International, Inc.',\n",
       "   'Org UUID': 'user2',\n",
       "   'Admin Phone Number': '6317070926',\n",
       "   'Org Legal Name': 'Org legal name 74d00472-85d5-4c6b-81d3-5b6353a8a7fd',\n",
       "   'Org Name': 'Organization Name b6e9f27b-6214-4f57-a670-5e02d2a1fdeb',\n",
       "   'Org Description': 'This is very important organization',\n",
       "   'Org Governing Country': 'US',\n",
       "   'Org Governing State': 'CA'}},\n",
       " 'issuanceDate': '2023-07-17T15:52:04.3018Z',\n",
       " 'credentialStatus': {'id': 'https://vc.merit.com/status/urn%3Auuid%3Adc30880d-2d4b-447c-905e-b79075aea95b',\n",
       "  'type': 'MeritCredentialStatusList2024',\n",
       "  'statusPurpose': 'accepted',\n",
       "  'occurredAt': '2023-07-17T08:52:19.489566Z'}}"
      ]
     },
     "execution_count": 12,
     "metadata": {},
     "output_type": "execute_result"
    }
   ],
   "source": [
    "key = KEY_MANAGER.get(jwt.get_unverified_header(signed_vc)[\"kid\"])\n",
    "verifiable_credential = verify(KEY_MANAGER, signed_vc, VERIFIER)\n",
    "verifiable_credential"
   ]
  },
  {
   "cell_type": "markdown",
   "metadata": {},
   "source": [
    "## Adding geofencing into the credentialSubject of the verifiable credential"
   ]
  },
  {
   "cell_type": "code",
   "execution_count": 13,
   "metadata": {},
   "outputs": [
    {
     "data": {
      "text/plain": [
       "{'@context': ['https://www.w3.org/2018/credentials/v2',\n",
       "  'https://www.w3.org/2018/credentials/examples/v2',\n",
       "  'https://schema.org/'],\n",
       " 'issuer': 'urn:uuid:9a5eb92a-b34a-42b9-8fb7-10ce9449e83e',\n",
       " 'id': 'urn:uuid:dc30880d-2d4b-447c-905e-b79075aea95b',\n",
       " 'type': ['VerifiableCredential', 'Admin merit'],\n",
       " 'credentialSubject': {'id': 'urn:uuid:196a8c8f-6fd9-456b-8193-4159b8dc3ab6',\n",
       "  'merit': {'First Name': 'Hank',\n",
       "   'Last Name': 'Lindgren',\n",
       "   'Email': 'oleg+user2@gomerits.com',\n",
       "   'Issuing Org Name': 'Merit International, Inc.',\n",
       "   'Org UUID': 'user2',\n",
       "   'Admin Phone Number': '6317070926',\n",
       "   'Org Legal Name': 'Org legal name 74d00472-85d5-4c6b-81d3-5b6353a8a7fd',\n",
       "   'Org Name': 'Organization Name b6e9f27b-6214-4f57-a670-5e02d2a1fdeb',\n",
       "   'Org Description': 'This is very important organization',\n",
       "   'Org Governing Country': 'US',\n",
       "   'Org Governing State': 'CA'},\n",
       "  'eligibleRegion': {'type': 'GeoCircle',\n",
       "   'geoMidpoint': {'type': 'GeoCoordinates',\n",
       "    'latitude': '38.88508',\n",
       "    'longitude': '-77.02295'},\n",
       "   'geoRadius': '50'}},\n",
       " 'issuanceDate': '2023-07-17T15:52:04.3018Z',\n",
       " 'credentialStatus': {'id': 'https://vc.merit.com/status/urn%3Auuid%3Adc30880d-2d4b-447c-905e-b79075aea95b',\n",
       "  'type': 'MeritCredentialStatusList2024',\n",
       "  'statusPurpose': 'accepted',\n",
       "  'occurredAt': '2023-07-17T08:52:19.489566Z'}}"
      ]
     },
     "execution_count": 13,
     "metadata": {},
     "output_type": "execute_result"
    }
   ],
   "source": [
    "verifiable_credential[\"credentialSubject\"][\"eligibleRegion\"] = {\n",
    "    \"type\": \"GeoCircle\",\n",
    "    \"geoMidpoint\": {\n",
    "        \"type\": \"GeoCoordinates\",\n",
    "        \"latitude\": \"38.88508\",\n",
    "        \"longitude\": \"-77.02295\"\n",
    "    },\n",
    "    \"geoRadius\": \"50\"\n",
    "}\n",
    "verifiable_credential"
   ]
  },
  {
   "cell_type": "code",
   "execution_count": 14,
   "metadata": {},
   "outputs": [
    {
     "data": {
      "text/plain": [
       "'eyJhbGciOiJIUzI1NiIsImtpZCI6InVybjp1dWlkOmIwYzU5NDU1LWNiOTAtNGIyZC05MzZiLTU1MzdhODYwNmY2OSIsInR5cCI6IkpXVCJ9.eyJpc3MiOiJ1cm46dXVpZDo5YTVlYjkyYS1iMzRhLTQyYjktOGZiNy0xMGNlOTQ0OWU4M2UiLCJhdWQiOiJodHRwczovL3ZlcmlmaWVyLmV4YW1wbGUuZ292IiwiZXhwIjoxNjk0OTg3MTczLCJuYmYiOjE2OTQ5MDA3NzMsImlhdCI6MTY5NDkwMDc3Mywia2lkIjoidXJuOnV1aWQ6YjBjNTk0NTUtY2I5MC00YjJkLTkzNmItNTUzN2E4NjA2ZjY5Iiwic3ViIjoidXJuOnV1aWQ6MTk2YThjOGYtNmZkOS00NTZiLTgxOTMtNDE1OWI4ZGMzYWI2IiwidmMiOnsiQGNvbnRleHQiOlsiaHR0cHM6Ly93d3cudzMub3JnLzIwMTgvY3JlZGVudGlhbHMvdjIiLCJodHRwczovL3d3dy53My5vcmcvMjAxOC9jcmVkZW50aWFscy9leGFtcGxlcy92MiIsImh0dHBzOi8vc2NoZW1hLm9yZy8iXSwiaXNzdWVyIjoidXJuOnV1aWQ6OWE1ZWI5MmEtYjM0YS00MmI5LThmYjctMTBjZTk0NDllODNlIiwiaWQiOiJ1cm46dXVpZDpkYzMwODgwZC0yZDRiLTQ0N2MtOTA1ZS1iNzkwNzVhZWE5NWIiLCJ0eXBlIjpbIlZlcmlmaWFibGVDcmVkZW50aWFsIiwiQWRtaW4gbWVyaXQiXSwiY3JlZGVudGlhbFN1YmplY3QiOnsiaWQiOiJ1cm46dXVpZDoxOTZhOGM4Zi02ZmQ5LTQ1NmItODE5My00MTU5YjhkYzNhYjYiLCJtZXJpdCI6eyJGaXJzdCBOYW1lIjoiSGFuayIsIkxhc3QgTmFtZSI6IkxpbmRncmVuIiwiRW1haWwiOiJvbGVnK3VzZXIyQGdvbWVyaXRzLmNvbSIsIklzc3VpbmcgT3JnIE5hbWUiOiJNZXJpdCBJbnRlcm5hdGlvbmFsLCBJbmMuIiwiT3JnIFVVSUQiOiJ1c2VyMiIsIkFkbWluIFBob25lIE51bWJlciI6IjYzMTcwNzA5MjYiLCJPcmcgTGVnYWwgTmFtZSI6Ik9yZyBsZWdhbCBuYW1lIDc0ZDAwNDcyLTg1ZDUtNGM2Yi04MWQzLTViNjM1M2E4YTdmZCIsIk9yZyBOYW1lIjoiT3JnYW5pemF0aW9uIE5hbWUgYjZlOWYyN2ItNjIxNC00ZjU3LWE2NzAtNWUwMmQyYTFmZGViIiwiT3JnIERlc2NyaXB0aW9uIjoiVGhpcyBpcyB2ZXJ5IGltcG9ydGFudCBvcmdhbml6YXRpb24iLCJPcmcgR292ZXJuaW5nIENvdW50cnkiOiJVUyIsIk9yZyBHb3Zlcm5pbmcgU3RhdGUiOiJDQSJ9LCJlbGlnaWJsZVJlZ2lvbiI6eyJ0eXBlIjoiR2VvQ2lyY2xlIiwiZ2VvTWlkcG9pbnQiOnsidHlwZSI6Ikdlb0Nvb3JkaW5hdGVzIiwibGF0aXR1ZGUiOiIzOC44ODUwOCIsImxvbmdpdHVkZSI6Ii03Ny4wMjI5NSJ9LCJnZW9SYWRpdXMiOiI1MCJ9fSwiaXNzdWFuY2VEYXRlIjoiMjAyMy0wNy0xN1QxNTo1MjowNC4zMDE4WiIsImNyZWRlbnRpYWxTdGF0dXMiOnsiaWQiOiJodHRwczovL3ZjLm1lcml0LmNvbS9zdGF0dXMvdXJuJTNBdXVpZCUzQWRjMzA4ODBkLTJkNGItNDQ3Yy05MDVlLWI3OTA3NWFlYTk1YiIsInR5cGUiOiJNZXJpdENyZWRlbnRpYWxTdGF0dXNMaXN0MjAyNCIsInN0YXR1c1B1cnBvc2UiOiJhY2NlcHRlZCIsIm9jY3VycmVkQXQiOiIyMDIzLTA3LTE3VDA4OjUyOjE5LjQ4OTU2NloifX19.V4j9LZF8ZSng46ZQNxQigIm2pvdwPkHWK62bi6Kd1fg'"
      ]
     },
     "execution_count": 14,
     "metadata": {},
     "output_type": "execute_result"
    }
   ],
   "source": [
    "signed_geofenced_vc = sign(KEY_MANAGER, verifiable_credential, \"secret2\", VERIFIER)\n",
    "signed_geofenced_vc"
   ]
  },
  {
   "cell_type": "markdown",
   "metadata": {},
   "source": [
    "## Generating a geolocation verifiable credential"
   ]
  },
  {
   "cell_type": "code",
   "execution_count": 15,
   "metadata": {},
   "outputs": [
    {
     "data": {
      "text/plain": [
       "{'@context': ['https://www.w3.org/2018/credentials/v1',\n",
       "  'https://www.w3.org/2018/credentials/examples/v1',\n",
       "  'https://schema.org/'],\n",
       " 'issuer': 'urn:uuid:196a8c8f-6fd9-456b-8193-4159b8dc3ab6',\n",
       " 'id': 'urn:uuid:3bf38946-c841-48ec-b39c-e8c2edf894eb',\n",
       " 'type': ['VerifiableCredential', 'RealtimeGeolocation'],\n",
       " 'credentialSubject': {'id': 'urn:uuid:196a8c8f-6fd9-456b-8193-4159b8dc3ab6',\n",
       "  'geo': {'type': 'GeoCoordinates',\n",
       "   'latitude': '38.88460',\n",
       "   'longitude': '-77.02273'}},\n",
       " 'issuanceDate': '2023-09-16T21:46:13.427991Z'}"
      ]
     },
     "execution_count": 15,
     "metadata": {},
     "output_type": "execute_result"
    }
   ],
   "source": [
    "geolocation_vc_id = urn_uuid(uuid.uuid4())\n",
    "geolocation_vc = {\n",
    "    '@context': [\n",
    "        'https://www.w3.org/2018/credentials/v1', \n",
    "        'https://www.w3.org/2018/credentials/examples/v1', \n",
    "        'https://schema.org/'\n",
    "    ],\n",
    "    'issuer': subject,\n",
    "    'id': geolocation_vc_id,\n",
    "    'type': ['VerifiableCredential', 'RealtimeGeolocation'],\n",
    "    'credentialSubject' : {\n",
    "        'id': 'urn:uuid:196a8c8f-6fd9-456b-8193-4159b8dc3ab6',\n",
    "        'geo': {\n",
    "            'type': 'GeoCoordinates',\n",
    "            'latitude': '38.88460',\n",
    "            'longitude': '-77.02273'\n",
    "        }\n",
    "    },\n",
    "    'issuanceDate': datetime.datetime.utcnow().isoformat() + 'Z'\n",
    "}\n",
    "geolocation_vc"
   ]
  },
  {
   "cell_type": "code",
   "execution_count": 16,
   "metadata": {},
   "outputs": [
    {
     "data": {
      "text/plain": [
       "'eyJhbGciOiJIUzI1NiIsImtpZCI6InVybjp1dWlkOjJhOTM1OTk0LWI2MjQtNDljOC05MWM1LWYwMTc0ODNjZTI0NyIsInR5cCI6IkpXVCJ9.eyJpc3MiOiJ1cm46dXVpZDoxOTZhOGM4Zi02ZmQ5LTQ1NmItODE5My00MTU5YjhkYzNhYjYiLCJhdWQiOiJodHRwczovL3ZlcmlmaWVyLmV4YW1wbGUuZ292IiwiZXhwIjoxNjk0OTg3MTczLCJuYmYiOjE2OTQ5MDA3NzMsImlhdCI6MTY5NDkwMDc3Mywia2lkIjoidXJuOnV1aWQ6MmE5MzU5OTQtYjYyNC00OWM4LTkxYzUtZjAxNzQ4M2NlMjQ3Iiwic3ViIjoidXJuOnV1aWQ6MTk2YThjOGYtNmZkOS00NTZiLTgxOTMtNDE1OWI4ZGMzYWI2IiwidmMiOnsiQGNvbnRleHQiOlsiaHR0cHM6Ly93d3cudzMub3JnLzIwMTgvY3JlZGVudGlhbHMvdjEiLCJodHRwczovL3d3dy53My5vcmcvMjAxOC9jcmVkZW50aWFscy9leGFtcGxlcy92MSIsImh0dHBzOi8vc2NoZW1hLm9yZy8iXSwiaXNzdWVyIjoidXJuOnV1aWQ6MTk2YThjOGYtNmZkOS00NTZiLTgxOTMtNDE1OWI4ZGMzYWI2IiwiaWQiOiJ1cm46dXVpZDozYmYzODk0Ni1jODQxLTQ4ZWMtYjM5Yy1lOGMyZWRmODk0ZWIiLCJ0eXBlIjpbIlZlcmlmaWFibGVDcmVkZW50aWFsIiwiUmVhbHRpbWVHZW9sb2NhdGlvbiJdLCJjcmVkZW50aWFsU3ViamVjdCI6eyJpZCI6InVybjp1dWlkOjE5NmE4YzhmLTZmZDktNDU2Yi04MTkzLTQxNTliOGRjM2FiNiIsImdlbyI6eyJ0eXBlIjoiR2VvQ29vcmRpbmF0ZXMiLCJsYXRpdHVkZSI6IjM4Ljg4NDYwIiwibG9uZ2l0dWRlIjoiLTc3LjAyMjczIn19LCJpc3N1YW5jZURhdGUiOiIyMDIzLTA5LTE2VDIxOjQ2OjEzLjQyNzk5MVoifX0.Wx0WJL5Aq-pujhzLmA1fenlDxum_CdkYwp4XOPn3y2M'"
      ]
     },
     "execution_count": 16,
     "metadata": {},
     "output_type": "execute_result"
    }
   ],
   "source": [
    "signed_geolocation_vc = sign(KEY_MANAGER, geolocation_vc, \"secret3\", VERIFIER)\n",
    "signed_geolocation_vc"
   ]
  },
  {
   "cell_type": "markdown",
   "metadata": {},
   "source": [
    "## Generating a verifiable presentation combining the geofenced credential with the geolocation credential"
   ]
  },
  {
   "cell_type": "code",
   "execution_count": 17,
   "metadata": {},
   "outputs": [
    {
     "data": {
      "text/plain": [
       "{'@context': ['https://www.w3.org/2018/credentials/v1',\n",
       "  'https://www.w3.org/2018/credentials/examples/v1',\n",
       "  'https://schema.org/'],\n",
       " 'issuer': 'urn:uuid:196a8c8f-6fd9-456b-8193-4159b8dc3ab6',\n",
       " 'id': 'urn:uuid:c686e6c2-3564-4009-bd0e-f3eb26849650',\n",
       " 'type': ['VerifiablePresentation'],\n",
       " 'verifiableCredential': ['eyJhbGciOiJIUzI1NiIsImtpZCI6InVybjp1dWlkOmIwYzU5NDU1LWNiOTAtNGIyZC05MzZiLTU1MzdhODYwNmY2OSIsInR5cCI6IkpXVCJ9.eyJpc3MiOiJ1cm46dXVpZDo5YTVlYjkyYS1iMzRhLTQyYjktOGZiNy0xMGNlOTQ0OWU4M2UiLCJhdWQiOiJodHRwczovL3ZlcmlmaWVyLmV4YW1wbGUuZ292IiwiZXhwIjoxNjk0OTg3MTczLCJuYmYiOjE2OTQ5MDA3NzMsImlhdCI6MTY5NDkwMDc3Mywia2lkIjoidXJuOnV1aWQ6YjBjNTk0NTUtY2I5MC00YjJkLTkzNmItNTUzN2E4NjA2ZjY5Iiwic3ViIjoidXJuOnV1aWQ6MTk2YThjOGYtNmZkOS00NTZiLTgxOTMtNDE1OWI4ZGMzYWI2IiwidmMiOnsiQGNvbnRleHQiOlsiaHR0cHM6Ly93d3cudzMub3JnLzIwMTgvY3JlZGVudGlhbHMvdjIiLCJodHRwczovL3d3dy53My5vcmcvMjAxOC9jcmVkZW50aWFscy9leGFtcGxlcy92MiIsImh0dHBzOi8vc2NoZW1hLm9yZy8iXSwiaXNzdWVyIjoidXJuOnV1aWQ6OWE1ZWI5MmEtYjM0YS00MmI5LThmYjctMTBjZTk0NDllODNlIiwiaWQiOiJ1cm46dXVpZDpkYzMwODgwZC0yZDRiLTQ0N2MtOTA1ZS1iNzkwNzVhZWE5NWIiLCJ0eXBlIjpbIlZlcmlmaWFibGVDcmVkZW50aWFsIiwiQWRtaW4gbWVyaXQiXSwiY3JlZGVudGlhbFN1YmplY3QiOnsiaWQiOiJ1cm46dXVpZDoxOTZhOGM4Zi02ZmQ5LTQ1NmItODE5My00MTU5YjhkYzNhYjYiLCJtZXJpdCI6eyJGaXJzdCBOYW1lIjoiSGFuayIsIkxhc3QgTmFtZSI6IkxpbmRncmVuIiwiRW1haWwiOiJvbGVnK3VzZXIyQGdvbWVyaXRzLmNvbSIsIklzc3VpbmcgT3JnIE5hbWUiOiJNZXJpdCBJbnRlcm5hdGlvbmFsLCBJbmMuIiwiT3JnIFVVSUQiOiJ1c2VyMiIsIkFkbWluIFBob25lIE51bWJlciI6IjYzMTcwNzA5MjYiLCJPcmcgTGVnYWwgTmFtZSI6Ik9yZyBsZWdhbCBuYW1lIDc0ZDAwNDcyLTg1ZDUtNGM2Yi04MWQzLTViNjM1M2E4YTdmZCIsIk9yZyBOYW1lIjoiT3JnYW5pemF0aW9uIE5hbWUgYjZlOWYyN2ItNjIxNC00ZjU3LWE2NzAtNWUwMmQyYTFmZGViIiwiT3JnIERlc2NyaXB0aW9uIjoiVGhpcyBpcyB2ZXJ5IGltcG9ydGFudCBvcmdhbml6YXRpb24iLCJPcmcgR292ZXJuaW5nIENvdW50cnkiOiJVUyIsIk9yZyBHb3Zlcm5pbmcgU3RhdGUiOiJDQSJ9LCJlbGlnaWJsZVJlZ2lvbiI6eyJ0eXBlIjoiR2VvQ2lyY2xlIiwiZ2VvTWlkcG9pbnQiOnsidHlwZSI6Ikdlb0Nvb3JkaW5hdGVzIiwibGF0aXR1ZGUiOiIzOC44ODUwOCIsImxvbmdpdHVkZSI6Ii03Ny4wMjI5NSJ9LCJnZW9SYWRpdXMiOiI1MCJ9fSwiaXNzdWFuY2VEYXRlIjoiMjAyMy0wNy0xN1QxNTo1MjowNC4zMDE4WiIsImNyZWRlbnRpYWxTdGF0dXMiOnsiaWQiOiJodHRwczovL3ZjLm1lcml0LmNvbS9zdGF0dXMvdXJuJTNBdXVpZCUzQWRjMzA4ODBkLTJkNGItNDQ3Yy05MDVlLWI3OTA3NWFlYTk1YiIsInR5cGUiOiJNZXJpdENyZWRlbnRpYWxTdGF0dXNMaXN0MjAyNCIsInN0YXR1c1B1cnBvc2UiOiJhY2NlcHRlZCIsIm9jY3VycmVkQXQiOiIyMDIzLTA3LTE3VDA4OjUyOjE5LjQ4OTU2NloifX19.V4j9LZF8ZSng46ZQNxQigIm2pvdwPkHWK62bi6Kd1fg',\n",
       "  'eyJhbGciOiJIUzI1NiIsImtpZCI6InVybjp1dWlkOjJhOTM1OTk0LWI2MjQtNDljOC05MWM1LWYwMTc0ODNjZTI0NyIsInR5cCI6IkpXVCJ9.eyJpc3MiOiJ1cm46dXVpZDoxOTZhOGM4Zi02ZmQ5LTQ1NmItODE5My00MTU5YjhkYzNhYjYiLCJhdWQiOiJodHRwczovL3ZlcmlmaWVyLmV4YW1wbGUuZ292IiwiZXhwIjoxNjk0OTg3MTczLCJuYmYiOjE2OTQ5MDA3NzMsImlhdCI6MTY5NDkwMDc3Mywia2lkIjoidXJuOnV1aWQ6MmE5MzU5OTQtYjYyNC00OWM4LTkxYzUtZjAxNzQ4M2NlMjQ3Iiwic3ViIjoidXJuOnV1aWQ6MTk2YThjOGYtNmZkOS00NTZiLTgxOTMtNDE1OWI4ZGMzYWI2IiwidmMiOnsiQGNvbnRleHQiOlsiaHR0cHM6Ly93d3cudzMub3JnLzIwMTgvY3JlZGVudGlhbHMvdjEiLCJodHRwczovL3d3dy53My5vcmcvMjAxOC9jcmVkZW50aWFscy9leGFtcGxlcy92MSIsImh0dHBzOi8vc2NoZW1hLm9yZy8iXSwiaXNzdWVyIjoidXJuOnV1aWQ6MTk2YThjOGYtNmZkOS00NTZiLTgxOTMtNDE1OWI4ZGMzYWI2IiwiaWQiOiJ1cm46dXVpZDozYmYzODk0Ni1jODQxLTQ4ZWMtYjM5Yy1lOGMyZWRmODk0ZWIiLCJ0eXBlIjpbIlZlcmlmaWFibGVDcmVkZW50aWFsIiwiUmVhbHRpbWVHZW9sb2NhdGlvbiJdLCJjcmVkZW50aWFsU3ViamVjdCI6eyJpZCI6InVybjp1dWlkOjE5NmE4YzhmLTZmZDktNDU2Yi04MTkzLTQxNTliOGRjM2FiNiIsImdlbyI6eyJ0eXBlIjoiR2VvQ29vcmRpbmF0ZXMiLCJsYXRpdHVkZSI6IjM4Ljg4NDYwIiwibG9uZ2l0dWRlIjoiLTc3LjAyMjczIn19LCJpc3N1YW5jZURhdGUiOiIyMDIzLTA5LTE2VDIxOjQ2OjEzLjQyNzk5MVoifX0.Wx0WJL5Aq-pujhzLmA1fenlDxum_CdkYwp4XOPn3y2M']}"
      ]
     },
     "execution_count": 17,
     "metadata": {},
     "output_type": "execute_result"
    }
   ],
   "source": [
    "vp_id = urn_uuid(uuid.uuid4())\n",
    "verifiable_presentation = {\n",
    "    '@context': [\n",
    "        'https://www.w3.org/2018/credentials/v1', \n",
    "        'https://www.w3.org/2018/credentials/examples/v1', \n",
    "        'https://schema.org/'\n",
    "    ],\n",
    "    'issuer': subject,\n",
    "    'id': vp_id,\n",
    "    'type': ['VerifiablePresentation'],\n",
    "    'verifiableCredential': [\n",
    "        signed_geofenced_vc,\n",
    "        signed_geolocation_vc\n",
    "    ]\n",
    "}\n",
    "verifiable_presentation"
   ]
  },
  {
   "cell_type": "code",
   "execution_count": 25,
   "metadata": {},
   "outputs": [],
   "source": [
    "vp_schema = {\n",
    "    \"$schema\": \"http://json-schema.org/draft-07/schema#\",\n",
    "    \"type\": \"object\",\n",
    "    \"properties\": {\n",
    "        \"@context\": {\n",
    "            \"type\": \"array\",\n",
    "            \"items\": {\n",
    "                \"type\": \"string\"\n",
    "            },\n",
    "            \"minItems\": 1\n",
    "        },\n",
    "        \"id\": {\n",
    "            \"type\": \"string\"\n",
    "        },\n",
    "        \"type\": {\n",
    "            \"type\": \"array\",\n",
    "            \"items\": {\n",
    "                \"type\": \"string\"\n",
    "            },\n",
    "            \"contains\": {\n",
    "                \"const\": \"VerifiablePresentation\"\n",
    "            }\n",
    "        },\n",
    "        \"issuer\": {\n",
    "            \"type\": \"string\"\n",
    "        },\n",
    "        \"verifiableCredential\": {\n",
    "            \"type\": \"array\",\n",
    "            \"items\": {\n",
    "                \"type\": \"string\"\n",
    "            }\n",
    "        },\n",
    "        \"proof\": {\n",
    "            \"type\": \"object\",\n",
    "            \"properties\": {\n",
    "                \"type\": {\n",
    "                    \"type\": \"string\"\n",
    "                },\n",
    "                \"created\": {\n",
    "                    \"type\": \"string\",\n",
    "                    \"format\": \"date-time\"\n",
    "                },\n",
    "                \"proofValue\": {\n",
    "                    \"type\": \"string\"\n",
    "                },\n",
    "                \"verificationMethod\": {\n",
    "                    \"type\": \"string\"\n",
    "                },\n",
    "                \"jws\": {\n",
    "                    \"type\": \"string\"\n",
    "                }\n",
    "            },\n",
    "            \"required\": [\"type\", \"created\", \"proofValue\"]\n",
    "        }\n",
    "    },\n",
    "    \"required\": [\"@context\", \"id\", \"type\", \"issuer\", \"verifiableCredential\"]\n",
    "}"
   ]
  },
  {
   "cell_type": "code",
   "execution_count": 26,
   "metadata": {},
   "outputs": [
    {
     "name": "stdout",
     "output_type": "stream",
     "text": [
      "Presentation is valid.\n"
     ]
    }
   ],
   "source": [
    "try:\n",
    "    jsonschema.validate(instance=verifiable_presentation, schema=vp_schema)\n",
    "    print(\"Presentation is valid.\")\n",
    "except jsonschema.exceptions.ValidationError as e:\n",
    "    print(\"Presentation is not valid:\", e)"
   ]
  },
  {
   "cell_type": "code",
   "execution_count": 18,
   "metadata": {},
   "outputs": [
    {
     "data": {
      "text/plain": [
       "'eyJhbGciOiJIUzI1NiIsImtpZCI6InVybjp1dWlkOjNjNGJhYTdjLWI2OGUtNGYyOS04ZTZkLTUwM2JjYTllMTViYiIsInR5cCI6IkpXVCJ9.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.WIZrqBj66UkmNQob9nKzgcnz2UFSbCQt3GUPTpUt5Yk'"
      ]
     },
     "execution_count": 18,
     "metadata": {},
     "output_type": "execute_result"
    }
   ],
   "source": [
    "signed_geoaware_vp = sign(KEY_MANAGER, verifiable_presentation, \"secret1\", VERIFIER)\n",
    "signed_geoaware_vp"
   ]
  },
  {
   "cell_type": "code",
   "execution_count": 19,
   "metadata": {},
   "outputs": [
    {
     "data": {
      "text/plain": [
       "{'@context': ['https://www.w3.org/2018/credentials/v1',\n",
       "  'https://www.w3.org/2018/credentials/examples/v1',\n",
       "  'https://schema.org/'],\n",
       " 'issuer': 'urn:uuid:196a8c8f-6fd9-456b-8193-4159b8dc3ab6',\n",
       " 'id': 'urn:uuid:c686e6c2-3564-4009-bd0e-f3eb26849650',\n",
       " 'type': ['VerifiablePresentation'],\n",
       " 'verifiableCredential': [{'@context': ['https://www.w3.org/2018/credentials/v2',\n",
       "    'https://www.w3.org/2018/credentials/examples/v2',\n",
       "    'https://schema.org/'],\n",
       "   'issuer': 'urn:uuid:9a5eb92a-b34a-42b9-8fb7-10ce9449e83e',\n",
       "   'id': 'urn:uuid:dc30880d-2d4b-447c-905e-b79075aea95b',\n",
       "   'type': ['VerifiableCredential', 'Admin merit'],\n",
       "   'credentialSubject': {'id': 'urn:uuid:196a8c8f-6fd9-456b-8193-4159b8dc3ab6',\n",
       "    'merit': {'First Name': 'Hank',\n",
       "     'Last Name': 'Lindgren',\n",
       "     'Email': 'oleg+user2@gomerits.com',\n",
       "     'Issuing Org Name': 'Merit International, Inc.',\n",
       "     'Org UUID': 'user2',\n",
       "     'Admin Phone Number': '6317070926',\n",
       "     'Org Legal Name': 'Org legal name 74d00472-85d5-4c6b-81d3-5b6353a8a7fd',\n",
       "     'Org Name': 'Organization Name b6e9f27b-6214-4f57-a670-5e02d2a1fdeb',\n",
       "     'Org Description': 'This is very important organization',\n",
       "     'Org Governing Country': 'US',\n",
       "     'Org Governing State': 'CA'},\n",
       "    'eligibleRegion': {'type': 'GeoCircle',\n",
       "     'geoMidpoint': {'type': 'GeoCoordinates',\n",
       "      'latitude': '38.88508',\n",
       "      'longitude': '-77.02295'},\n",
       "     'geoRadius': '50'}},\n",
       "   'issuanceDate': '2023-07-17T15:52:04.3018Z',\n",
       "   'credentialStatus': {'id': 'https://vc.merit.com/status/urn%3Auuid%3Adc30880d-2d4b-447c-905e-b79075aea95b',\n",
       "    'type': 'MeritCredentialStatusList2024',\n",
       "    'statusPurpose': 'accepted',\n",
       "    'occurredAt': '2023-07-17T08:52:19.489566Z'}},\n",
       "  {'@context': ['https://www.w3.org/2018/credentials/v1',\n",
       "    'https://www.w3.org/2018/credentials/examples/v1',\n",
       "    'https://schema.org/'],\n",
       "   'issuer': 'urn:uuid:196a8c8f-6fd9-456b-8193-4159b8dc3ab6',\n",
       "   'id': 'urn:uuid:3bf38946-c841-48ec-b39c-e8c2edf894eb',\n",
       "   'type': ['VerifiableCredential', 'RealtimeGeolocation'],\n",
       "   'credentialSubject': {'id': 'urn:uuid:196a8c8f-6fd9-456b-8193-4159b8dc3ab6',\n",
       "    'geo': {'type': 'GeoCoordinates',\n",
       "     'latitude': '38.88460',\n",
       "     'longitude': '-77.02273'}},\n",
       "   'issuanceDate': '2023-09-16T21:46:13.427991Z'}]}"
      ]
     },
     "execution_count": 19,
     "metadata": {},
     "output_type": "execute_result"
    }
   ],
   "source": [
    "decoded_vp = verify(KEY_MANAGER, signed_geoaware_vp, VERIFIER)\n",
    "decoded_vp"
   ]
  }
 ],
 "metadata": {
  "kernelspec": {
   "display_name": "sqlite-relational-property-graph-store",
   "language": "python",
   "name": "python3"
  },
  "language_info": {
   "codemirror_mode": {
    "name": "ipython",
    "version": 3
   },
   "file_extension": ".py",
   "mimetype": "text/x-python",
   "name": "python",
   "nbconvert_exporter": "python",
   "pygments_lexer": "ipython3",
   "version": "3.11.4"
  },
  "orig_nbformat": 4
 },
 "nbformat": 4,
 "nbformat_minor": 2
}
