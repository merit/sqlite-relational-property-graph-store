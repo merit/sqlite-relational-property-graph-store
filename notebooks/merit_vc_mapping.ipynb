{
 "cells": [
  {
   "cell_type": "code",
   "execution_count": 1,
   "metadata": {},
   "outputs": [],
   "source": [
    "import json, jsonschema, jwt, datetime"
   ]
  },
  {
   "cell_type": "code",
   "execution_count": 2,
   "metadata": {},
   "outputs": [],
   "source": [
    "def mint_did(uuid):\n",
    "    return f'did:merit:{uuid}'"
   ]
  },
  {
   "cell_type": "code",
   "execution_count": 3,
   "metadata": {},
   "outputs": [
    {
     "data": {
      "text/plain": [
       "{'id': 'dc30880d-2d4b-447c-905e-b79075aea95b',\n",
       " 'acceptedAt': '2023-07-17T08:52:19.489566Z',\n",
       " 'active': True,\n",
       " 'activenessFailures': None,\n",
       " 'authorizedAt': '2023-07-17T08:52:15.960677Z',\n",
       " 'completed': True,\n",
       " 'completenessFailures': None,\n",
       " 'createdAt': '2023-07-17T15:52:04.3018Z',\n",
       " 'description': 'Template for admin merit',\n",
       " 'fields': [{'canShare': False,\n",
       "   'description': \"Use this to store recipient's first name\",\n",
       "   'fieldKind': {'fieldType': 'Text',\n",
       "    'id': 'a9fa2832-4107-4c95-b7d8-0cdd15a7e2bc',\n",
       "    'name': 'Text'},\n",
       "   'name': 'First Name',\n",
       "   'templateFieldID': '1b397a27-14a0-4d43-a36f-6006611f4073',\n",
       "   'templateFieldLineage': ['3dc3f769-70cc-4e7e-81cc-ed103f9eb601'],\n",
       "   'updatedAt': '2023-07-17T15:52:19.496539Z',\n",
       "   'validationErrors': None,\n",
       "   'value': 'Hank'},\n",
       "  {'canShare': False,\n",
       "   'description': \"Use this to store recipient's last name\",\n",
       "   'fieldKind': {'fieldType': 'Text',\n",
       "    'id': 'a9fa2832-4107-4c95-b7d8-0cdd15a7e2bc',\n",
       "    'name': 'Text'},\n",
       "   'name': 'Last Name',\n",
       "   'templateFieldID': '1a7fbab6-db84-49df-8196-a971afcde447',\n",
       "   'templateFieldLineage': ['5029dd4c-9879-46cd-81ac-0f75ca0c46fb'],\n",
       "   'updatedAt': '2023-07-17T15:52:19.496539Z',\n",
       "   'validationErrors': None,\n",
       "   'value': 'Lindgren'},\n",
       "  {'canShare': False,\n",
       "   'description': \"Use this to store recipient's email address\",\n",
       "   'fieldKind': {'fieldType': 'Email',\n",
       "    'id': '0341c64a-f276-4b9f-8872-4c9f9268830b',\n",
       "    'name': 'Email'},\n",
       "   'name': 'Email',\n",
       "   'templateFieldID': '9d2c72c3-d801-4bd7-baf9-c92b3825f880',\n",
       "   'templateFieldLineage': ['9fe900b5-c2d2-4130-a72c-bb03bd623324'],\n",
       "   'updatedAt': '2023-07-17T15:52:19.496539Z',\n",
       "   'validationErrors': None,\n",
       "   'value': 'oleg+user2@gomerits.com'},\n",
       "  {'canShare': False,\n",
       "   'description': 'Use this to store the name of the Organization issuing this Merit',\n",
       "   'fieldKind': {'fieldType': 'Text',\n",
       "    'id': 'a9fa2832-4107-4c95-b7d8-0cdd15a7e2bc',\n",
       "    'name': 'Text'},\n",
       "   'name': 'Issuing Org Name',\n",
       "   'templateFieldID': '2a5cbf54-9eb3-4da4-a6c5-583a1add0205',\n",
       "   'templateFieldLineage': ['9a516485-b702-4a62-b4a5-edb2edb4ba49'],\n",
       "   'updatedAt': '2023-07-17T15:52:19.496539Z',\n",
       "   'validationErrors': None,\n",
       "   'value': 'Merit International, Inc.'},\n",
       "  {'canShare': False,\n",
       "   'description': 'Field to store Org UUID',\n",
       "   'fieldKind': {'fieldType': 'Text',\n",
       "    'id': 'a9fa2832-4107-4c95-b7d8-0cdd15a7e2bc',\n",
       "    'name': 'Text'},\n",
       "   'name': 'Org UUID',\n",
       "   'templateFieldID': 'dc3f107f-1ea0-4dae-8695-866d7d721df0',\n",
       "   'templateFieldLineage': [],\n",
       "   'updatedAt': '2023-07-17T15:52:19.496539Z',\n",
       "   'validationErrors': None,\n",
       "   'value': 'user2'},\n",
       "  {'canShare': False,\n",
       "   'description': 'Field to store Admin Phone Number',\n",
       "   'fieldKind': {'fieldType': 'PhoneNumber',\n",
       "    'id': '7157ea5d-5975-419a-87f0-3f12e9ae0bcc',\n",
       "    'name': 'PhoneNumber'},\n",
       "   'name': 'Admin Phone Number',\n",
       "   'templateFieldID': 'e90e34e2-6429-4bfb-8ca1-fe11b3bad713',\n",
       "   'templateFieldLineage': [],\n",
       "   'updatedAt': '2023-07-17T15:52:19.496539Z',\n",
       "   'validationErrors': None,\n",
       "   'value': '6317070926'},\n",
       "  {'canShare': False,\n",
       "   'description': 'Field to store Org Legal Name',\n",
       "   'fieldKind': {'fieldType': 'Text',\n",
       "    'id': 'a9fa2832-4107-4c95-b7d8-0cdd15a7e2bc',\n",
       "    'name': 'Text'},\n",
       "   'name': 'Org Legal Name',\n",
       "   'templateFieldID': '137c9f13-eccf-4baa-8577-958302e1969c',\n",
       "   'templateFieldLineage': [],\n",
       "   'updatedAt': '2023-07-17T15:52:19.496539Z',\n",
       "   'validationErrors': None,\n",
       "   'value': 'Org legal name 74d00472-85d5-4c6b-81d3-5b6353a8a7fd'},\n",
       "  {'canShare': False,\n",
       "   'description': 'Field to store Org Name',\n",
       "   'fieldKind': {'fieldType': 'Text',\n",
       "    'id': 'a9fa2832-4107-4c95-b7d8-0cdd15a7e2bc',\n",
       "    'name': 'Text'},\n",
       "   'name': 'Org Name',\n",
       "   'templateFieldID': '3aec2732-acad-4fba-8dd3-c97c390c0129',\n",
       "   'templateFieldLineage': [],\n",
       "   'updatedAt': '2023-07-17T15:52:19.496539Z',\n",
       "   'validationErrors': None,\n",
       "   'value': 'Organization Name b6e9f27b-6214-4f57-a670-5e02d2a1fdeb'},\n",
       "  {'canShare': False,\n",
       "   'description': 'Field to store Org Description',\n",
       "   'fieldKind': {'fieldType': 'Text',\n",
       "    'id': 'a9fa2832-4107-4c95-b7d8-0cdd15a7e2bc',\n",
       "    'name': 'Text'},\n",
       "   'name': 'Org Description',\n",
       "   'templateFieldID': '884fd153-2bf5-4f26-8cae-4bb75c538561',\n",
       "   'templateFieldLineage': [],\n",
       "   'updatedAt': '2023-07-17T15:52:19.496539Z',\n",
       "   'validationErrors': None,\n",
       "   'value': 'This is very important organization'},\n",
       "  {'canShare': False,\n",
       "   'description': 'Field to store Org Governing Country',\n",
       "   'fieldKind': {'fieldType': 'Text',\n",
       "    'id': 'a9fa2832-4107-4c95-b7d8-0cdd15a7e2bc',\n",
       "    'name': 'Text'},\n",
       "   'name': 'Org Governing Country',\n",
       "   'templateFieldID': 'af7c9abd-c579-4075-a63a-208002e07aea',\n",
       "   'templateFieldLineage': [],\n",
       "   'updatedAt': '2023-07-17T15:52:19.496539Z',\n",
       "   'validationErrors': None,\n",
       "   'value': 'US'},\n",
       "  {'canShare': False,\n",
       "   'description': 'Field to store Org Governing State',\n",
       "   'fieldKind': {'fieldType': 'Text',\n",
       "    'id': 'a9fa2832-4107-4c95-b7d8-0cdd15a7e2bc',\n",
       "    'name': 'Text'},\n",
       "   'name': 'Org Governing State',\n",
       "   'templateFieldID': '8c344f00-a9cf-437d-9974-3fc46935aa30',\n",
       "   'templateFieldLineage': [],\n",
       "   'updatedAt': '2023-07-17T15:52:19.496539Z',\n",
       "   'validationErrors': None,\n",
       "   'value': 'CA'}],\n",
       " 'issuer': {'id': '9a5eb92a-b34a-42b9-8fb7-10ce9449e83e',\n",
       "  'state': 'active',\n",
       "  'type': 'organization'},\n",
       " 'name': 'Admin merit',\n",
       " 'recipient': {'id': '196a8c8f-6fd9-456b-8193-4159b8dc3ab6',\n",
       "  'state': 'active',\n",
       "  'type': 'person'},\n",
       " 'rejectedAt': None,\n",
       " 'state': {'name': 'accepted', 'occurredAt': '2023-07-17T08:52:19.489566Z'},\n",
       " 'templateId': '72fdc5f3-dd82-489d-a6fa-42f6897a2f92',\n",
       " 'updatedAt': '2023-07-17T15:52:19.496539Z'}"
      ]
     },
     "execution_count": 3,
     "metadata": {},
     "output_type": "execute_result"
    }
   ],
   "source": [
    "merit = json.load(open(\"test_merit.json\", \"r\"))\n",
    "merit"
   ]
  },
  {
   "cell_type": "code",
   "execution_count": 4,
   "metadata": {},
   "outputs": [],
   "source": [
    "verifiable_credential = {}"
   ]
  },
  {
   "cell_type": "markdown",
   "metadata": {},
   "source": [
    "## Contexts"
   ]
  },
  {
   "cell_type": "code",
   "execution_count": 5,
   "metadata": {},
   "outputs": [],
   "source": [
    "verifiable_credential[\"@context\"] = [\n",
    "    \"https://www.w3.org/2018/credentials/v1\",\n",
    "    \"https://www.w3.org/2018/credentials/examples/v1\",\n",
    "]"
   ]
  },
  {
   "cell_type": "markdown",
   "metadata": {},
   "source": [
    "## Identifiers"
   ]
  },
  {
   "cell_type": "code",
   "execution_count": 6,
   "metadata": {},
   "outputs": [],
   "source": [
    "credential = mint_did(merit[\"id\"])\n",
    "issuer = mint_did(merit[\"issuer\"][\"id\"])\n",
    "subject = mint_did(merit[\"recipient\"][\"id\"])\n",
    "\n",
    "verifiable_credential[\"issuer\"] = issuer\n",
    "verifiable_credential[\"id\"] = credential"
   ]
  },
  {
   "cell_type": "markdown",
   "metadata": {},
   "source": [
    "## Types"
   ]
  },
  {
   "cell_type": "code",
   "execution_count": 7,
   "metadata": {},
   "outputs": [],
   "source": [
    "verifiable_credential[\"type\"] = [\"VerifiableCredential\", merit[\"name\"]]"
   ]
  },
  {
   "cell_type": "markdown",
   "metadata": {},
   "source": [
    "## Credential Subject"
   ]
  },
  {
   "cell_type": "code",
   "execution_count": 8,
   "metadata": {},
   "outputs": [],
   "source": [
    "verifiable_credential[\"credentialSubject\"] = { \n",
    "    \"id\": subject,\n",
    "    \"merit\": { field[\"name\"]: field[\"value\"] for field in merit[\"fields\"] },\n",
    "}"
   ]
  },
  {
   "cell_type": "markdown",
   "metadata": {},
   "source": [
    "## Issuance date"
   ]
  },
  {
   "cell_type": "code",
   "execution_count": 9,
   "metadata": {},
   "outputs": [],
   "source": [
    "verifiable_credential[\"issuanceDate\"] = merit[\"createdAt\"]"
   ]
  },
  {
   "cell_type": "markdown",
   "metadata": {},
   "source": [
    "## Credential Status"
   ]
  },
  {
   "cell_type": "code",
   "execution_count": 10,
   "metadata": {},
   "outputs": [],
   "source": [
    "verifiable_credential[\"credentialStatus\"] = {\n",
    "    \"id\": \"https://api.merit.com/status?foo=fum\",\n",
    "    \"type\": \"MeritCredentialStatusList2024\",\n",
    "    \"statusPurpose\": merit['state']['name'],\n",
    "    \"occurredAt\": merit['state']['occurredAt']\n",
    "}"
   ]
  },
  {
   "cell_type": "markdown",
   "metadata": {},
   "source": [
    "## Validation"
   ]
  },
  {
   "cell_type": "code",
   "execution_count": 11,
   "metadata": {},
   "outputs": [
    {
     "name": "stdout",
     "output_type": "stream",
     "text": [
      "The Verifiable Credential is valid.\n"
     ]
    }
   ],
   "source": [
    "schema = {\n",
    "    \"$schema\": \"http://json-schema.org/draft-07/schema#\",\n",
    "    \"type\": \"object\",\n",
    "    \"properties\": {\n",
    "        \"@context\": {\n",
    "            \"type\": \"array\",\n",
    "            \"items\": {\n",
    "                \"type\": \"string\"\n",
    "            },\n",
    "            \"minItems\": 1\n",
    "        },\n",
    "        \"id\": {\n",
    "            \"type\": \"string\"\n",
    "        },\n",
    "        \"type\": {\n",
    "            \"type\": \"array\",\n",
    "            \"items\": {\n",
    "                \"type\": \"string\"\n",
    "            },\n",
    "            \"contains\": {\n",
    "                \"const\": \"VerifiableCredential\"\n",
    "            }\n",
    "        },\n",
    "        \"issuer\": {\n",
    "            \"type\": \"string\"\n",
    "        },\n",
    "        \"issuanceDate\": {\n",
    "            \"type\": \"string\",\n",
    "            \"format\": \"date-time\"\n",
    "        },\n",
    "        \"credentialSubject\": {\n",
    "            \"type\": \"object\",\n",
    "            \"properties\": {\n",
    "                \"id\": {\n",
    "                    \"type\": \"string\"\n",
    "                }\n",
    "            },\n",
    "            \"required\": [\"id\"]\n",
    "        },\n",
    "        \"credentialStatus\": {\n",
    "            \"type\": \"object\",\n",
    "            \"properties\": {\n",
    "                \"id\": {\n",
    "                    \"type\": \"string\"\n",
    "                },\n",
    "                \"type\": {\n",
    "                    \"type\": \"string\"\n",
    "                },\n",
    "                \"statusPurpose\": {\n",
    "                    \"type\": \"string\"\n",
    "                },\n",
    "                \"occurredAt\": {\n",
    "                    \"type\": \"string\",\n",
    "                    \"format\": \"date-time\"\n",
    "                }\n",
    "            },\n",
    "            \"required\": [\"id\"]\n",
    "        },\n",
    "        \"proof\": {\n",
    "            \"type\": \"object\",\n",
    "            \"properties\": {\n",
    "                \"type\": {\n",
    "                    \"type\": \"string\"\n",
    "                },\n",
    "                \"created\": {\n",
    "                    \"type\": \"string\",\n",
    "                    \"format\": \"date-time\"\n",
    "                },\n",
    "                \"proofValue\": {\n",
    "                    \"type\": \"string\"\n",
    "                },\n",
    "                \"verificationMethod\": {\n",
    "                    \"type\": \"string\"\n",
    "                },\n",
    "                \"jws\": {\n",
    "                    \"type\": \"string\"\n",
    "                }\n",
    "            },\n",
    "            \"required\": [\"type\", \"created\", \"proofValue\"]\n",
    "        }\n",
    "    },\n",
    "    \"required\": [\"@context\", \"type\", \"issuer\", \"issuanceDate\", \"credentialSubject\"]#, \"proof\"]\n",
    "}\n",
    "\n",
    "try:\n",
    "    jsonschema.validate(instance=verifiable_credential, schema=schema)\n",
    "    print(\"The Verifiable Credential is valid.\")\n",
    "except jsonschema.exceptions.ValidationError as e:\n",
    "    print(\"The Verifiable Credential is not valid:\", e)"
   ]
  },
  {
   "cell_type": "markdown",
   "metadata": {},
   "source": [
    "## Proofs"
   ]
  },
  {
   "cell_type": "code",
   "execution_count": 12,
   "metadata": {},
   "outputs": [
    {
     "data": {
      "text/plain": [
       "'eyJhbGciOiJIUzI1NiIsInR5cCI6IkpXVCJ9.eyJpc3MiOiJkaWQ6bWVyaXQ6OWE1ZWI5MmEtYjM0YS00MmI5LThmYjctMTBjZTk0NDllODNlIiwic3ViIjoiZGlkOm1lcml0OjE5NmE4YzhmLTZmZDktNDU2Yi04MTkzLTQxNTliOGRjM2FiNiIsImF1ZCI6Imh0dHBzOi8vdmVyaWZpZXIuZXhhbXBsZS5nb3YiLCJleHAiOjE2OTQ4OTgzODgsIm5iZiI6MTY5NDgxMTk4OCwiaWF0IjoxNjk0ODExOTg4LCJ2YyI6eyJAY29udGV4dCI6WyJodHRwczovL3d3dy53My5vcmcvMjAxOC9jcmVkZW50aWFscy92MSIsImh0dHBzOi8vd3d3LnczLm9yZy8yMDE4L2NyZWRlbnRpYWxzL2V4YW1wbGVzL3YxIl0sImlzc3VlciI6ImRpZDptZXJpdDo5YTVlYjkyYS1iMzRhLTQyYjktOGZiNy0xMGNlOTQ0OWU4M2UiLCJpZCI6ImRpZDptZXJpdDpkYzMwODgwZC0yZDRiLTQ0N2MtOTA1ZS1iNzkwNzVhZWE5NWIiLCJ0eXBlIjpbIlZlcmlmaWFibGVDcmVkZW50aWFsIiwiQWRtaW4gbWVyaXQiXSwiY3JlZGVudGlhbFN1YmplY3QiOnsiaWQiOiJkaWQ6bWVyaXQ6MTk2YThjOGYtNmZkOS00NTZiLTgxOTMtNDE1OWI4ZGMzYWI2IiwibWVyaXQiOnsiRmlyc3QgTmFtZSI6IkhhbmsiLCJMYXN0IE5hbWUiOiJMaW5kZ3JlbiIsIkVtYWlsIjoib2xlZyt1c2VyMkBnb21lcml0cy5jb20iLCJJc3N1aW5nIE9yZyBOYW1lIjoiTWVyaXQgSW50ZXJuYXRpb25hbCwgSW5jLiIsIk9yZyBVVUlEIjoidXNlcjIiLCJBZG1pbiBQaG9uZSBOdW1iZXIiOiI2MzE3MDcwOTI2IiwiT3JnIExlZ2FsIE5hbWUiOiJPcmcgbGVnYWwgbmFtZSA3NGQwMDQ3Mi04NWQ1LTRjNmItODFkMy01YjYzNTNhOGE3ZmQiLCJPcmcgTmFtZSI6Ik9yZ2FuaXphdGlvbiBOYW1lIGI2ZTlmMjdiLTYyMTQtNGY1Ny1hNjcwLTVlMDJkMmExZmRlYiIsIk9yZyBEZXNjcmlwdGlvbiI6IlRoaXMgaXMgdmVyeSBpbXBvcnRhbnQgb3JnYW5pemF0aW9uIiwiT3JnIEdvdmVybmluZyBDb3VudHJ5IjoiVVMiLCJPcmcgR292ZXJuaW5nIFN0YXRlIjoiQ0EifX0sImlzc3VhbmNlRGF0ZSI6IjIwMjMtMDctMTdUMTU6NTI6MDQuMzAxOFoiLCJjcmVkZW50aWFsU3RhdHVzIjp7ImlkIjoiaHR0cHM6Ly9hcGkubWVyaXQuY29tL3N0YXR1cz9mb289ZnVtIiwidHlwZSI6Ik1lcml0Q3JlZGVudGlhbFN0YXR1c0xpc3QyMDI0Iiwic3RhdHVzUHVycG9zZSI6ImFjY2VwdGVkIiwib2NjdXJyZWRBdCI6IjIwMjMtMDctMTdUMDg6NTI6MTkuNDg5NTY2WiJ9fX0.4UAcR-zGP7DD8xtl7Ysq19ij0m04gIsHizNtSOi9HPc'"
      ]
     },
     "execution_count": 12,
     "metadata": {},
     "output_type": "execute_result"
    }
   ],
   "source": [
    "payload = {\n",
    "    \"iss\": issuer,  # Issuer\n",
    "    \"sub\": subject,  # Subject\n",
    "    \"aud\": \"https://verifier.example.gov\",  # Audience\n",
    "    \"exp\": datetime.datetime.utcnow() + datetime.timedelta(days=1),  # Expiration time\n",
    "    \"nbf\": datetime.datetime.utcnow(),  # Not before\n",
    "    \"iat\": datetime.datetime.utcnow(),  # Issued at\n",
    "    \"vc\": verifiable_credential  # The Verifiable Credential\n",
    "}\n",
    "secret_key = 'secret'\n",
    "jwt_token = jwt.encode(payload, secret_key, algorithm='HS256')\n",
    "jwt_token\n"
   ]
  },
  {
   "cell_type": "markdown",
   "metadata": {},
   "source": [
    "## Verification"
   ]
  },
  {
   "cell_type": "code",
   "execution_count": 13,
   "metadata": {},
   "outputs": [
    {
     "data": {
      "text/plain": [
       "{'@context': ['https://www.w3.org/2018/credentials/v1',\n",
       "  'https://www.w3.org/2018/credentials/examples/v1'],\n",
       " 'issuer': 'did:merit:9a5eb92a-b34a-42b9-8fb7-10ce9449e83e',\n",
       " 'id': 'did:merit:dc30880d-2d4b-447c-905e-b79075aea95b',\n",
       " 'type': ['VerifiableCredential', 'Admin merit'],\n",
       " 'credentialSubject': {'id': 'did:merit:196a8c8f-6fd9-456b-8193-4159b8dc3ab6',\n",
       "  'merit': {'First Name': 'Hank',\n",
       "   'Last Name': 'Lindgren',\n",
       "   'Email': 'oleg+user2@gomerits.com',\n",
       "   'Issuing Org Name': 'Merit International, Inc.',\n",
       "   'Org UUID': 'user2',\n",
       "   'Admin Phone Number': '6317070926',\n",
       "   'Org Legal Name': 'Org legal name 74d00472-85d5-4c6b-81d3-5b6353a8a7fd',\n",
       "   'Org Name': 'Organization Name b6e9f27b-6214-4f57-a670-5e02d2a1fdeb',\n",
       "   'Org Description': 'This is very important organization',\n",
       "   'Org Governing Country': 'US',\n",
       "   'Org Governing State': 'CA'}},\n",
       " 'issuanceDate': '2023-07-17T15:52:04.3018Z',\n",
       " 'credentialStatus': {'id': 'https://api.merit.com/status?foo=fum',\n",
       "  'type': 'MeritCredentialStatusList2024',\n",
       "  'statusPurpose': 'accepted',\n",
       "  'occurredAt': '2023-07-17T08:52:19.489566Z'}}"
      ]
     },
     "execution_count": 13,
     "metadata": {},
     "output_type": "execute_result"
    }
   ],
   "source": [
    "decoded_payload = jwt.decode(jwt_token, secret_key, algorithms='HS256', audience='https://verifier.example.gov')\n",
    "decoded_payload['vc']"
   ]
  },
  {
   "cell_type": "markdown",
   "metadata": {},
   "source": []
  }
 ],
 "metadata": {
  "kernelspec": {
   "display_name": "sqlite-relational-property-graph-store",
   "language": "python",
   "name": "python3"
  },
  "language_info": {
   "codemirror_mode": {
    "name": "ipython",
    "version": 3
   },
   "file_extension": ".py",
   "mimetype": "text/x-python",
   "name": "python",
   "nbconvert_exporter": "python",
   "pygments_lexer": "ipython3",
   "version": "3.11.4"
  },
  "orig_nbformat": 4
 },
 "nbformat": 4,
 "nbformat_minor": 2
}
