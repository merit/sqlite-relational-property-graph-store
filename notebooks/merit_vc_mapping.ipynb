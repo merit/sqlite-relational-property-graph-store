{
 "cells": [
  {
   "cell_type": "code",
   "execution_count": 1,
   "metadata": {},
   "outputs": [],
   "source": [
    "import json, jsonschema, jwt, datetime, rdflib"
   ]
  },
  {
   "cell_type": "code",
   "execution_count": 2,
   "metadata": {},
   "outputs": [],
   "source": [
    "def mint_did(uuid):\n",
    "    return f'did:merit:{uuid}'"
   ]
  },
  {
   "cell_type": "code",
   "execution_count": 3,
   "metadata": {},
   "outputs": [],
   "source": [
    "with open(\"test_merit.json\") as json_file:\n",
    "    merit = json.load(json_file)"
   ]
  },
  {
   "cell_type": "code",
   "execution_count": 4,
   "metadata": {},
   "outputs": [
    {
     "data": {
      "text/plain": [
       "{'id': 'dc30880d-2d4b-447c-905e-b79075aea95b',\n",
       " 'acceptedAt': '2023-07-17T08:52:19.489566Z',\n",
       " 'active': True,\n",
       " 'activenessFailures': None,\n",
       " 'authorizedAt': '2023-07-17T08:52:15.960677Z',\n",
       " 'completed': True,\n",
       " 'completenessFailures': None,\n",
       " 'createdAt': '2023-07-17T15:52:04.3018Z',\n",
       " 'description': 'Template for admin merit',\n",
       " 'fields': [{'canShare': False,\n",
       "   'description': \"Use this to store recipient's first name\",\n",
       "   'fieldKind': {'fieldType': 'Text',\n",
       "    'id': 'a9fa2832-4107-4c95-b7d8-0cdd15a7e2bc',\n",
       "    'name': 'Text'},\n",
       "   'name': 'First Name',\n",
       "   'templateFieldID': '1b397a27-14a0-4d43-a36f-6006611f4073',\n",
       "   'templateFieldLineage': ['3dc3f769-70cc-4e7e-81cc-ed103f9eb601'],\n",
       "   'updatedAt': '2023-07-17T15:52:19.496539Z',\n",
       "   'validationErrors': None,\n",
       "   'value': 'Hank'},\n",
       "  {'canShare': False,\n",
       "   'description': \"Use this to store recipient's last name\",\n",
       "   'fieldKind': {'fieldType': 'Text',\n",
       "    'id': 'a9fa2832-4107-4c95-b7d8-0cdd15a7e2bc',\n",
       "    'name': 'Text'},\n",
       "   'name': 'Last Name',\n",
       "   'templateFieldID': '1a7fbab6-db84-49df-8196-a971afcde447',\n",
       "   'templateFieldLineage': ['5029dd4c-9879-46cd-81ac-0f75ca0c46fb'],\n",
       "   'updatedAt': '2023-07-17T15:52:19.496539Z',\n",
       "   'validationErrors': None,\n",
       "   'value': 'Lindgren'},\n",
       "  {'canShare': False,\n",
       "   'description': \"Use this to store recipient's email address\",\n",
       "   'fieldKind': {'fieldType': 'Email',\n",
       "    'id': '0341c64a-f276-4b9f-8872-4c9f9268830b',\n",
       "    'name': 'Email'},\n",
       "   'name': 'Email',\n",
       "   'templateFieldID': '9d2c72c3-d801-4bd7-baf9-c92b3825f880',\n",
       "   'templateFieldLineage': ['9fe900b5-c2d2-4130-a72c-bb03bd623324'],\n",
       "   'updatedAt': '2023-07-17T15:52:19.496539Z',\n",
       "   'validationErrors': None,\n",
       "   'value': 'oleg+user2@gomerits.com'},\n",
       "  {'canShare': False,\n",
       "   'description': 'Use this to store the name of the Organization issuing this Merit',\n",
       "   'fieldKind': {'fieldType': 'Text',\n",
       "    'id': 'a9fa2832-4107-4c95-b7d8-0cdd15a7e2bc',\n",
       "    'name': 'Text'},\n",
       "   'name': 'Issuing Org Name',\n",
       "   'templateFieldID': '2a5cbf54-9eb3-4da4-a6c5-583a1add0205',\n",
       "   'templateFieldLineage': ['9a516485-b702-4a62-b4a5-edb2edb4ba49'],\n",
       "   'updatedAt': '2023-07-17T15:52:19.496539Z',\n",
       "   'validationErrors': None,\n",
       "   'value': 'Merit International, Inc.'},\n",
       "  {'canShare': False,\n",
       "   'description': 'Field to store Org UUID',\n",
       "   'fieldKind': {'fieldType': 'Text',\n",
       "    'id': 'a9fa2832-4107-4c95-b7d8-0cdd15a7e2bc',\n",
       "    'name': 'Text'},\n",
       "   'name': 'Org UUID',\n",
       "   'templateFieldID': 'dc3f107f-1ea0-4dae-8695-866d7d721df0',\n",
       "   'templateFieldLineage': [],\n",
       "   'updatedAt': '2023-07-17T15:52:19.496539Z',\n",
       "   'validationErrors': None,\n",
       "   'value': 'user2'},\n",
       "  {'canShare': False,\n",
       "   'description': 'Field to store Admin Phone Number',\n",
       "   'fieldKind': {'fieldType': 'PhoneNumber',\n",
       "    'id': '7157ea5d-5975-419a-87f0-3f12e9ae0bcc',\n",
       "    'name': 'PhoneNumber'},\n",
       "   'name': 'Admin Phone Number',\n",
       "   'templateFieldID': 'e90e34e2-6429-4bfb-8ca1-fe11b3bad713',\n",
       "   'templateFieldLineage': [],\n",
       "   'updatedAt': '2023-07-17T15:52:19.496539Z',\n",
       "   'validationErrors': None,\n",
       "   'value': '6317070926'},\n",
       "  {'canShare': False,\n",
       "   'description': 'Field to store Org Legal Name',\n",
       "   'fieldKind': {'fieldType': 'Text',\n",
       "    'id': 'a9fa2832-4107-4c95-b7d8-0cdd15a7e2bc',\n",
       "    'name': 'Text'},\n",
       "   'name': 'Org Legal Name',\n",
       "   'templateFieldID': '137c9f13-eccf-4baa-8577-958302e1969c',\n",
       "   'templateFieldLineage': [],\n",
       "   'updatedAt': '2023-07-17T15:52:19.496539Z',\n",
       "   'validationErrors': None,\n",
       "   'value': 'Org legal name 74d00472-85d5-4c6b-81d3-5b6353a8a7fd'},\n",
       "  {'canShare': False,\n",
       "   'description': 'Field to store Org Name',\n",
       "   'fieldKind': {'fieldType': 'Text',\n",
       "    'id': 'a9fa2832-4107-4c95-b7d8-0cdd15a7e2bc',\n",
       "    'name': 'Text'},\n",
       "   'name': 'Org Name',\n",
       "   'templateFieldID': '3aec2732-acad-4fba-8dd3-c97c390c0129',\n",
       "   'templateFieldLineage': [],\n",
       "   'updatedAt': '2023-07-17T15:52:19.496539Z',\n",
       "   'validationErrors': None,\n",
       "   'value': 'Organization Name b6e9f27b-6214-4f57-a670-5e02d2a1fdeb'},\n",
       "  {'canShare': False,\n",
       "   'description': 'Field to store Org Description',\n",
       "   'fieldKind': {'fieldType': 'Text',\n",
       "    'id': 'a9fa2832-4107-4c95-b7d8-0cdd15a7e2bc',\n",
       "    'name': 'Text'},\n",
       "   'name': 'Org Description',\n",
       "   'templateFieldID': '884fd153-2bf5-4f26-8cae-4bb75c538561',\n",
       "   'templateFieldLineage': [],\n",
       "   'updatedAt': '2023-07-17T15:52:19.496539Z',\n",
       "   'validationErrors': None,\n",
       "   'value': 'This is very important organization'},\n",
       "  {'canShare': False,\n",
       "   'description': 'Field to store Org Governing Country',\n",
       "   'fieldKind': {'fieldType': 'Text',\n",
       "    'id': 'a9fa2832-4107-4c95-b7d8-0cdd15a7e2bc',\n",
       "    'name': 'Text'},\n",
       "   'name': 'Org Governing Country',\n",
       "   'templateFieldID': 'af7c9abd-c579-4075-a63a-208002e07aea',\n",
       "   'templateFieldLineage': [],\n",
       "   'updatedAt': '2023-07-17T15:52:19.496539Z',\n",
       "   'validationErrors': None,\n",
       "   'value': 'US'},\n",
       "  {'canShare': False,\n",
       "   'description': 'Field to store Org Governing State',\n",
       "   'fieldKind': {'fieldType': 'Text',\n",
       "    'id': 'a9fa2832-4107-4c95-b7d8-0cdd15a7e2bc',\n",
       "    'name': 'Text'},\n",
       "   'name': 'Org Governing State',\n",
       "   'templateFieldID': '8c344f00-a9cf-437d-9974-3fc46935aa30',\n",
       "   'templateFieldLineage': [],\n",
       "   'updatedAt': '2023-07-17T15:52:19.496539Z',\n",
       "   'validationErrors': None,\n",
       "   'value': 'CA'}],\n",
       " 'issuer': {'id': '9a5eb92a-b34a-42b9-8fb7-10ce9449e83e',\n",
       "  'state': 'active',\n",
       "  'type': 'organization'},\n",
       " 'name': 'Admin merit',\n",
       " 'recipient': {'id': '196a8c8f-6fd9-456b-8193-4159b8dc3ab6',\n",
       "  'state': 'active',\n",
       "  'type': 'person'},\n",
       " 'rejectedAt': None,\n",
       " 'state': {'name': 'accepted', 'occurredAt': '2023-07-17T08:52:19.489566Z'},\n",
       " 'templateId': '72fdc5f3-dd82-489d-a6fa-42f6897a2f92',\n",
       " 'updatedAt': '2023-07-17T15:52:19.496539Z'}"
      ]
     },
     "execution_count": 4,
     "metadata": {},
     "output_type": "execute_result"
    }
   ],
   "source": [
    "merit"
   ]
  },
  {
   "cell_type": "code",
   "execution_count": 5,
   "metadata": {},
   "outputs": [],
   "source": [
    "verifiable_credential = {}"
   ]
  },
  {
   "cell_type": "markdown",
   "metadata": {},
   "source": [
    "## Contexts\n",
    "- Add a JSON-LD context to establish IRIs for field names.\n",
    "- Add context for VCs."
   ]
  },
  {
   "cell_type": "code",
   "execution_count": 6,
   "metadata": {},
   "outputs": [],
   "source": [
    "verifiable_credential[\"@context\"] = [\n",
    "    \"https://www.w3.org/2018/credentials/v1\",\n",
    "    \"https://www.w3.org/2018/credentials/examples/v1\",\n",
    "]"
   ]
  },
  {
   "cell_type": "markdown",
   "metadata": {},
   "source": [
    "## Identifiers\n",
    "- Issuer\n",
    "- Holder\n",
    "- Credential"
   ]
  },
  {
   "cell_type": "code",
   "execution_count": 7,
   "metadata": {},
   "outputs": [],
   "source": [
    "credential = mint_did(merit[\"id\"])\n",
    "issuer = mint_did(merit[\"issuer\"][\"id\"])\n",
    "subject = mint_did(merit[\"recipient\"][\"id\"])\n",
    "\n",
    "verifiable_credential[\"issuer\"] = issuer\n",
    "verifiable_credential[\"id\"] = credential"
   ]
  },
  {
   "cell_type": "markdown",
   "metadata": {},
   "source": [
    "## Types"
   ]
  },
  {
   "cell_type": "code",
   "execution_count": 8,
   "metadata": {},
   "outputs": [],
   "source": [
    "verifiable_credential[\"type\"] = [\"VerifiableCredential\", merit[\"name\"]]"
   ]
  },
  {
   "cell_type": "markdown",
   "metadata": {},
   "source": [
    "## Credential Subject"
   ]
  },
  {
   "cell_type": "code",
   "execution_count": 9,
   "metadata": {},
   "outputs": [],
   "source": [
    "verifiable_credential[\"credentialSubject\"] = { \n",
    "    \"id\": subject,\n",
    "    \"merit\": { field[\"name\"]: field[\"value\"] for field in merit[\"fields\"] },\n",
    "}"
   ]
  },
  {
   "cell_type": "markdown",
   "metadata": {},
   "source": [
    "## Issuance date"
   ]
  },
  {
   "cell_type": "code",
   "execution_count": 10,
   "metadata": {},
   "outputs": [],
   "source": [
    "verifiable_credential[\"issuanceDate\"] = merit[\"createdAt\"]"
   ]
  },
  {
   "cell_type": "code",
   "execution_count": 11,
   "metadata": {},
   "outputs": [
    {
     "data": {
      "text/plain": [
       "{'@context': ['https://www.w3.org/2018/credentials/v1',\n",
       "  'https://www.w3.org/2018/credentials/examples/v1'],\n",
       " 'issuer': 'did:merit:9a5eb92a-b34a-42b9-8fb7-10ce9449e83e',\n",
       " 'id': 'did:merit:dc30880d-2d4b-447c-905e-b79075aea95b',\n",
       " 'type': ['VerifiableCredential', 'Admin merit'],\n",
       " 'credentialSubject': {'id': 'did:merit:196a8c8f-6fd9-456b-8193-4159b8dc3ab6',\n",
       "  'merit': {'First Name': 'Hank',\n",
       "   'Last Name': 'Lindgren',\n",
       "   'Email': 'oleg+user2@gomerits.com',\n",
       "   'Issuing Org Name': 'Merit International, Inc.',\n",
       "   'Org UUID': 'user2',\n",
       "   'Admin Phone Number': '6317070926',\n",
       "   'Org Legal Name': 'Org legal name 74d00472-85d5-4c6b-81d3-5b6353a8a7fd',\n",
       "   'Org Name': 'Organization Name b6e9f27b-6214-4f57-a670-5e02d2a1fdeb',\n",
       "   'Org Description': 'This is very important organization',\n",
       "   'Org Governing Country': 'US',\n",
       "   'Org Governing State': 'CA'}},\n",
       " 'issuanceDate': '2023-07-17T15:52:04.3018Z'}"
      ]
     },
     "execution_count": 11,
     "metadata": {},
     "output_type": "execute_result"
    }
   ],
   "source": [
    "verifiable_credential"
   ]
  },
  {
   "cell_type": "markdown",
   "metadata": {},
   "source": [
    "## Proofs"
   ]
  },
  {
   "cell_type": "code",
   "execution_count": 12,
   "metadata": {},
   "outputs": [
    {
     "ename": "NameError",
     "evalue": "name 'holder' is not defined",
     "output_type": "error",
     "traceback": [
      "\u001b[0;31m---------------------------------------------------------------------------\u001b[0m",
      "\u001b[0;31mNameError\u001b[0m                                 Traceback (most recent call last)",
      "\u001b[1;32m/Users/bradley/Documents/GitHub/sqlite-relational-property-graph-store/notebooks/merit_vc_mapping.ipynb Cell 18\u001b[0m line \u001b[0;36m3\n\u001b[1;32m      <a href='vscode-notebook-cell:/Users/bradley/Documents/GitHub/sqlite-relational-property-graph-store/notebooks/merit_vc_mapping.ipynb#X40sZmlsZQ%3D%3D?line=0'>1</a>\u001b[0m payload \u001b[39m=\u001b[39m {\n\u001b[1;32m      <a href='vscode-notebook-cell:/Users/bradley/Documents/GitHub/sqlite-relational-property-graph-store/notebooks/merit_vc_mapping.ipynb#X40sZmlsZQ%3D%3D?line=1'>2</a>\u001b[0m     \u001b[39m\"\u001b[39m\u001b[39miss\u001b[39m\u001b[39m\"\u001b[39m: issuer,  \u001b[39m# Issuer\u001b[39;00m\n\u001b[0;32m----> <a href='vscode-notebook-cell:/Users/bradley/Documents/GitHub/sqlite-relational-property-graph-store/notebooks/merit_vc_mapping.ipynb#X40sZmlsZQ%3D%3D?line=2'>3</a>\u001b[0m     \u001b[39m\"\u001b[39m\u001b[39msub\u001b[39m\u001b[39m\"\u001b[39m: holder,  \u001b[39m# Subject\u001b[39;00m\n\u001b[1;32m      <a href='vscode-notebook-cell:/Users/bradley/Documents/GitHub/sqlite-relational-property-graph-store/notebooks/merit_vc_mapping.ipynb#X40sZmlsZQ%3D%3D?line=3'>4</a>\u001b[0m     \u001b[39m\"\u001b[39m\u001b[39maud\u001b[39m\u001b[39m\"\u001b[39m: \u001b[39m\"\u001b[39m\u001b[39mhttps://verifier.example.gov\u001b[39m\u001b[39m\"\u001b[39m,  \u001b[39m# Audience\u001b[39;00m\n\u001b[1;32m      <a href='vscode-notebook-cell:/Users/bradley/Documents/GitHub/sqlite-relational-property-graph-store/notebooks/merit_vc_mapping.ipynb#X40sZmlsZQ%3D%3D?line=4'>5</a>\u001b[0m     \u001b[39m\"\u001b[39m\u001b[39mexp\u001b[39m\u001b[39m\"\u001b[39m: datetime\u001b[39m.\u001b[39mdatetime\u001b[39m.\u001b[39mutcnow() \u001b[39m+\u001b[39m datetime\u001b[39m.\u001b[39mtimedelta(days\u001b[39m=\u001b[39m\u001b[39m1\u001b[39m),  \u001b[39m# Expiration time\u001b[39;00m\n\u001b[1;32m      <a href='vscode-notebook-cell:/Users/bradley/Documents/GitHub/sqlite-relational-property-graph-store/notebooks/merit_vc_mapping.ipynb#X40sZmlsZQ%3D%3D?line=5'>6</a>\u001b[0m     \u001b[39m\"\u001b[39m\u001b[39mnbf\u001b[39m\u001b[39m\"\u001b[39m: datetime\u001b[39m.\u001b[39mdatetime\u001b[39m.\u001b[39mutcnow(),  \u001b[39m# Not before\u001b[39;00m\n\u001b[1;32m      <a href='vscode-notebook-cell:/Users/bradley/Documents/GitHub/sqlite-relational-property-graph-store/notebooks/merit_vc_mapping.ipynb#X40sZmlsZQ%3D%3D?line=6'>7</a>\u001b[0m     \u001b[39m\"\u001b[39m\u001b[39miat\u001b[39m\u001b[39m\"\u001b[39m: datetime\u001b[39m.\u001b[39mdatetime\u001b[39m.\u001b[39mutcnow(),  \u001b[39m# Issued at\u001b[39;00m\n\u001b[1;32m      <a href='vscode-notebook-cell:/Users/bradley/Documents/GitHub/sqlite-relational-property-graph-store/notebooks/merit_vc_mapping.ipynb#X40sZmlsZQ%3D%3D?line=7'>8</a>\u001b[0m     \u001b[39m\"\u001b[39m\u001b[39mvc\u001b[39m\u001b[39m\"\u001b[39m: verifiable_credential  \u001b[39m# The Verifiable Credential\u001b[39;00m\n\u001b[1;32m      <a href='vscode-notebook-cell:/Users/bradley/Documents/GitHub/sqlite-relational-property-graph-store/notebooks/merit_vc_mapping.ipynb#X40sZmlsZQ%3D%3D?line=8'>9</a>\u001b[0m }\n\u001b[1;32m     <a href='vscode-notebook-cell:/Users/bradley/Documents/GitHub/sqlite-relational-property-graph-store/notebooks/merit_vc_mapping.ipynb#X40sZmlsZQ%3D%3D?line=9'>10</a>\u001b[0m secret_key \u001b[39m=\u001b[39m \u001b[39m'\u001b[39m\u001b[39msecret\u001b[39m\u001b[39m'\u001b[39m\n\u001b[1;32m     <a href='vscode-notebook-cell:/Users/bradley/Documents/GitHub/sqlite-relational-property-graph-store/notebooks/merit_vc_mapping.ipynb#X40sZmlsZQ%3D%3D?line=10'>11</a>\u001b[0m jwt_token \u001b[39m=\u001b[39m jwt\u001b[39m.\u001b[39mencode(payload, secret_key, algorithm\u001b[39m=\u001b[39m\u001b[39m'\u001b[39m\u001b[39mHS256\u001b[39m\u001b[39m'\u001b[39m)\n",
      "\u001b[0;31mNameError\u001b[0m: name 'holder' is not defined"
     ]
    }
   ],
   "source": [
    "payload = {\n",
    "    \"iss\": issuer,  # Issuer\n",
    "    \"sub\": holder,  # Subject\n",
    "    \"aud\": \"https://verifier.example.gov\",  # Audience\n",
    "    \"exp\": datetime.datetime.utcnow() + datetime.timedelta(days=1),  # Expiration time\n",
    "    \"nbf\": datetime.datetime.utcnow(),  # Not before\n",
    "    \"iat\": datetime.datetime.utcnow(),  # Issued at\n",
    "    \"vc\": verifiable_credential  # The Verifiable Credential\n",
    "}\n",
    "secret_key = 'secret'\n",
    "jwt_token = jwt.encode(payload, secret_key, algorithm='HS256')\n",
    "jwt_token\n"
   ]
  },
  {
   "cell_type": "code",
   "execution_count": null,
   "metadata": {},
   "outputs": [
    {
     "name": "stdout",
     "output_type": "stream",
     "text": [
      "The JWT-based proof for the Verifiable Credential is: eyJhbGciOiJIUzI1NiIsInR5cCI6IkpXVCJ9.eyJpc3MiOiJkaWQ6bWVyaXQ6OWE1ZWI5MmEtYjM0YS00MmI5LThmYjctMTBjZTk0NDllODNlIiwic3ViIjoiZGlkOm1lcml0OjE5NmE4YzhmLTZmZDktNDU2Yi04MTkzLTQxNTliOGRjM2FiNiIsImF1ZCI6Imh0dHBzOi8vdmVyaWZpZXIuZXhhbXBsZS5nb3YiLCJleHAiOjE2OTQ4ODExMTMsIm5iZiI6MTY5NDc5NDcxMywiaWF0IjoxNjk0Nzk0NzEzLCJ2YyI6eyJAY29udGV4dCI6WyJodHRwczovL3d3dy53My5vcmcvMjAxOC9jcmVkZW50aWFscy92MSJdLCJpc3N1ZXIiOiJkaWQ6bWVyaXQ6OWE1ZWI5MmEtYjM0YS00MmI5LThmYjctMTBjZTk0NDllODNlIiwiaWQiOiJkaWQ6bWVyaXQ6ZGMzMDg4MGQtMmQ0Yi00NDdjLTkwNWUtYjc5MDc1YWVhOTViIiwidHlwZSI6WyJWZXJpZmlhYmxlQ3JlZGVudGlhbCIsIkFkbWluX21lcml0Il0sImNyZWRlbnRpYWxTdWJqZWN0Ijp7ImlkIjoiZGlkOm1lcml0OjE5NmE4YzhmLTZmZDktNDU2Yi04MTkzLTQxNTliOGRjM2FiNiIsIm1lcml0Ijp7IkZpcnN0IE5hbWUiOiJIYW5rIiwiTGFzdCBOYW1lIjoiTGluZGdyZW4iLCJFbWFpbCI6Im9sZWcrdXNlcjJAZ29tZXJpdHMuY29tIiwiSXNzdWluZyBPcmcgTmFtZSI6Ik1lcml0IEludGVybmF0aW9uYWwsIEluYy4iLCJPcmcgVVVJRCI6InVzZXIyIiwiQWRtaW4gUGhvbmUgTnVtYmVyIjoiNjMxNzA3MDkyNiIsIk9yZyBMZWdhbCBOYW1lIjoiT3JnIGxlZ2FsIG5hbWUgNzRkMDA0NzItODVkNS00YzZiLTgxZDMtNWI2MzUzYThhN2ZkIiwiT3JnIE5hbWUiOiJPcmdhbml6YXRpb24gTmFtZSBiNmU5ZjI3Yi02MjE0LTRmNTctYTY3MC01ZTAyZDJhMWZkZWIiLCJPcmcgRGVzY3JpcHRpb24iOiJUaGlzIGlzIHZlcnkgaW1wb3J0YW50IG9yZ2FuaXphdGlvbiIsIk9yZyBHb3Zlcm5pbmcgQ291bnRyeSI6IlVTIiwiT3JnIEdvdmVybmluZyBTdGF0ZSI6IkNBIn19LCJpc3N1YW5jZURhdGUiOiIyMDIzLTA3LTE3VDE1OjUyOjA0LjMwMThaIn19.xV7xBcauN2UYhHu0OsTTw51dfn1bgKF_TLUrAK37Ksg\n",
      "The decoded Verifiable Credential is: {\n",
      "    \"@context\": [\n",
      "        \"https://www.w3.org/2018/credentials/v1\"\n",
      "    ],\n",
      "    \"issuer\": \"did:merit:9a5eb92a-b34a-42b9-8fb7-10ce9449e83e\",\n",
      "    \"id\": \"did:merit:dc30880d-2d4b-447c-905e-b79075aea95b\",\n",
      "    \"type\": [\n",
      "        \"VerifiableCredential\",\n",
      "        \"Admin_merit\"\n",
      "    ],\n",
      "    \"credentialSubject\": {\n",
      "        \"id\": \"did:merit:196a8c8f-6fd9-456b-8193-4159b8dc3ab6\",\n",
      "        \"merit\": {\n",
      "            \"First Name\": \"Hank\",\n",
      "            \"Last Name\": \"Lindgren\",\n",
      "            \"Email\": \"oleg+user2@gomerits.com\",\n",
      "            \"Issuing Org Name\": \"Merit International, Inc.\",\n",
      "            \"Org UUID\": \"user2\",\n",
      "            \"Admin Phone Number\": \"6317070926\",\n",
      "            \"Org Legal Name\": \"Org legal name 74d00472-85d5-4c6b-81d3-5b6353a8a7fd\",\n",
      "            \"Org Name\": \"Organization Name b6e9f27b-6214-4f57-a670-5e02d2a1fdeb\",\n",
      "            \"Org Description\": \"This is very important organization\",\n",
      "            \"Org Governing Country\": \"US\",\n",
      "            \"Org Governing State\": \"CA\"\n",
      "        }\n",
      "    },\n",
      "    \"issuanceDate\": \"2023-07-17T15:52:04.3018Z\"\n",
      "}\n"
     ]
    }
   ],
   "source": [
    "decoded_payload = jwt.decode(jwt_token, secret_key, algorithms='HS256', audience='https://verifier.example.gov')\n",
    "json.dumps(decoded_payload['vc'], indent=4)"
   ]
  },
  {
   "cell_type": "markdown",
   "metadata": {},
   "source": [
    "## Expiration"
   ]
  },
  {
   "cell_type": "code",
   "execution_count": null,
   "metadata": {},
   "outputs": [],
   "source": []
  },
  {
   "cell_type": "markdown",
   "metadata": {},
   "source": [
    "## Status"
   ]
  },
  {
   "cell_type": "code",
   "execution_count": null,
   "metadata": {},
   "outputs": [],
   "source": []
  },
  {
   "cell_type": "markdown",
   "metadata": {},
   "source": [
    "## Validation"
   ]
  },
  {
   "cell_type": "code",
   "execution_count": null,
   "metadata": {},
   "outputs": [],
   "source": []
  },
  {
   "cell_type": "markdown",
   "metadata": {},
   "source": []
  }
 ],
 "metadata": {
  "kernelspec": {
   "display_name": "sqlite-relational-property-graph-store",
   "language": "python",
   "name": "python3"
  },
  "language_info": {
   "codemirror_mode": {
    "name": "ipython",
    "version": 3
   },
   "file_extension": ".py",
   "mimetype": "text/x-python",
   "name": "python",
   "nbconvert_exporter": "python",
   "pygments_lexer": "ipython3",
   "version": "3.11.4"
  },
  "orig_nbformat": 4
 },
 "nbformat": 4,
 "nbformat_minor": 2
}
